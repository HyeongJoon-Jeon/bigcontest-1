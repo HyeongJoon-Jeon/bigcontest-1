{
 "cells": [
  {
   "cell_type": "code",
   "execution_count": 1,
   "id": "96ef5925",
   "metadata": {},
   "outputs": [],
   "source": [
    "import pandas as pd\n",
    "import numpy as np\n",
    "import matplotlib.pyplot as plt"
   ]
  },
  {
   "cell_type": "code",
   "execution_count": 2,
   "id": "b6a78689",
   "metadata": {},
   "outputs": [],
   "source": [
    "df = pd.read_csv(\"C:\\\\Users\\\\dayfl\\\\Desktop\\\\2021 빅콘테스트_데이터분석분야_퓨처스리그_ECO제주_데이터_210806_update\\\\01_제공데이터\\\\02-1_내국인유동인구_KOREAN.csv\", encoding = \"cp949\")"
   ]
  },
  {
   "cell_type": "code",
   "execution_count": 3,
   "id": "2bddc1df",
   "metadata": {},
   "outputs": [
    {
     "data": {
      "text/html": [
       "<div>\n",
       "<style scoped>\n",
       "    .dataframe tbody tr th:only-of-type {\n",
       "        vertical-align: middle;\n",
       "    }\n",
       "\n",
       "    .dataframe tbody tr th {\n",
       "        vertical-align: top;\n",
       "    }\n",
       "\n",
       "    .dataframe thead th {\n",
       "        text-align: right;\n",
       "    }\n",
       "</style>\n",
       "<table border=\"1\" class=\"dataframe\">\n",
       "  <thead>\n",
       "    <tr style=\"text-align: right;\">\n",
       "      <th></th>\n",
       "      <th>base_date</th>\n",
       "      <th>time</th>\n",
       "      <th>city</th>\n",
       "      <th>emd_cd</th>\n",
       "      <th>emd_nm</th>\n",
       "      <th>sex</th>\n",
       "      <th>age</th>\n",
       "      <th>resd_pop_cnt</th>\n",
       "      <th>work_pop_cnt</th>\n",
       "      <th>visit_pop_cnt</th>\n",
       "      <th>resd</th>\n",
       "    </tr>\n",
       "  </thead>\n",
       "  <tbody>\n",
       "    <tr>\n",
       "      <th>0</th>\n",
       "      <td>2018-01-01</td>\n",
       "      <td>1</td>\n",
       "      <td>제주시</td>\n",
       "      <td>50110250</td>\n",
       "      <td>한림읍</td>\n",
       "      <td>여성</td>\n",
       "      <td>0</td>\n",
       "      <td>638.5509</td>\n",
       "      <td>15.5400</td>\n",
       "      <td>151.5149</td>\n",
       "      <td>제주</td>\n",
       "    </tr>\n",
       "    <tr>\n",
       "      <th>1</th>\n",
       "      <td>2018-01-01</td>\n",
       "      <td>1</td>\n",
       "      <td>제주시</td>\n",
       "      <td>50110250</td>\n",
       "      <td>한림읍</td>\n",
       "      <td>여성</td>\n",
       "      <td>0</td>\n",
       "      <td>0.0000</td>\n",
       "      <td>3.7249</td>\n",
       "      <td>171.3458</td>\n",
       "      <td>그외</td>\n",
       "    </tr>\n",
       "    <tr>\n",
       "      <th>2</th>\n",
       "      <td>2018-01-01</td>\n",
       "      <td>1</td>\n",
       "      <td>제주시</td>\n",
       "      <td>50110250</td>\n",
       "      <td>한림읍</td>\n",
       "      <td>여성</td>\n",
       "      <td>10</td>\n",
       "      <td>668.4577</td>\n",
       "      <td>17.0308</td>\n",
       "      <td>166.0500</td>\n",
       "      <td>제주</td>\n",
       "    </tr>\n",
       "    <tr>\n",
       "      <th>3</th>\n",
       "      <td>2018-01-01</td>\n",
       "      <td>1</td>\n",
       "      <td>제주시</td>\n",
       "      <td>50110250</td>\n",
       "      <td>한림읍</td>\n",
       "      <td>여성</td>\n",
       "      <td>10</td>\n",
       "      <td>0.0000</td>\n",
       "      <td>4.2577</td>\n",
       "      <td>195.8539</td>\n",
       "      <td>그외</td>\n",
       "    </tr>\n",
       "    <tr>\n",
       "      <th>4</th>\n",
       "      <td>2018-01-01</td>\n",
       "      <td>1</td>\n",
       "      <td>제주시</td>\n",
       "      <td>50110250</td>\n",
       "      <td>한림읍</td>\n",
       "      <td>여성</td>\n",
       "      <td>20</td>\n",
       "      <td>609.7710</td>\n",
       "      <td>5.9490</td>\n",
       "      <td>148.7246</td>\n",
       "      <td>제주</td>\n",
       "    </tr>\n",
       "    <tr>\n",
       "      <th>...</th>\n",
       "      <td>...</td>\n",
       "      <td>...</td>\n",
       "      <td>...</td>\n",
       "      <td>...</td>\n",
       "      <td>...</td>\n",
       "      <td>...</td>\n",
       "      <td>...</td>\n",
       "      <td>...</td>\n",
       "      <td>...</td>\n",
       "      <td>...</td>\n",
       "      <td>...</td>\n",
       "    </tr>\n",
       "    <tr>\n",
       "      <th>47250191</th>\n",
       "      <td>2021-06-30</td>\n",
       "      <td>24</td>\n",
       "      <td>서귀포시</td>\n",
       "      <td>50130620</td>\n",
       "      <td>예래동</td>\n",
       "      <td>남성</td>\n",
       "      <td>20</td>\n",
       "      <td>0.0000</td>\n",
       "      <td>0.0000</td>\n",
       "      <td>599.1969</td>\n",
       "      <td>그외</td>\n",
       "    </tr>\n",
       "    <tr>\n",
       "      <th>47250192</th>\n",
       "      <td>2021-06-30</td>\n",
       "      <td>24</td>\n",
       "      <td>서귀포시</td>\n",
       "      <td>50130620</td>\n",
       "      <td>예래동</td>\n",
       "      <td>남성</td>\n",
       "      <td>20</td>\n",
       "      <td>187.5990</td>\n",
       "      <td>41.9998</td>\n",
       "      <td>75.5996</td>\n",
       "      <td>제주</td>\n",
       "    </tr>\n",
       "    <tr>\n",
       "      <th>47250193</th>\n",
       "      <td>2021-06-30</td>\n",
       "      <td>24</td>\n",
       "      <td>서귀포시</td>\n",
       "      <td>50130620</td>\n",
       "      <td>예래동</td>\n",
       "      <td>남성</td>\n",
       "      <td>10</td>\n",
       "      <td>121.8467</td>\n",
       "      <td>0.0000</td>\n",
       "      <td>4.5128</td>\n",
       "      <td>제주</td>\n",
       "    </tr>\n",
       "    <tr>\n",
       "      <th>47250194</th>\n",
       "      <td>2021-06-30</td>\n",
       "      <td>24</td>\n",
       "      <td>서귀포시</td>\n",
       "      <td>50130620</td>\n",
       "      <td>예래동</td>\n",
       "      <td>남성</td>\n",
       "      <td>80</td>\n",
       "      <td>122.2190</td>\n",
       "      <td>0.0000</td>\n",
       "      <td>4.5032</td>\n",
       "      <td>제주</td>\n",
       "    </tr>\n",
       "    <tr>\n",
       "      <th>47250195</th>\n",
       "      <td>2021-06-30</td>\n",
       "      <td>24</td>\n",
       "      <td>서귀포시</td>\n",
       "      <td>50130620</td>\n",
       "      <td>예래동</td>\n",
       "      <td>남성</td>\n",
       "      <td>80</td>\n",
       "      <td>0.0000</td>\n",
       "      <td>0.0000</td>\n",
       "      <td>31.5179</td>\n",
       "      <td>그외</td>\n",
       "    </tr>\n",
       "  </tbody>\n",
       "</table>\n",
       "<p>47250196 rows × 11 columns</p>\n",
       "</div>"
      ],
      "text/plain": [
       "           base_date  time  city    emd_cd emd_nm sex  age  resd_pop_cnt  \\\n",
       "0         2018-01-01     1   제주시  50110250    한림읍  여성    0      638.5509   \n",
       "1         2018-01-01     1   제주시  50110250    한림읍  여성    0        0.0000   \n",
       "2         2018-01-01     1   제주시  50110250    한림읍  여성   10      668.4577   \n",
       "3         2018-01-01     1   제주시  50110250    한림읍  여성   10        0.0000   \n",
       "4         2018-01-01     1   제주시  50110250    한림읍  여성   20      609.7710   \n",
       "...              ...   ...   ...       ...    ...  ..  ...           ...   \n",
       "47250191  2021-06-30    24  서귀포시  50130620    예래동  남성   20        0.0000   \n",
       "47250192  2021-06-30    24  서귀포시  50130620    예래동  남성   20      187.5990   \n",
       "47250193  2021-06-30    24  서귀포시  50130620    예래동  남성   10      121.8467   \n",
       "47250194  2021-06-30    24  서귀포시  50130620    예래동  남성   80      122.2190   \n",
       "47250195  2021-06-30    24  서귀포시  50130620    예래동  남성   80        0.0000   \n",
       "\n",
       "          work_pop_cnt  visit_pop_cnt resd  \n",
       "0              15.5400       151.5149   제주  \n",
       "1               3.7249       171.3458   그외  \n",
       "2              17.0308       166.0500   제주  \n",
       "3               4.2577       195.8539   그외  \n",
       "4               5.9490       148.7246   제주  \n",
       "...                ...            ...  ...  \n",
       "47250191        0.0000       599.1969   그외  \n",
       "47250192       41.9998        75.5996   제주  \n",
       "47250193        0.0000         4.5128   제주  \n",
       "47250194        0.0000         4.5032   제주  \n",
       "47250195        0.0000        31.5179   그외  \n",
       "\n",
       "[47250196 rows x 11 columns]"
      ]
     },
     "execution_count": 3,
     "metadata": {},
     "output_type": "execute_result"
    }
   ],
   "source": [
    "df"
   ]
  },
  {
   "cell_type": "code",
   "execution_count": 4,
   "id": "c9ee2172",
   "metadata": {},
   "outputs": [],
   "source": [
    "df.rename(columns = {'base_date' : '기준일자', 'time' : '시간', 'city' : '시 구분', 'emd_cd' : '행정동 코드', 'emd_nm' : '행정동명', 'sex' : '성별', 'age' : '연령대', 'resd_pop_cnt' : '거주인구', 'work_pop_cnt' : '근무인구', 'visit_pop_cnt' : '방문인구', 'resd' : '거주지역행정구역'}, inplace = True)"
   ]
  },
  {
   "cell_type": "code",
   "execution_count": 5,
   "id": "b698cda3",
   "metadata": {},
   "outputs": [
    {
     "data": {
      "text/html": [
       "<div>\n",
       "<style scoped>\n",
       "    .dataframe tbody tr th:only-of-type {\n",
       "        vertical-align: middle;\n",
       "    }\n",
       "\n",
       "    .dataframe tbody tr th {\n",
       "        vertical-align: top;\n",
       "    }\n",
       "\n",
       "    .dataframe thead th {\n",
       "        text-align: right;\n",
       "    }\n",
       "</style>\n",
       "<table border=\"1\" class=\"dataframe\">\n",
       "  <thead>\n",
       "    <tr style=\"text-align: right;\">\n",
       "      <th></th>\n",
       "      <th>기준일자</th>\n",
       "      <th>시간</th>\n",
       "      <th>시 구분</th>\n",
       "      <th>행정동 코드</th>\n",
       "      <th>행정동명</th>\n",
       "      <th>성별</th>\n",
       "      <th>연령대</th>\n",
       "      <th>거주인구</th>\n",
       "      <th>근무인구</th>\n",
       "      <th>방문인구</th>\n",
       "      <th>거주지역행정구역</th>\n",
       "    </tr>\n",
       "  </thead>\n",
       "  <tbody>\n",
       "    <tr>\n",
       "      <th>0</th>\n",
       "      <td>2018-01-01</td>\n",
       "      <td>1</td>\n",
       "      <td>제주시</td>\n",
       "      <td>50110250</td>\n",
       "      <td>한림읍</td>\n",
       "      <td>여성</td>\n",
       "      <td>0</td>\n",
       "      <td>638.5509</td>\n",
       "      <td>15.5400</td>\n",
       "      <td>151.5149</td>\n",
       "      <td>제주</td>\n",
       "    </tr>\n",
       "    <tr>\n",
       "      <th>1</th>\n",
       "      <td>2018-01-01</td>\n",
       "      <td>1</td>\n",
       "      <td>제주시</td>\n",
       "      <td>50110250</td>\n",
       "      <td>한림읍</td>\n",
       "      <td>여성</td>\n",
       "      <td>0</td>\n",
       "      <td>0.0000</td>\n",
       "      <td>3.7249</td>\n",
       "      <td>171.3458</td>\n",
       "      <td>그외</td>\n",
       "    </tr>\n",
       "    <tr>\n",
       "      <th>2</th>\n",
       "      <td>2018-01-01</td>\n",
       "      <td>1</td>\n",
       "      <td>제주시</td>\n",
       "      <td>50110250</td>\n",
       "      <td>한림읍</td>\n",
       "      <td>여성</td>\n",
       "      <td>10</td>\n",
       "      <td>668.4577</td>\n",
       "      <td>17.0308</td>\n",
       "      <td>166.0500</td>\n",
       "      <td>제주</td>\n",
       "    </tr>\n",
       "    <tr>\n",
       "      <th>3</th>\n",
       "      <td>2018-01-01</td>\n",
       "      <td>1</td>\n",
       "      <td>제주시</td>\n",
       "      <td>50110250</td>\n",
       "      <td>한림읍</td>\n",
       "      <td>여성</td>\n",
       "      <td>10</td>\n",
       "      <td>0.0000</td>\n",
       "      <td>4.2577</td>\n",
       "      <td>195.8539</td>\n",
       "      <td>그외</td>\n",
       "    </tr>\n",
       "    <tr>\n",
       "      <th>4</th>\n",
       "      <td>2018-01-01</td>\n",
       "      <td>1</td>\n",
       "      <td>제주시</td>\n",
       "      <td>50110250</td>\n",
       "      <td>한림읍</td>\n",
       "      <td>여성</td>\n",
       "      <td>20</td>\n",
       "      <td>609.7710</td>\n",
       "      <td>5.9490</td>\n",
       "      <td>148.7246</td>\n",
       "      <td>제주</td>\n",
       "    </tr>\n",
       "  </tbody>\n",
       "</table>\n",
       "</div>"
      ],
      "text/plain": [
       "         기준일자  시간 시 구분    행정동 코드 행정동명  성별  연령대      거주인구     근무인구      방문인구  \\\n",
       "0  2018-01-01   1  제주시  50110250  한림읍  여성    0  638.5509  15.5400  151.5149   \n",
       "1  2018-01-01   1  제주시  50110250  한림읍  여성    0    0.0000   3.7249  171.3458   \n",
       "2  2018-01-01   1  제주시  50110250  한림읍  여성   10  668.4577  17.0308  166.0500   \n",
       "3  2018-01-01   1  제주시  50110250  한림읍  여성   10    0.0000   4.2577  195.8539   \n",
       "4  2018-01-01   1  제주시  50110250  한림읍  여성   20  609.7710   5.9490  148.7246   \n",
       "\n",
       "  거주지역행정구역  \n",
       "0       제주  \n",
       "1       그외  \n",
       "2       제주  \n",
       "3       그외  \n",
       "4       제주  "
      ]
     },
     "execution_count": 5,
     "metadata": {},
     "output_type": "execute_result"
    }
   ],
   "source": [
    "df.head()"
   ]
  },
  {
   "cell_type": "code",
   "execution_count": 6,
   "id": "162a7cc2",
   "metadata": {},
   "outputs": [],
   "source": [
    "month = []\n",
    "for i in range(len(df)):\n",
    "    month.append(int(df['기준일자'][i].split('-')[1]))\n",
    "    \n",
    "df['월별'] = month"
   ]
  },
  {
   "cell_type": "code",
   "execution_count": 7,
   "id": "45d168df",
   "metadata": {
    "scrolled": true
   },
   "outputs": [
    {
     "data": {
      "text/html": [
       "<div>\n",
       "<style scoped>\n",
       "    .dataframe tbody tr th:only-of-type {\n",
       "        vertical-align: middle;\n",
       "    }\n",
       "\n",
       "    .dataframe tbody tr th {\n",
       "        vertical-align: top;\n",
       "    }\n",
       "\n",
       "    .dataframe thead th {\n",
       "        text-align: right;\n",
       "    }\n",
       "</style>\n",
       "<table border=\"1\" class=\"dataframe\">\n",
       "  <thead>\n",
       "    <tr style=\"text-align: right;\">\n",
       "      <th></th>\n",
       "      <th>기준일자</th>\n",
       "      <th>시간</th>\n",
       "      <th>시 구분</th>\n",
       "      <th>행정동 코드</th>\n",
       "      <th>행정동명</th>\n",
       "      <th>성별</th>\n",
       "      <th>연령대</th>\n",
       "      <th>거주인구</th>\n",
       "      <th>근무인구</th>\n",
       "      <th>방문인구</th>\n",
       "      <th>거주지역행정구역</th>\n",
       "      <th>월별</th>\n",
       "    </tr>\n",
       "  </thead>\n",
       "  <tbody>\n",
       "    <tr>\n",
       "      <th>0</th>\n",
       "      <td>2018-01-01</td>\n",
       "      <td>1</td>\n",
       "      <td>제주시</td>\n",
       "      <td>50110250</td>\n",
       "      <td>한림읍</td>\n",
       "      <td>여성</td>\n",
       "      <td>0</td>\n",
       "      <td>638.5509</td>\n",
       "      <td>15.5400</td>\n",
       "      <td>151.5149</td>\n",
       "      <td>제주</td>\n",
       "      <td>1</td>\n",
       "    </tr>\n",
       "    <tr>\n",
       "      <th>1</th>\n",
       "      <td>2018-01-01</td>\n",
       "      <td>1</td>\n",
       "      <td>제주시</td>\n",
       "      <td>50110250</td>\n",
       "      <td>한림읍</td>\n",
       "      <td>여성</td>\n",
       "      <td>0</td>\n",
       "      <td>0.0000</td>\n",
       "      <td>3.7249</td>\n",
       "      <td>171.3458</td>\n",
       "      <td>그외</td>\n",
       "      <td>1</td>\n",
       "    </tr>\n",
       "    <tr>\n",
       "      <th>2</th>\n",
       "      <td>2018-01-01</td>\n",
       "      <td>1</td>\n",
       "      <td>제주시</td>\n",
       "      <td>50110250</td>\n",
       "      <td>한림읍</td>\n",
       "      <td>여성</td>\n",
       "      <td>10</td>\n",
       "      <td>668.4577</td>\n",
       "      <td>17.0308</td>\n",
       "      <td>166.0500</td>\n",
       "      <td>제주</td>\n",
       "      <td>1</td>\n",
       "    </tr>\n",
       "    <tr>\n",
       "      <th>3</th>\n",
       "      <td>2018-01-01</td>\n",
       "      <td>1</td>\n",
       "      <td>제주시</td>\n",
       "      <td>50110250</td>\n",
       "      <td>한림읍</td>\n",
       "      <td>여성</td>\n",
       "      <td>10</td>\n",
       "      <td>0.0000</td>\n",
       "      <td>4.2577</td>\n",
       "      <td>195.8539</td>\n",
       "      <td>그외</td>\n",
       "      <td>1</td>\n",
       "    </tr>\n",
       "    <tr>\n",
       "      <th>4</th>\n",
       "      <td>2018-01-01</td>\n",
       "      <td>1</td>\n",
       "      <td>제주시</td>\n",
       "      <td>50110250</td>\n",
       "      <td>한림읍</td>\n",
       "      <td>여성</td>\n",
       "      <td>20</td>\n",
       "      <td>609.7710</td>\n",
       "      <td>5.9490</td>\n",
       "      <td>148.7246</td>\n",
       "      <td>제주</td>\n",
       "      <td>1</td>\n",
       "    </tr>\n",
       "    <tr>\n",
       "      <th>...</th>\n",
       "      <td>...</td>\n",
       "      <td>...</td>\n",
       "      <td>...</td>\n",
       "      <td>...</td>\n",
       "      <td>...</td>\n",
       "      <td>...</td>\n",
       "      <td>...</td>\n",
       "      <td>...</td>\n",
       "      <td>...</td>\n",
       "      <td>...</td>\n",
       "      <td>...</td>\n",
       "      <td>...</td>\n",
       "    </tr>\n",
       "    <tr>\n",
       "      <th>47250191</th>\n",
       "      <td>2021-06-30</td>\n",
       "      <td>24</td>\n",
       "      <td>서귀포시</td>\n",
       "      <td>50130620</td>\n",
       "      <td>예래동</td>\n",
       "      <td>남성</td>\n",
       "      <td>20</td>\n",
       "      <td>0.0000</td>\n",
       "      <td>0.0000</td>\n",
       "      <td>599.1969</td>\n",
       "      <td>그외</td>\n",
       "      <td>6</td>\n",
       "    </tr>\n",
       "    <tr>\n",
       "      <th>47250192</th>\n",
       "      <td>2021-06-30</td>\n",
       "      <td>24</td>\n",
       "      <td>서귀포시</td>\n",
       "      <td>50130620</td>\n",
       "      <td>예래동</td>\n",
       "      <td>남성</td>\n",
       "      <td>20</td>\n",
       "      <td>187.5990</td>\n",
       "      <td>41.9998</td>\n",
       "      <td>75.5996</td>\n",
       "      <td>제주</td>\n",
       "      <td>6</td>\n",
       "    </tr>\n",
       "    <tr>\n",
       "      <th>47250193</th>\n",
       "      <td>2021-06-30</td>\n",
       "      <td>24</td>\n",
       "      <td>서귀포시</td>\n",
       "      <td>50130620</td>\n",
       "      <td>예래동</td>\n",
       "      <td>남성</td>\n",
       "      <td>10</td>\n",
       "      <td>121.8467</td>\n",
       "      <td>0.0000</td>\n",
       "      <td>4.5128</td>\n",
       "      <td>제주</td>\n",
       "      <td>6</td>\n",
       "    </tr>\n",
       "    <tr>\n",
       "      <th>47250194</th>\n",
       "      <td>2021-06-30</td>\n",
       "      <td>24</td>\n",
       "      <td>서귀포시</td>\n",
       "      <td>50130620</td>\n",
       "      <td>예래동</td>\n",
       "      <td>남성</td>\n",
       "      <td>80</td>\n",
       "      <td>122.2190</td>\n",
       "      <td>0.0000</td>\n",
       "      <td>4.5032</td>\n",
       "      <td>제주</td>\n",
       "      <td>6</td>\n",
       "    </tr>\n",
       "    <tr>\n",
       "      <th>47250195</th>\n",
       "      <td>2021-06-30</td>\n",
       "      <td>24</td>\n",
       "      <td>서귀포시</td>\n",
       "      <td>50130620</td>\n",
       "      <td>예래동</td>\n",
       "      <td>남성</td>\n",
       "      <td>80</td>\n",
       "      <td>0.0000</td>\n",
       "      <td>0.0000</td>\n",
       "      <td>31.5179</td>\n",
       "      <td>그외</td>\n",
       "      <td>6</td>\n",
       "    </tr>\n",
       "  </tbody>\n",
       "</table>\n",
       "<p>47250196 rows × 12 columns</p>\n",
       "</div>"
      ],
      "text/plain": [
       "                기준일자  시간  시 구분    행정동 코드 행정동명  성별  연령대      거주인구     근무인구  \\\n",
       "0         2018-01-01   1   제주시  50110250  한림읍  여성    0  638.5509  15.5400   \n",
       "1         2018-01-01   1   제주시  50110250  한림읍  여성    0    0.0000   3.7249   \n",
       "2         2018-01-01   1   제주시  50110250  한림읍  여성   10  668.4577  17.0308   \n",
       "3         2018-01-01   1   제주시  50110250  한림읍  여성   10    0.0000   4.2577   \n",
       "4         2018-01-01   1   제주시  50110250  한림읍  여성   20  609.7710   5.9490   \n",
       "...              ...  ..   ...       ...  ...  ..  ...       ...      ...   \n",
       "47250191  2021-06-30  24  서귀포시  50130620  예래동  남성   20    0.0000   0.0000   \n",
       "47250192  2021-06-30  24  서귀포시  50130620  예래동  남성   20  187.5990  41.9998   \n",
       "47250193  2021-06-30  24  서귀포시  50130620  예래동  남성   10  121.8467   0.0000   \n",
       "47250194  2021-06-30  24  서귀포시  50130620  예래동  남성   80  122.2190   0.0000   \n",
       "47250195  2021-06-30  24  서귀포시  50130620  예래동  남성   80    0.0000   0.0000   \n",
       "\n",
       "              방문인구 거주지역행정구역  월별  \n",
       "0         151.5149       제주   1  \n",
       "1         171.3458       그외   1  \n",
       "2         166.0500       제주   1  \n",
       "3         195.8539       그외   1  \n",
       "4         148.7246       제주   1  \n",
       "...            ...      ...  ..  \n",
       "47250191  599.1969       그외   6  \n",
       "47250192   75.5996       제주   6  \n",
       "47250193    4.5128       제주   6  \n",
       "47250194    4.5032       제주   6  \n",
       "47250195   31.5179       그외   6  \n",
       "\n",
       "[47250196 rows x 12 columns]"
      ]
     },
     "execution_count": 7,
     "metadata": {},
     "output_type": "execute_result"
    }
   ],
   "source": [
    "df"
   ]
  },
  {
   "cell_type": "code",
   "execution_count": 8,
   "id": "27b83edc",
   "metadata": {},
   "outputs": [],
   "source": [
    "m1 = df[df['월별'] == 1]\n",
    "m2 = df[df['월별'] == 2]\n",
    "m3 = df[df['월별'] == 3]\n",
    "m4 = df[df['월별'] == 4]\n",
    "m5 = df[df['월별'] == 5]\n",
    "m6 = df[df['월별'] == 6]\n",
    "m7 = df[df['월별'] == 7]\n",
    "m8 = df[df['월별'] == 8]\n",
    "m9 = df[df['월별'] == 9]\n",
    "m10 = df[df['월별'] == 10]\n",
    "m11 = df[df['월별'] == 11]\n",
    "m12 = df[df['월별'] == 12]"
   ]
  },
  {
   "cell_type": "code",
   "execution_count": null,
   "id": "1e5f9999",
   "metadata": {},
   "outputs": [],
   "source": []
  },
  {
   "cell_type": "code",
   "execution_count": 9,
   "id": "99eaaec9",
   "metadata": {},
   "outputs": [
    {
     "data": {
      "image/png": "[encoded data removed]",
      "text/plain": [
       "<Figure size 720x720 with 1 Axes>"
      ]
     },
     "metadata": {
      "needs_background": "light"
     },
     "output_type": "display_data"
    }
   ],
   "source": [
    "plt.figure(figsize = (10, 10))\n",
    "box_m1 = plt.boxplot(m1[['거주인구']].values)\n",
    "plt.show()"
   ]
  },
  {
   "cell_type": "code",
   "execution_count": 10,
   "id": "3caf5278",
   "metadata": {},
   "outputs": [],
   "source": [
    "quantile_25 = np.quantile(m1['거주인구'], 0.25)\n",
    "quantile_75 = np.quantile(m1['거주인구'], 0.75)\n",
    "IQR = quantile_75 - quantile_25\n",
    "lower = quantile_25 - 1.5 * IQR\n",
    "upper = quantile_75 + 1.5 * IQR"
   ]
  },
  {
   "cell_type": "code",
   "execution_count": 11,
   "id": "895c7704",
   "metadata": {},
   "outputs": [],
   "source": [
    "new_m1 = m1[(m1['거주인구'] > lower) & (m1['거주인구'] < upper)]"
   ]
  },
  {
   "cell_type": "code",
   "execution_count": 12,
   "id": "a065ea02",
   "metadata": {},
   "outputs": [
    {
     "data": {
      "text/plain": [
       "(4085558, 12)"
      ]
     },
     "execution_count": 12,
     "metadata": {},
     "output_type": "execute_result"
    }
   ],
   "source": [
    "new_m1.shape"
   ]
  },
  {
   "cell_type": "code",
   "execution_count": 13,
   "id": "fadc4b26",
   "metadata": {},
   "outputs": [
    {
     "data": {
      "image/png": "[encoded data removed]",
      "text/plain": [
       "<Figure size 720x720 with 1 Axes>"
      ]
     },
     "metadata": {
      "needs_background": "light"
     },
     "output_type": "display_data"
    }
   ],
   "source": [
    "plt.figure(figsize = (10, 10))\n",
    "box_new_m1 = plt.boxplot(new_m1[['거주인구']].values)\n",
    "plt.show()"
   ]
  },
  {
   "cell_type": "code",
   "execution_count": null,
   "id": "e04b6792",
   "metadata": {},
   "outputs": [],
   "source": []
  },
  {
   "cell_type": "code",
   "execution_count": 14,
   "id": "1924cfed",
   "metadata": {},
   "outputs": [
    {
     "data": {
      "image/png": "[encoded data removed]",
      "text/plain": [
       "<Figure size 720x720 with 1 Axes>"
      ]
     },
     "metadata": {
      "needs_background": "light"
     },
     "output_type": "display_data"
    }
   ],
   "source": [
    "plt.figure(figsize = (10, 10))\n",
    "box_m2 = plt.boxplot(m2[['거주인구']].values)\n",
    "plt.show()"
   ]
  },
  {
   "cell_type": "code",
   "execution_count": 15,
   "id": "0d834367",
   "metadata": {},
   "outputs": [],
   "source": [
    "quantile_25 = np.quantile(m2['거주인구'], 0.25)\n",
    "quantile_75 = np.quantile(m2['거주인구'], 0.75)\n",
    "IQR = quantile_75 - quantile_25\n",
    "lower = quantile_25 - 1.5 * IQR\n",
    "upper = quantile_75 + 1.5 * IQR"
   ]
  },
  {
   "cell_type": "code",
   "execution_count": 16,
   "id": "1f32a5d4",
   "metadata": {},
   "outputs": [],
   "source": [
    "new_m2 = m2[(m2['거주인구'] > lower) & (m2['거주인구'] < upper)]"
   ]
  },
  {
   "cell_type": "code",
   "execution_count": 17,
   "id": "dfbf7104",
   "metadata": {},
   "outputs": [
    {
     "data": {
      "text/plain": [
       "(3715249, 12)"
      ]
     },
     "execution_count": 17,
     "metadata": {},
     "output_type": "execute_result"
    }
   ],
   "source": [
    "new_m2.shape"
   ]
  },
  {
   "cell_type": "code",
   "execution_count": 18,
   "id": "5807ed6a",
   "metadata": {},
   "outputs": [
    {
     "data": {
      "image/png": "[encoded data removed]",
      "text/plain": [
       "<Figure size 720x720 with 1 Axes>"
      ]
     },
     "metadata": {
      "needs_background": "light"
     },
     "output_type": "display_data"
    }
   ],
   "source": [
    "plt.figure(figsize = (10, 10))\n",
    "box_new_m2 = plt.boxplot(new_m2[['거주인구']].values)\n",
    "plt.show()"
   ]
  },
  {
   "cell_type": "code",
   "execution_count": null,
   "id": "f67910e6",
   "metadata": {},
   "outputs": [],
   "source": []
  },
  {
   "cell_type": "code",
   "execution_count": 19,
   "id": "f9c9c48c",
   "metadata": {},
   "outputs": [
    {
     "data": {
      "image/png": "[encoded data removed]",
      "text/plain": [
       "<Figure size 720x720 with 1 Axes>"
      ]
     },
     "metadata": {
      "needs_background": "light"
     },
     "output_type": "display_data"
    }
   ],
   "source": [
    "plt.figure(figsize = (10, 10))\n",
    "box_m3 = plt.boxplot(m3[['거주인구']].values)\n",
    "plt.show()"
   ]
  },
  {
   "cell_type": "code",
   "execution_count": 20,
   "id": "bcd84bad",
   "metadata": {},
   "outputs": [],
   "source": [
    "quantile_25 = np.quantile(m3['거주인구'], 0.25)\n",
    "quantile_75 = np.quantile(m3['거주인구'], 0.75)\n",
    "IQR = quantile_75 - quantile_25\n",
    "lower = quantile_25 - 1.5 * IQR\n",
    "upper = quantile_75 + 1.5 * IQR"
   ]
  },
  {
   "cell_type": "code",
   "execution_count": 21,
   "id": "8241ffb9",
   "metadata": {},
   "outputs": [],
   "source": [
    "new_m3 = m3[(m3['거주인구'] > lower) & (m3['거주인구'] < upper)]"
   ]
  },
  {
   "cell_type": "code",
   "execution_count": 22,
   "id": "0711593d",
   "metadata": {},
   "outputs": [
    {
     "data": {
      "text/plain": [
       "(4066462, 12)"
      ]
     },
     "execution_count": 22,
     "metadata": {},
     "output_type": "execute_result"
    }
   ],
   "source": [
    "new_m3.shape"
   ]
  },
  {
   "cell_type": "code",
   "execution_count": 23,
   "id": "ee8877b3",
   "metadata": {},
   "outputs": [
    {
     "data": {
      "image/png": "[encoded data removed]",
      "text/plain": [
       "<Figure size 720x720 with 1 Axes>"
      ]
     },
     "metadata": {
      "needs_background": "light"
     },
     "output_type": "display_data"
    }
   ],
   "source": [
    "plt.figure(figsize = (10, 10))\n",
    "box_new_m3 = plt.boxplot(new_m3[['거주인구']].values)\n",
    "plt.show()"
   ]
  },
  {
   "cell_type": "code",
   "execution_count": null,
   "id": "86e0eae4",
   "metadata": {},
   "outputs": [],
   "source": []
  },
  {
   "cell_type": "code",
   "execution_count": 24,
   "id": "b161d486",
   "metadata": {},
   "outputs": [
    {
     "data": {
      "image/png": "[encoded data removed]",
      "text/plain": [
       "<Figure size 720x720 with 1 Axes>"
      ]
     },
     "metadata": {
      "needs_background": "light"
     },
     "output_type": "display_data"
    }
   ],
   "source": [
    "plt.figure(figsize = (10, 10))\n",
    "box_m4 = plt.boxplot(m4[['거주인구']].values)\n",
    "plt.show()"
   ]
  },
  {
   "cell_type": "code",
   "execution_count": 25,
   "id": "d548d57c",
   "metadata": {},
   "outputs": [],
   "source": [
    "quantile_25 = np.quantile(m4['거주인구'], 0.25)\n",
    "quantile_75 = np.quantile(m4['거주인구'], 0.75)\n",
    "IQR = quantile_75 - quantile_25\n",
    "lower = quantile_25 - 1.5 * IQR\n",
    "upper = quantile_75 + 1.5 * IQR"
   ]
  },
  {
   "cell_type": "code",
   "execution_count": 26,
   "id": "944647b6",
   "metadata": {},
   "outputs": [],
   "source": [
    "new_m4 = m4[(m4['거주인구'] > lower) & (m4['거주인구'] < upper)]"
   ]
  },
  {
   "cell_type": "code",
   "execution_count": 27,
   "id": "b74a1120",
   "metadata": {},
   "outputs": [
    {
     "data": {
      "text/plain": [
       "(3936105, 12)"
      ]
     },
     "execution_count": 27,
     "metadata": {},
     "output_type": "execute_result"
    }
   ],
   "source": [
    "new_m4.shape"
   ]
  },
  {
   "cell_type": "code",
   "execution_count": 28,
   "id": "2a4d401d",
   "metadata": {},
   "outputs": [
    {
     "data": {
      "image/png": "[encoded data removed]",
      "text/plain": [
       "<Figure size 720x720 with 1 Axes>"
      ]
     },
     "metadata": {
      "needs_background": "light"
     },
     "output_type": "display_data"
    }
   ],
   "source": [
    "plt.figure(figsize = (10, 10))\n",
    "box_new_m4 = plt.boxplot(new_m4[['거주인구']].values)\n",
    "plt.show()"
   ]
  },
  {
   "cell_type": "code",
   "execution_count": null,
   "id": "241a4095",
   "metadata": {},
   "outputs": [],
   "source": []
  },
  {
   "cell_type": "code",
   "execution_count": 29,
   "id": "65c23a41",
   "metadata": {},
   "outputs": [
    {
     "data": {
      "image/png": "[encoded data removed]",
      "text/plain": [
       "<Figure size 720x720 with 1 Axes>"
      ]
     },
     "metadata": {
      "needs_background": "light"
     },
     "output_type": "display_data"
    }
   ],
   "source": [
    "plt.figure(figsize = (10, 10))\n",
    "box_m5 = plt.boxplot(m5[['거주인구']].values)\n",
    "plt.show()"
   ]
  },
  {
   "cell_type": "code",
   "execution_count": 30,
   "id": "81c7534d",
   "metadata": {},
   "outputs": [],
   "source": [
    "quantile_25 = np.quantile(m5['거주인구'], 0.25)\n",
    "quantile_75 = np.quantile(m5['거주인구'], 0.75)\n",
    "IQR = quantile_75 - quantile_25\n",
    "lower = quantile_25 - 1.5 * IQR\n",
    "upper = quantile_75 + 1.5 * IQR"
   ]
  },
  {
   "cell_type": "code",
   "execution_count": 31,
   "id": "6c479e41",
   "metadata": {},
   "outputs": [],
   "source": [
    "new_m5 = m5[(m5['거주인구'] > lower) & (m5['거주인구'] < upper)]"
   ]
  },
  {
   "cell_type": "code",
   "execution_count": 32,
   "id": "0b0a3a4f",
   "metadata": {},
   "outputs": [
    {
     "data": {
      "text/plain": [
       "(4074015, 12)"
      ]
     },
     "execution_count": 32,
     "metadata": {},
     "output_type": "execute_result"
    }
   ],
   "source": [
    "new_m5.shape"
   ]
  },
  {
   "cell_type": "code",
   "execution_count": 33,
   "id": "ee122a90",
   "metadata": {},
   "outputs": [
    {
     "data": {
      "image/png": "[encoded data removed]",
      "text/plain": [
       "<Figure size 720x720 with 1 Axes>"
      ]
     },
     "metadata": {
      "needs_background": "light"
     },
     "output_type": "display_data"
    }
   ],
   "source": [
    "plt.figure(figsize = (10, 10))\n",
    "box_new_m5 = plt.boxplot(new_m5[['거주인구']].values)\n",
    "plt.show()"
   ]
  },
  {
   "cell_type": "code",
   "execution_count": null,
   "id": "7619bc98",
   "metadata": {},
   "outputs": [],
   "source": []
  },
  {
   "cell_type": "code",
   "execution_count": 34,
   "id": "b56b0f4c",
   "metadata": {},
   "outputs": [
    {
     "data": {
      "image/png": "[encoded data removed]",
      "text/plain": [
       "<Figure size 720x720 with 1 Axes>"
      ]
     },
     "metadata": {
      "needs_background": "light"
     },
     "output_type": "display_data"
    }
   ],
   "source": [
    "plt.figure(figsize = (10, 10))\n",
    "box_m6 = plt.boxplot(m6[['거주인구']].values)\n",
    "plt.show()"
   ]
  },
  {
   "cell_type": "code",
   "execution_count": 35,
   "id": "abd98050",
   "metadata": {},
   "outputs": [],
   "source": [
    "quantile_25 = np.quantile(m6['거주인구'], 0.25)\n",
    "quantile_75 = np.quantile(m6['거주인구'], 0.75)\n",
    "IQR = quantile_75 - quantile_25\n",
    "lower = quantile_25 - 1.5 * IQR\n",
    "upper = quantile_75 + 1.5 * IQR"
   ]
  },
  {
   "cell_type": "code",
   "execution_count": 36,
   "id": "fbcd96c4",
   "metadata": {},
   "outputs": [],
   "source": [
    "new_m6 = m6[(m6['거주인구'] > lower) & (m6['거주인구'] < upper)]"
   ]
  },
  {
   "cell_type": "code",
   "execution_count": 37,
   "id": "9163f153",
   "metadata": {},
   "outputs": [
    {
     "data": {
      "text/plain": [
       "(3943625, 12)"
      ]
     },
     "execution_count": 37,
     "metadata": {},
     "output_type": "execute_result"
    }
   ],
   "source": [
    "new_m6.shape"
   ]
  },
  {
   "cell_type": "code",
   "execution_count": 38,
   "id": "dbc84a75",
   "metadata": {},
   "outputs": [
    {
     "data": {
      "image/png": "[encoded data removed]",
      "text/plain": [
       "<Figure size 720x720 with 1 Axes>"
      ]
     },
     "metadata": {
      "needs_background": "light"
     },
     "output_type": "display_data"
    }
   ],
   "source": [
    "plt.figure(figsize = (10, 10))\n",
    "box_new_m6 = plt.boxplot(new_m6[['거주인구']].values)\n",
    "plt.show()"
   ]
  },
  {
   "cell_type": "code",
   "execution_count": null,
   "id": "4a862853",
   "metadata": {},
   "outputs": [],
   "source": []
  },
  {
   "cell_type": "code",
   "execution_count": 39,
   "id": "ea164943",
   "metadata": {},
   "outputs": [
    {
     "data": {
      "image/png": "[encoded data removed]",
      "text/plain": [
       "<Figure size 720x720 with 1 Axes>"
      ]
     },
     "metadata": {
      "needs_background": "light"
     },
     "output_type": "display_data"
    }
   ],
   "source": [
    "plt.figure(figsize = (10, 10))\n",
    "box_m7 = plt.boxplot(m7[['거주인구']].values)\n",
    "plt.show()"
   ]
  },
  {
   "cell_type": "code",
   "execution_count": 40,
   "id": "8d5a1f8a",
   "metadata": {},
   "outputs": [],
   "source": [
    "quantile_25 = np.quantile(m7['거주인구'], 0.25)\n",
    "quantile_75 = np.quantile(m7['거주인구'], 0.75)\n",
    "IQR = quantile_75 - quantile_25\n",
    "lower = quantile_25 - 1.5 * IQR\n",
    "upper = quantile_75 + 1.5 * IQR"
   ]
  },
  {
   "cell_type": "code",
   "execution_count": 41,
   "id": "8c708290",
   "metadata": {},
   "outputs": [],
   "source": [
    "new_m7 = m7[(m7['거주인구'] > lower) & (m7['거주인구'] < upper)]"
   ]
  },
  {
   "cell_type": "code",
   "execution_count": 42,
   "id": "5c873d86",
   "metadata": {},
   "outputs": [
    {
     "data": {
      "text/plain": [
       "(3060306, 12)"
      ]
     },
     "execution_count": 42,
     "metadata": {},
     "output_type": "execute_result"
    }
   ],
   "source": [
    "new_m7.shape"
   ]
  },
  {
   "cell_type": "code",
   "execution_count": 43,
   "id": "ff932ce3",
   "metadata": {},
   "outputs": [
    {
     "data": {
      "image/png": "[encoded data removed]",
      "text/plain": [
       "<Figure size 720x720 with 1 Axes>"
      ]
     },
     "metadata": {
      "needs_background": "light"
     },
     "output_type": "display_data"
    }
   ],
   "source": [
    "plt.figure(figsize = (10, 10))\n",
    "box_new_m7 = plt.boxplot(new_m7[['거주인구']].values)\n",
    "plt.show()"
   ]
  },
  {
   "cell_type": "code",
   "execution_count": null,
   "id": "9b7ce7e7",
   "metadata": {},
   "outputs": [],
   "source": []
  },
  {
   "cell_type": "code",
   "execution_count": 44,
   "id": "845ff5ad",
   "metadata": {},
   "outputs": [
    {
     "data": {
      "image/png": "[encoded data removed]",
      "text/plain": [
       "<Figure size 720x720 with 1 Axes>"
      ]
     },
     "metadata": {
      "needs_background": "light"
     },
     "output_type": "display_data"
    }
   ],
   "source": [
    "plt.figure(figsize = (10, 10))\n",
    "box_m8 = plt.boxplot(m8[['거주인구']].values)\n",
    "plt.show()"
   ]
  },
  {
   "cell_type": "code",
   "execution_count": 45,
   "id": "798d7a46",
   "metadata": {},
   "outputs": [],
   "source": [
    "quantile_25 = np.quantile(m8['거주인구'], 0.25)\n",
    "quantile_75 = np.quantile(m8['거주인구'], 0.75)\n",
    "IQR = quantile_75 - quantile_25\n",
    "lower = quantile_25 - 1.5 * IQR\n",
    "upper = quantile_75 + 1.5 * IQR"
   ]
  },
  {
   "cell_type": "code",
   "execution_count": 46,
   "id": "86199115",
   "metadata": {},
   "outputs": [],
   "source": [
    "new_m8 = m8[(m8['거주인구'] > lower) & (m8['거주인구'] < upper)]"
   ]
  },
  {
   "cell_type": "code",
   "execution_count": 47,
   "id": "6a21e0ab",
   "metadata": {},
   "outputs": [
    {
     "data": {
      "text/plain": [
       "(3067141, 12)"
      ]
     },
     "execution_count": 47,
     "metadata": {},
     "output_type": "execute_result"
    }
   ],
   "source": [
    "new_m8.shape"
   ]
  },
  {
   "cell_type": "code",
   "execution_count": 48,
   "id": "a8ec9396",
   "metadata": {},
   "outputs": [
    {
     "data": {
      "image/png": "[encoded data removed]",
      "text/plain": [
       "<Figure size 720x720 with 1 Axes>"
      ]
     },
     "metadata": {
      "needs_background": "light"
     },
     "output_type": "display_data"
    }
   ],
   "source": [
    "plt.figure(figsize = (10, 10))\n",
    "box_new_m8 = plt.boxplot(new_m8[['거주인구']].values)\n",
    "plt.show()"
   ]
  },
  {
   "cell_type": "code",
   "execution_count": null,
   "id": "d52c8303",
   "metadata": {},
   "outputs": [],
   "source": []
  },
  {
   "cell_type": "code",
   "execution_count": 49,
   "id": "edf7ae00",
   "metadata": {},
   "outputs": [
    {
     "data": {
      "image/png": "[encoded data removed]",
      "text/plain": [
       "<Figure size 720x720 with 1 Axes>"
      ]
     },
     "metadata": {
      "needs_background": "light"
     },
     "output_type": "display_data"
    }
   ],
   "source": [
    "plt.figure(figsize = (10, 10))\n",
    "box_m9 = plt.boxplot(m9[['거주인구']].values)\n",
    "plt.show()"
   ]
  },
  {
   "cell_type": "code",
   "execution_count": 50,
   "id": "bd7def2b",
   "metadata": {},
   "outputs": [],
   "source": [
    "quantile_25 = np.quantile(m9['거주인구'], 0.25)\n",
    "quantile_75 = np.quantile(m9['거주인구'], 0.75)\n",
    "IQR = quantile_75 - quantile_25\n",
    "lower = quantile_25 - 1.5 * IQR\n",
    "upper = quantile_75 + 1.5 * IQR"
   ]
  },
  {
   "cell_type": "code",
   "execution_count": 51,
   "id": "3e76b6db",
   "metadata": {},
   "outputs": [],
   "source": [
    "new_m9 = m9[(m9['거주인구'] > lower) & (m9['거주인구'] < upper)]"
   ]
  },
  {
   "cell_type": "code",
   "execution_count": 52,
   "id": "ddb46dec",
   "metadata": {},
   "outputs": [
    {
     "data": {
      "text/plain": [
       "(2956361, 12)"
      ]
     },
     "execution_count": 52,
     "metadata": {},
     "output_type": "execute_result"
    }
   ],
   "source": [
    "new_m9.shape"
   ]
  },
  {
   "cell_type": "code",
   "execution_count": 53,
   "id": "d948db44",
   "metadata": {},
   "outputs": [
    {
     "data": {
      "image/png": "[encoded data removed]",
      "text/plain": [
       "<Figure size 720x720 with 1 Axes>"
      ]
     },
     "metadata": {
      "needs_background": "light"
     },
     "output_type": "display_data"
    }
   ],
   "source": [
    "plt.figure(figsize = (10, 10))\n",
    "box_new_m9 = plt.boxplot(new_m9[['거주인구']].values)\n",
    "plt.show()"
   ]
  },
  {
   "cell_type": "code",
   "execution_count": null,
   "id": "9d69e53f",
   "metadata": {},
   "outputs": [],
   "source": []
  },
  {
   "cell_type": "code",
   "execution_count": 54,
   "id": "f19af705",
   "metadata": {},
   "outputs": [
    {
     "data": {
      "image/png": "[encoded data removed]",
      "text/plain": [
       "<Figure size 720x720 with 1 Axes>"
      ]
     },
     "metadata": {
      "needs_background": "light"
     },
     "output_type": "display_data"
    }
   ],
   "source": [
    "plt.figure(figsize = (10, 10))\n",
    "box_m10 = plt.boxplot(m10[['거주인구']].values)\n",
    "plt.show()"
   ]
  },
  {
   "cell_type": "code",
   "execution_count": 55,
   "id": "59b47fe1",
   "metadata": {},
   "outputs": [],
   "source": [
    "quantile_25 = np.quantile(m10['거주인구'], 0.25)\n",
    "quantile_75 = np.quantile(m10['거주인구'], 0.75)\n",
    "IQR = quantile_75 - quantile_25\n",
    "lower = quantile_25 - 1.5 * IQR\n",
    "upper = quantile_75 + 1.5 * IQR"
   ]
  },
  {
   "cell_type": "code",
   "execution_count": 56,
   "id": "fbaf6c53",
   "metadata": {},
   "outputs": [],
   "source": [
    "new_m10 = m10[(m10['거주인구'] > lower) & (m10['거주인구'] < upper)]"
   ]
  },
  {
   "cell_type": "code",
   "execution_count": 57,
   "id": "bd8267b0",
   "metadata": {},
   "outputs": [
    {
     "data": {
      "text/plain": [
       "(3054273, 12)"
      ]
     },
     "execution_count": 57,
     "metadata": {},
     "output_type": "execute_result"
    }
   ],
   "source": [
    "new_m10.shape"
   ]
  },
  {
   "cell_type": "code",
   "execution_count": 58,
   "id": "04ca06ed",
   "metadata": {},
   "outputs": [
    {
     "data": {
      "image/png": "[encoded data removed]",
      "text/plain": [
       "<Figure size 720x720 with 1 Axes>"
      ]
     },
     "metadata": {
      "needs_background": "light"
     },
     "output_type": "display_data"
    }
   ],
   "source": [
    "plt.figure(figsize = (10, 10))\n",
    "box_new_m10 = plt.boxplot(new_m10[['거주인구']].values)\n",
    "plt.show()"
   ]
  },
  {
   "cell_type": "code",
   "execution_count": null,
   "id": "582e3664",
   "metadata": {},
   "outputs": [],
   "source": []
  },
  {
   "cell_type": "code",
   "execution_count": 59,
   "id": "d7404312",
   "metadata": {},
   "outputs": [
    {
     "data": {
      "image/png": "[encoded data removed]",
      "text/plain": [
       "<Figure size 720x720 with 1 Axes>"
      ]
     },
     "metadata": {
      "needs_background": "light"
     },
     "output_type": "display_data"
    }
   ],
   "source": [
    "plt.figure(figsize = (10, 10))\n",
    "box_m11 = plt.boxplot(m11[['거주인구']].values)\n",
    "plt.show()"
   ]
  },
  {
   "cell_type": "code",
   "execution_count": 60,
   "id": "c5b90ced",
   "metadata": {},
   "outputs": [],
   "source": [
    "quantile_25 = np.quantile(m11['거주인구'], 0.25)\n",
    "quantile_75 = np.quantile(m11['거주인구'], 0.75)\n",
    "IQR = quantile_75 - quantile_25\n",
    "lower = quantile_25 - 1.5 * IQR\n",
    "upper = quantile_75 + 1.5 * IQR"
   ]
  },
  {
   "cell_type": "code",
   "execution_count": 61,
   "id": "1a749c84",
   "metadata": {},
   "outputs": [],
   "source": [
    "new_m11 = m11[(m11['거주인구'] > lower) & (m11['거주인구'] < upper)]"
   ]
  },
  {
   "cell_type": "code",
   "execution_count": 62,
   "id": "7f0e894d",
   "metadata": {},
   "outputs": [
    {
     "data": {
      "text/plain": [
       "(2953526, 12)"
      ]
     },
     "execution_count": 62,
     "metadata": {},
     "output_type": "execute_result"
    }
   ],
   "source": [
    "new_m11.shape"
   ]
  },
  {
   "cell_type": "code",
   "execution_count": 63,
   "id": "b49503cb",
   "metadata": {},
   "outputs": [
    {
     "data": {
      "image/png": "[encoded data removed]",
      "text/plain": [
       "<Figure size 720x720 with 1 Axes>"
      ]
     },
     "metadata": {
      "needs_background": "light"
     },
     "output_type": "display_data"
    }
   ],
   "source": [
    "plt.figure(figsize = (10, 10))\n",
    "box_new_m11 = plt.boxplot(new_m11[['거주인구']].values)\n",
    "plt.show()"
   ]
  },
  {
   "cell_type": "code",
   "execution_count": null,
   "id": "1ed2e0b1",
   "metadata": {},
   "outputs": [],
   "source": []
  },
  {
   "cell_type": "code",
   "execution_count": 64,
   "id": "1104563f",
   "metadata": {},
   "outputs": [
    {
     "data": {
      "image/png": "[encoded data removed]",
      "text/plain": [
       "<Figure size 720x720 with 1 Axes>"
      ]
     },
     "metadata": {
      "needs_background": "light"
     },
     "output_type": "display_data"
    }
   ],
   "source": [
    "plt.figure(figsize = (10, 10))\n",
    "box_m12 = plt.boxplot(m12[['거주인구']].values)\n",
    "plt.show()"
   ]
  },
  {
   "cell_type": "code",
   "execution_count": 65,
   "id": "4c7ee790",
   "metadata": {},
   "outputs": [],
   "source": [
    "quantile_25 = np.quantile(m12['거주인구'], 0.25)\n",
    "quantile_75 = np.quantile(m12['거주인구'], 0.75)\n",
    "IQR = quantile_75 - quantile_25\n",
    "lower = quantile_25 - 1.5 * IQR\n",
    "upper = quantile_75 + 1.5 * IQR"
   ]
  },
  {
   "cell_type": "code",
   "execution_count": 66,
   "id": "1fe37be9",
   "metadata": {},
   "outputs": [],
   "source": [
    "new_m12 = m12[(m12['거주인구'] > lower) & (m12['거주인구'] < upper)]"
   ]
  },
  {
   "cell_type": "code",
   "execution_count": 67,
   "id": "077c3264",
   "metadata": {},
   "outputs": [
    {
     "data": {
      "text/plain": [
       "(3056132, 12)"
      ]
     },
     "execution_count": 67,
     "metadata": {},
     "output_type": "execute_result"
    }
   ],
   "source": [
    "new_m12.shape"
   ]
  },
  {
   "cell_type": "code",
   "execution_count": 68,
   "id": "c1613505",
   "metadata": {},
   "outputs": [
    {
     "data": {
      "image/png": "[encoded data removed]",
      "text/plain": [
       "<Figure size 720x720 with 1 Axes>"
      ]
     },
     "metadata": {
      "needs_background": "light"
     },
     "output_type": "display_data"
    }
   ],
   "source": [
    "plt.figure(figsize = (10, 10))\n",
    "box_new_m12 = plt.boxplot(new_m12[['거주인구']].values)\n",
    "plt.show()"
   ]
  },
  {
   "cell_type": "code",
   "execution_count": null,
   "id": "da35d600",
   "metadata": {},
   "outputs": [],
   "source": []
  },
  {
   "cell_type": "code",
   "execution_count": 69,
   "id": "8cad9957",
   "metadata": {},
   "outputs": [],
   "source": [
    "from sklearn.preprocessing import StandardScaler\n",
    "scaler = StandardScaler()"
   ]
  },
  {
   "cell_type": "code",
   "execution_count": 70,
   "id": "bf13c547",
   "metadata": {},
   "outputs": [
    {
     "data": {
      "text/plain": [
       "StandardScaler()"
      ]
     },
     "execution_count": 70,
     "metadata": {},
     "output_type": "execute_result"
    }
   ],
   "source": [
    "scaler.fit(new_m1[['거주인구', '근무인구', '방문인구']])"
   ]
  },
  {
   "cell_type": "code",
   "execution_count": 71,
   "id": "8ffa4ae0",
   "metadata": {},
   "outputs": [],
   "source": [
    "new_m1_scaled = scaler.transform(new_m1[['거주인구', '근무인구', '방문인구']])"
   ]
  },
  {
   "cell_type": "code",
   "execution_count": 72,
   "id": "1056b67b",
   "metadata": {},
   "outputs": [],
   "source": [
    "new_m1_scaled_df = pd.DataFrame(new_m1_scaled, columns = ['거주인구', '근무인구', '방문인구'])"
   ]
  },
  {
   "cell_type": "code",
   "execution_count": 73,
   "id": "3785bdbe",
   "metadata": {},
   "outputs": [
    {
     "data": {
      "text/html": [
       "<div>\n",
       "<style scoped>\n",
       "    .dataframe tbody tr th:only-of-type {\n",
       "        vertical-align: middle;\n",
       "    }\n",
       "\n",
       "    .dataframe tbody tr th {\n",
       "        vertical-align: top;\n",
       "    }\n",
       "\n",
       "    .dataframe thead th {\n",
       "        text-align: right;\n",
       "    }\n",
       "</style>\n",
       "<table border=\"1\" class=\"dataframe\">\n",
       "  <thead>\n",
       "    <tr style=\"text-align: right;\">\n",
       "      <th></th>\n",
       "      <th>거주인구</th>\n",
       "      <th>근무인구</th>\n",
       "      <th>방문인구</th>\n",
       "    </tr>\n",
       "  </thead>\n",
       "  <tbody>\n",
       "    <tr>\n",
       "      <th>0</th>\n",
       "      <td>2.065451</td>\n",
       "      <td>-0.099568</td>\n",
       "      <td>-0.048138</td>\n",
       "    </tr>\n",
       "    <tr>\n",
       "      <th>1</th>\n",
       "      <td>-0.616041</td>\n",
       "      <td>-0.421463</td>\n",
       "      <td>0.065093</td>\n",
       "    </tr>\n",
       "    <tr>\n",
       "      <th>2</th>\n",
       "      <td>2.191040</td>\n",
       "      <td>-0.058952</td>\n",
       "      <td>0.034855</td>\n",
       "    </tr>\n",
       "    <tr>\n",
       "      <th>3</th>\n",
       "      <td>-0.616041</td>\n",
       "      <td>-0.406947</td>\n",
       "      <td>0.205029</td>\n",
       "    </tr>\n",
       "    <tr>\n",
       "      <th>4</th>\n",
       "      <td>1.944594</td>\n",
       "      <td>-0.360869</td>\n",
       "      <td>-0.064070</td>\n",
       "    </tr>\n",
       "  </tbody>\n",
       "</table>\n",
       "</div>"
      ],
      "text/plain": [
       "       거주인구      근무인구      방문인구\n",
       "0  2.065451 -0.099568 -0.048138\n",
       "1 -0.616041 -0.421463  0.065093\n",
       "2  2.191040 -0.058952  0.034855\n",
       "3 -0.616041 -0.406947  0.205029\n",
       "4  1.944594 -0.360869 -0.064070"
      ]
     },
     "execution_count": 73,
     "metadata": {},
     "output_type": "execute_result"
    }
   ],
   "source": [
    "new_m1_scaled_df.head()"
   ]
  },
  {
   "cell_type": "code",
   "execution_count": 74,
   "id": "f93bc127",
   "metadata": {},
   "outputs": [
    {
     "data": {
      "text/html": [
       "<div>\n",
       "<style scoped>\n",
       "    .dataframe tbody tr th:only-of-type {\n",
       "        vertical-align: middle;\n",
       "    }\n",
       "\n",
       "    .dataframe tbody tr th {\n",
       "        vertical-align: top;\n",
       "    }\n",
       "\n",
       "    .dataframe thead th {\n",
       "        text-align: right;\n",
       "    }\n",
       "</style>\n",
       "<table border=\"1\" class=\"dataframe\">\n",
       "  <thead>\n",
       "    <tr style=\"text-align: right;\">\n",
       "      <th></th>\n",
       "      <th>거주인구</th>\n",
       "      <th>근무인구</th>\n",
       "      <th>방문인구</th>\n",
       "    </tr>\n",
       "  </thead>\n",
       "  <tbody>\n",
       "    <tr>\n",
       "      <th>count</th>\n",
       "      <td>4.085558e+06</td>\n",
       "      <td>4.085558e+06</td>\n",
       "      <td>4.085558e+06</td>\n",
       "    </tr>\n",
       "    <tr>\n",
       "      <th>mean</th>\n",
       "      <td>2.544747e-13</td>\n",
       "      <td>-2.618963e-14</td>\n",
       "      <td>-9.645957e-15</td>\n",
       "    </tr>\n",
       "    <tr>\n",
       "      <th>std</th>\n",
       "      <td>1.000000e+00</td>\n",
       "      <td>1.000000e+00</td>\n",
       "      <td>1.000000e+00</td>\n",
       "    </tr>\n",
       "    <tr>\n",
       "      <th>min</th>\n",
       "      <td>-6.160409e-01</td>\n",
       "      <td>-5.229454e-01</td>\n",
       "      <td>-9.132611e-01</td>\n",
       "    </tr>\n",
       "    <tr>\n",
       "      <th>25%</th>\n",
       "      <td>-6.160409e-01</td>\n",
       "      <td>-5.229454e-01</td>\n",
       "      <td>-6.666990e-01</td>\n",
       "    </tr>\n",
       "    <tr>\n",
       "      <th>50%</th>\n",
       "      <td>-6.160409e-01</td>\n",
       "      <td>-3.274397e-01</td>\n",
       "      <td>-3.425280e-01</td>\n",
       "    </tr>\n",
       "    <tr>\n",
       "      <th>75%</th>\n",
       "      <td>2.887523e-01</td>\n",
       "      <td>5.387731e-02</td>\n",
       "      <td>3.025383e-01</td>\n",
       "    </tr>\n",
       "    <tr>\n",
       "      <th>max</th>\n",
       "      <td>3.521852e+00</td>\n",
       "      <td>2.332264e+01</td>\n",
       "      <td>1.191299e+01</td>\n",
       "    </tr>\n",
       "  </tbody>\n",
       "</table>\n",
       "</div>"
      ],
      "text/plain": [
       "               거주인구          근무인구          방문인구\n",
       "count  4.085558e+06  4.085558e+06  4.085558e+06\n",
       "mean   2.544747e-13 -2.618963e-14 -9.645957e-15\n",
       "std    1.000000e+00  1.000000e+00  1.000000e+00\n",
       "min   -6.160409e-01 -5.229454e-01 -9.132611e-01\n",
       "25%   -6.160409e-01 -5.229454e-01 -6.666990e-01\n",
       "50%   -6.160409e-01 -3.274397e-01 -3.425280e-01\n",
       "75%    2.887523e-01  5.387731e-02  3.025383e-01\n",
       "max    3.521852e+00  2.332264e+01  1.191299e+01"
      ]
     },
     "execution_count": 74,
     "metadata": {},
     "output_type": "execute_result"
    }
   ],
   "source": [
    "new_m1_scaled_df.describe()"
   ]
  },
  {
   "cell_type": "code",
   "execution_count": null,
   "id": "32c59b86",
   "metadata": {},
   "outputs": [],
   "source": []
  },
  {
   "cell_type": "code",
   "execution_count": 75,
   "id": "234ac052",
   "metadata": {},
   "outputs": [],
   "source": [
    "scaler.fit(new_m2[['거주인구', '근무인구', '방문인구']])\n",
    "new_m2_scaled = scaler.transform(new_m2[['거주인구', '근무인구', '방문인구']])\n",
    "new_m2_scaled_df = pd.DataFrame(new_m2_scaled, columns = ['거주인구', '근무인구', '방문인구'])"
   ]
  },
  {
   "cell_type": "code",
   "execution_count": 76,
   "id": "f62a0f30",
   "metadata": {},
   "outputs": [
    {
     "data": {
      "text/html": [
       "<div>\n",
       "<style scoped>\n",
       "    .dataframe tbody tr th:only-of-type {\n",
       "        vertical-align: middle;\n",
       "    }\n",
       "\n",
       "    .dataframe tbody tr th {\n",
       "        vertical-align: top;\n",
       "    }\n",
       "\n",
       "    .dataframe thead th {\n",
       "        text-align: right;\n",
       "    }\n",
       "</style>\n",
       "<table border=\"1\" class=\"dataframe\">\n",
       "  <thead>\n",
       "    <tr style=\"text-align: right;\">\n",
       "      <th></th>\n",
       "      <th>거주인구</th>\n",
       "      <th>근무인구</th>\n",
       "      <th>방문인구</th>\n",
       "    </tr>\n",
       "  </thead>\n",
       "  <tbody>\n",
       "    <tr>\n",
       "      <th>0</th>\n",
       "      <td>2.620374</td>\n",
       "      <td>-0.413417</td>\n",
       "      <td>-0.664515</td>\n",
       "    </tr>\n",
       "    <tr>\n",
       "      <th>1</th>\n",
       "      <td>-0.616618</td>\n",
       "      <td>0.238605</td>\n",
       "      <td>0.433740</td>\n",
       "    </tr>\n",
       "    <tr>\n",
       "      <th>2</th>\n",
       "      <td>2.771979</td>\n",
       "      <td>-0.402465</td>\n",
       "      <td>-0.642347</td>\n",
       "    </tr>\n",
       "    <tr>\n",
       "      <th>3</th>\n",
       "      <td>-0.616618</td>\n",
       "      <td>0.348194</td>\n",
       "      <td>0.623878</td>\n",
       "    </tr>\n",
       "    <tr>\n",
       "      <th>4</th>\n",
       "      <td>2.435781</td>\n",
       "      <td>-0.354196</td>\n",
       "      <td>-0.579735</td>\n",
       "    </tr>\n",
       "  </tbody>\n",
       "</table>\n",
       "</div>"
      ],
      "text/plain": [
       "       거주인구      근무인구      방문인구\n",
       "0  2.620374 -0.413417 -0.664515\n",
       "1 -0.616618  0.238605  0.433740\n",
       "2  2.771979 -0.402465 -0.642347\n",
       "3 -0.616618  0.348194  0.623878\n",
       "4  2.435781 -0.354196 -0.579735"
      ]
     },
     "execution_count": 76,
     "metadata": {},
     "output_type": "execute_result"
    }
   ],
   "source": [
    "new_m2_scaled_df.head()"
   ]
  },
  {
   "cell_type": "code",
   "execution_count": 77,
   "id": "217f6c5a",
   "metadata": {},
   "outputs": [
    {
     "data": {
      "text/html": [
       "<div>\n",
       "<style scoped>\n",
       "    .dataframe tbody tr th:only-of-type {\n",
       "        vertical-align: middle;\n",
       "    }\n",
       "\n",
       "    .dataframe tbody tr th {\n",
       "        vertical-align: top;\n",
       "    }\n",
       "\n",
       "    .dataframe thead th {\n",
       "        text-align: right;\n",
       "    }\n",
       "</style>\n",
       "<table border=\"1\" class=\"dataframe\">\n",
       "  <thead>\n",
       "    <tr style=\"text-align: right;\">\n",
       "      <th></th>\n",
       "      <th>거주인구</th>\n",
       "      <th>근무인구</th>\n",
       "      <th>방문인구</th>\n",
       "    </tr>\n",
       "  </thead>\n",
       "  <tbody>\n",
       "    <tr>\n",
       "      <th>count</th>\n",
       "      <td>3.715249e+06</td>\n",
       "      <td>3.715249e+06</td>\n",
       "      <td>3.715249e+06</td>\n",
       "    </tr>\n",
       "    <tr>\n",
       "      <th>mean</th>\n",
       "      <td>5.125904e-14</td>\n",
       "      <td>-1.875454e-13</td>\n",
       "      <td>3.180219e-15</td>\n",
       "    </tr>\n",
       "    <tr>\n",
       "      <th>std</th>\n",
       "      <td>1.000000e+00</td>\n",
       "      <td>1.000000e+00</td>\n",
       "      <td>1.000000e+00</td>\n",
       "    </tr>\n",
       "    <tr>\n",
       "      <th>min</th>\n",
       "      <td>-6.166178e-01</td>\n",
       "      <td>-5.275743e-01</td>\n",
       "      <td>-8.955924e-01</td>\n",
       "    </tr>\n",
       "    <tr>\n",
       "      <th>25%</th>\n",
       "      <td>-6.166178e-01</td>\n",
       "      <td>-5.275743e-01</td>\n",
       "      <td>-6.600162e-01</td>\n",
       "    </tr>\n",
       "    <tr>\n",
       "      <th>50%</th>\n",
       "      <td>-6.166178e-01</td>\n",
       "      <td>-3.246811e-01</td>\n",
       "      <td>-3.462202e-01</td>\n",
       "    </tr>\n",
       "    <tr>\n",
       "      <th>75%</th>\n",
       "      <td>2.899798e-01</td>\n",
       "      <td>5.965152e-02</td>\n",
       "      <td>2.946497e-01</td>\n",
       "    </tr>\n",
       "    <tr>\n",
       "      <th>max</th>\n",
       "      <td>3.527792e+00</td>\n",
       "      <td>2.137723e+01</td>\n",
       "      <td>1.446479e+01</td>\n",
       "    </tr>\n",
       "  </tbody>\n",
       "</table>\n",
       "</div>"
      ],
      "text/plain": [
       "               거주인구          근무인구          방문인구\n",
       "count  3.715249e+06  3.715249e+06  3.715249e+06\n",
       "mean   5.125904e-14 -1.875454e-13  3.180219e-15\n",
       "std    1.000000e+00  1.000000e+00  1.000000e+00\n",
       "min   -6.166178e-01 -5.275743e-01 -8.955924e-01\n",
       "25%   -6.166178e-01 -5.275743e-01 -6.600162e-01\n",
       "50%   -6.166178e-01 -3.246811e-01 -3.462202e-01\n",
       "75%    2.899798e-01  5.965152e-02  2.946497e-01\n",
       "max    3.527792e+00  2.137723e+01  1.446479e+01"
      ]
     },
     "execution_count": 77,
     "metadata": {},
     "output_type": "execute_result"
    }
   ],
   "source": [
    "new_m2_scaled_df.describe()"
   ]
  },
  {
   "cell_type": "code",
   "execution_count": null,
   "id": "474ee390",
   "metadata": {},
   "outputs": [],
   "source": []
  },
  {
   "cell_type": "code",
   "execution_count": 78,
   "id": "ba27b201",
   "metadata": {},
   "outputs": [],
   "source": [
    "scaler.fit(new_m3[['거주인구', '근무인구', '방문인구']])\n",
    "new_m3_scaled = scaler.transform(new_m3[['거주인구', '근무인구', '방문인구']])\n",
    "new_m3_scaled_df = pd.DataFrame(new_m3_scaled, columns = ['거주인구', '근무인구', '방문인구'])"
   ]
  },
  {
   "cell_type": "code",
   "execution_count": 79,
   "id": "40ff4c6c",
   "metadata": {},
   "outputs": [
    {
     "data": {
      "text/html": [
       "<div>\n",
       "<style scoped>\n",
       "    .dataframe tbody tr th:only-of-type {\n",
       "        vertical-align: middle;\n",
       "    }\n",
       "\n",
       "    .dataframe tbody tr th {\n",
       "        vertical-align: top;\n",
       "    }\n",
       "\n",
       "    .dataframe thead th {\n",
       "        text-align: right;\n",
       "    }\n",
       "</style>\n",
       "<table border=\"1\" class=\"dataframe\">\n",
       "  <thead>\n",
       "    <tr style=\"text-align: right;\">\n",
       "      <th></th>\n",
       "      <th>거주인구</th>\n",
       "      <th>근무인구</th>\n",
       "      <th>방문인구</th>\n",
       "    </tr>\n",
       "  </thead>\n",
       "  <tbody>\n",
       "    <tr>\n",
       "      <th>0</th>\n",
       "      <td>2.756075</td>\n",
       "      <td>-0.528628</td>\n",
       "      <td>-0.672814</td>\n",
       "    </tr>\n",
       "    <tr>\n",
       "      <th>1</th>\n",
       "      <td>-0.612838</td>\n",
       "      <td>-0.528628</td>\n",
       "      <td>-0.403185</td>\n",
       "    </tr>\n",
       "    <tr>\n",
       "      <th>2</th>\n",
       "      <td>2.913860</td>\n",
       "      <td>-0.528628</td>\n",
       "      <td>-0.655761</td>\n",
       "    </tr>\n",
       "    <tr>\n",
       "      <th>3</th>\n",
       "      <td>-0.612838</td>\n",
       "      <td>-0.528628</td>\n",
       "      <td>-0.339194</td>\n",
       "    </tr>\n",
       "    <tr>\n",
       "      <th>4</th>\n",
       "      <td>2.399317</td>\n",
       "      <td>-0.099387</td>\n",
       "      <td>-0.398935</td>\n",
       "    </tr>\n",
       "  </tbody>\n",
       "</table>\n",
       "</div>"
      ],
      "text/plain": [
       "       거주인구      근무인구      방문인구\n",
       "0  2.756075 -0.528628 -0.672814\n",
       "1 -0.612838 -0.528628 -0.403185\n",
       "2  2.913860 -0.528628 -0.655761\n",
       "3 -0.612838 -0.528628 -0.339194\n",
       "4  2.399317 -0.099387 -0.398935"
      ]
     },
     "execution_count": 79,
     "metadata": {},
     "output_type": "execute_result"
    }
   ],
   "source": [
    "new_m3_scaled_df.head()"
   ]
  },
  {
   "cell_type": "code",
   "execution_count": 80,
   "id": "c6402fcd",
   "metadata": {},
   "outputs": [
    {
     "data": {
      "text/html": [
       "<div>\n",
       "<style scoped>\n",
       "    .dataframe tbody tr th:only-of-type {\n",
       "        vertical-align: middle;\n",
       "    }\n",
       "\n",
       "    .dataframe tbody tr th {\n",
       "        vertical-align: top;\n",
       "    }\n",
       "\n",
       "    .dataframe thead th {\n",
       "        text-align: right;\n",
       "    }\n",
       "</style>\n",
       "<table border=\"1\" class=\"dataframe\">\n",
       "  <thead>\n",
       "    <tr style=\"text-align: right;\">\n",
       "      <th></th>\n",
       "      <th>거주인구</th>\n",
       "      <th>근무인구</th>\n",
       "      <th>방문인구</th>\n",
       "    </tr>\n",
       "  </thead>\n",
       "  <tbody>\n",
       "    <tr>\n",
       "      <th>count</th>\n",
       "      <td>4.066462e+06</td>\n",
       "      <td>4.066462e+06</td>\n",
       "      <td>4.066462e+06</td>\n",
       "    </tr>\n",
       "    <tr>\n",
       "      <th>mean</th>\n",
       "      <td>2.892969e-14</td>\n",
       "      <td>6.226635e-14</td>\n",
       "      <td>1.226523e-14</td>\n",
       "    </tr>\n",
       "    <tr>\n",
       "      <th>std</th>\n",
       "      <td>1.000000e+00</td>\n",
       "      <td>1.000000e+00</td>\n",
       "      <td>1.000000e+00</td>\n",
       "    </tr>\n",
       "    <tr>\n",
       "      <th>min</th>\n",
       "      <td>-6.128384e-01</td>\n",
       "      <td>-5.286282e-01</td>\n",
       "      <td>-8.505722e-01</td>\n",
       "    </tr>\n",
       "    <tr>\n",
       "      <th>25%</th>\n",
       "      <td>-6.128384e-01</td>\n",
       "      <td>-5.286282e-01</td>\n",
       "      <td>-6.433183e-01</td>\n",
       "    </tr>\n",
       "    <tr>\n",
       "      <th>50%</th>\n",
       "      <td>-6.128384e-01</td>\n",
       "      <td>-3.259697e-01</td>\n",
       "      <td>-3.584846e-01</td>\n",
       "    </tr>\n",
       "    <tr>\n",
       "      <th>75%</th>\n",
       "      <td>2.804332e-01</td>\n",
       "      <td>5.526225e-02</td>\n",
       "      <td>2.500217e-01</td>\n",
       "    </tr>\n",
       "    <tr>\n",
       "      <th>max</th>\n",
       "      <td>3.549141e+00</td>\n",
       "      <td>2.062792e+01</td>\n",
       "      <td>2.983469e+01</td>\n",
       "    </tr>\n",
       "  </tbody>\n",
       "</table>\n",
       "</div>"
      ],
      "text/plain": [
       "               거주인구          근무인구          방문인구\n",
       "count  4.066462e+06  4.066462e+06  4.066462e+06\n",
       "mean   2.892969e-14  6.226635e-14  1.226523e-14\n",
       "std    1.000000e+00  1.000000e+00  1.000000e+00\n",
       "min   -6.128384e-01 -5.286282e-01 -8.505722e-01\n",
       "25%   -6.128384e-01 -5.286282e-01 -6.433183e-01\n",
       "50%   -6.128384e-01 -3.259697e-01 -3.584846e-01\n",
       "75%    2.804332e-01  5.526225e-02  2.500217e-01\n",
       "max    3.549141e+00  2.062792e+01  2.983469e+01"
      ]
     },
     "execution_count": 80,
     "metadata": {},
     "output_type": "execute_result"
    }
   ],
   "source": [
    "new_m3_scaled_df.describe()"
   ]
  },
  {
   "cell_type": "code",
   "execution_count": null,
   "id": "ff911a5b",
   "metadata": {},
   "outputs": [],
   "source": []
  },
  {
   "cell_type": "code",
   "execution_count": 81,
   "id": "58c5d151",
   "metadata": {},
   "outputs": [],
   "source": [
    "scaler.fit(new_m4[['거주인구', '근무인구', '방문인구']])\n",
    "new_m4_scaled = scaler.transform(new_m4[['거주인구', '근무인구', '방문인구']])\n",
    "new_m4_scaled_df = pd.DataFrame(new_m4_scaled, columns = ['거주인구', '근무인구', '방문인구'])"
   ]
  },
  {
   "cell_type": "code",
   "execution_count": 82,
   "id": "a1b4c09b",
   "metadata": {},
   "outputs": [
    {
     "data": {
      "text/html": [
       "<div>\n",
       "<style scoped>\n",
       "    .dataframe tbody tr th:only-of-type {\n",
       "        vertical-align: middle;\n",
       "    }\n",
       "\n",
       "    .dataframe tbody tr th {\n",
       "        vertical-align: top;\n",
       "    }\n",
       "\n",
       "    .dataframe thead th {\n",
       "        text-align: right;\n",
       "    }\n",
       "</style>\n",
       "<table border=\"1\" class=\"dataframe\">\n",
       "  <thead>\n",
       "    <tr style=\"text-align: right;\">\n",
       "      <th></th>\n",
       "      <th>거주인구</th>\n",
       "      <th>근무인구</th>\n",
       "      <th>방문인구</th>\n",
       "    </tr>\n",
       "  </thead>\n",
       "  <tbody>\n",
       "    <tr>\n",
       "      <th>0</th>\n",
       "      <td>2.414197</td>\n",
       "      <td>-0.445617</td>\n",
       "      <td>-0.495265</td>\n",
       "    </tr>\n",
       "    <tr>\n",
       "      <th>1</th>\n",
       "      <td>-0.611918</td>\n",
       "      <td>-0.445617</td>\n",
       "      <td>-0.653408</td>\n",
       "    </tr>\n",
       "    <tr>\n",
       "      <th>2</th>\n",
       "      <td>2.555926</td>\n",
       "      <td>-0.445617</td>\n",
       "      <td>-0.462333</td>\n",
       "    </tr>\n",
       "    <tr>\n",
       "      <th>3</th>\n",
       "      <td>-0.611918</td>\n",
       "      <td>-0.445617</td>\n",
       "      <td>-0.626927</td>\n",
       "    </tr>\n",
       "    <tr>\n",
       "      <th>4</th>\n",
       "      <td>1.889077</td>\n",
       "      <td>-0.012364</td>\n",
       "      <td>-0.169129</td>\n",
       "    </tr>\n",
       "  </tbody>\n",
       "</table>\n",
       "</div>"
      ],
      "text/plain": [
       "       거주인구      근무인구      방문인구\n",
       "0  2.414197 -0.445617 -0.495265\n",
       "1 -0.611918 -0.445617 -0.653408\n",
       "2  2.555926 -0.445617 -0.462333\n",
       "3 -0.611918 -0.445617 -0.626927\n",
       "4  1.889077 -0.012364 -0.169129"
      ]
     },
     "execution_count": 82,
     "metadata": {},
     "output_type": "execute_result"
    }
   ],
   "source": [
    "new_m4_scaled_df.head()"
   ]
  },
  {
   "cell_type": "code",
   "execution_count": 83,
   "id": "9d0dec01",
   "metadata": {},
   "outputs": [
    {
     "data": {
      "text/html": [
       "<div>\n",
       "<style scoped>\n",
       "    .dataframe tbody tr th:only-of-type {\n",
       "        vertical-align: middle;\n",
       "    }\n",
       "\n",
       "    .dataframe tbody tr th {\n",
       "        vertical-align: top;\n",
       "    }\n",
       "\n",
       "    .dataframe thead th {\n",
       "        text-align: right;\n",
       "    }\n",
       "</style>\n",
       "<table border=\"1\" class=\"dataframe\">\n",
       "  <thead>\n",
       "    <tr style=\"text-align: right;\">\n",
       "      <th></th>\n",
       "      <th>거주인구</th>\n",
       "      <th>근무인구</th>\n",
       "      <th>방문인구</th>\n",
       "    </tr>\n",
       "  </thead>\n",
       "  <tbody>\n",
       "    <tr>\n",
       "      <th>count</th>\n",
       "      <td>3.936105e+06</td>\n",
       "      <td>3.936105e+06</td>\n",
       "      <td>3.936105e+06</td>\n",
       "    </tr>\n",
       "    <tr>\n",
       "      <th>mean</th>\n",
       "      <td>-9.240424e-15</td>\n",
       "      <td>1.871111e-13</td>\n",
       "      <td>-1.377753e-14</td>\n",
       "    </tr>\n",
       "    <tr>\n",
       "      <th>std</th>\n",
       "      <td>1.000000e+00</td>\n",
       "      <td>1.000000e+00</td>\n",
       "      <td>1.000000e+00</td>\n",
       "    </tr>\n",
       "    <tr>\n",
       "      <th>min</th>\n",
       "      <td>-6.119183e-01</td>\n",
       "      <td>-4.456168e-01</td>\n",
       "      <td>-8.385474e-01</td>\n",
       "    </tr>\n",
       "    <tr>\n",
       "      <th>25%</th>\n",
       "      <td>-6.119183e-01</td>\n",
       "      <td>-4.456168e-01</td>\n",
       "      <td>-6.357952e-01</td>\n",
       "    </tr>\n",
       "    <tr>\n",
       "      <th>50%</th>\n",
       "      <td>-6.119183e-01</td>\n",
       "      <td>-3.025388e-01</td>\n",
       "      <td>-3.540614e-01</td>\n",
       "    </tr>\n",
       "    <tr>\n",
       "      <th>75%</th>\n",
       "      <td>2.742396e-01</td>\n",
       "      <td>-3.313133e-03</td>\n",
       "      <td>2.363652e-01</td>\n",
       "    </tr>\n",
       "    <tr>\n",
       "      <th>max</th>\n",
       "      <td>3.547369e+00</td>\n",
       "      <td>2.932184e+01</td>\n",
       "      <td>1.979382e+01</td>\n",
       "    </tr>\n",
       "  </tbody>\n",
       "</table>\n",
       "</div>"
      ],
      "text/plain": [
       "               거주인구          근무인구          방문인구\n",
       "count  3.936105e+06  3.936105e+06  3.936105e+06\n",
       "mean  -9.240424e-15  1.871111e-13 -1.377753e-14\n",
       "std    1.000000e+00  1.000000e+00  1.000000e+00\n",
       "min   -6.119183e-01 -4.456168e-01 -8.385474e-01\n",
       "25%   -6.119183e-01 -4.456168e-01 -6.357952e-01\n",
       "50%   -6.119183e-01 -3.025388e-01 -3.540614e-01\n",
       "75%    2.742396e-01 -3.313133e-03  2.363652e-01\n",
       "max    3.547369e+00  2.932184e+01  1.979382e+01"
      ]
     },
     "execution_count": 83,
     "metadata": {},
     "output_type": "execute_result"
    }
   ],
   "source": [
    "new_m4_scaled_df.describe()"
   ]
  },
  {
   "cell_type": "code",
   "execution_count": null,
   "id": "b67f1ba2",
   "metadata": {},
   "outputs": [],
   "source": []
  },
  {
   "cell_type": "code",
   "execution_count": 84,
   "id": "d9608848",
   "metadata": {},
   "outputs": [],
   "source": [
    "scaler.fit(new_m5[['거주인구', '근무인구', '방문인구']])\n",
    "new_m5_scaled = scaler.transform(new_m5[['거주인구', '근무인구', '방문인구']])\n",
    "new_m5_scaled_df = pd.DataFrame(new_m5_scaled, columns = ['거주인구', '근무인구', '방문인구'])"
   ]
  },
  {
   "cell_type": "code",
   "execution_count": 85,
   "id": "6f815eee",
   "metadata": {},
   "outputs": [
    {
     "data": {
      "text/html": [
       "<div>\n",
       "<style scoped>\n",
       "    .dataframe tbody tr th:only-of-type {\n",
       "        vertical-align: middle;\n",
       "    }\n",
       "\n",
       "    .dataframe tbody tr th {\n",
       "        vertical-align: top;\n",
       "    }\n",
       "\n",
       "    .dataframe thead th {\n",
       "        text-align: right;\n",
       "    }\n",
       "</style>\n",
       "<table border=\"1\" class=\"dataframe\">\n",
       "  <thead>\n",
       "    <tr style=\"text-align: right;\">\n",
       "      <th></th>\n",
       "      <th>거주인구</th>\n",
       "      <th>근무인구</th>\n",
       "      <th>방문인구</th>\n",
       "    </tr>\n",
       "  </thead>\n",
       "  <tbody>\n",
       "    <tr>\n",
       "      <th>0</th>\n",
       "      <td>2.565688</td>\n",
       "      <td>-0.013274</td>\n",
       "      <td>-0.731223</td>\n",
       "    </tr>\n",
       "    <tr>\n",
       "      <th>1</th>\n",
       "      <td>-0.611271</td>\n",
       "      <td>-0.282449</td>\n",
       "      <td>2.393213</td>\n",
       "    </tr>\n",
       "    <tr>\n",
       "      <th>2</th>\n",
       "      <td>2.714482</td>\n",
       "      <td>0.028611</td>\n",
       "      <td>-0.718943</td>\n",
       "    </tr>\n",
       "    <tr>\n",
       "      <th>3</th>\n",
       "      <td>-0.611271</td>\n",
       "      <td>-0.258497</td>\n",
       "      <td>2.858420</td>\n",
       "    </tr>\n",
       "    <tr>\n",
       "      <th>4</th>\n",
       "      <td>2.092251</td>\n",
       "      <td>-0.322402</td>\n",
       "      <td>-0.516579</td>\n",
       "    </tr>\n",
       "  </tbody>\n",
       "</table>\n",
       "</div>"
      ],
      "text/plain": [
       "       거주인구      근무인구      방문인구\n",
       "0  2.565688 -0.013274 -0.731223\n",
       "1 -0.611271 -0.282449  2.393213\n",
       "2  2.714482  0.028611 -0.718943\n",
       "3 -0.611271 -0.258497  2.858420\n",
       "4  2.092251 -0.322402 -0.516579"
      ]
     },
     "execution_count": 85,
     "metadata": {},
     "output_type": "execute_result"
    }
   ],
   "source": [
    "new_m5_scaled_df.head()"
   ]
  },
  {
   "cell_type": "code",
   "execution_count": 86,
   "id": "0995c1a3",
   "metadata": {},
   "outputs": [
    {
     "data": {
      "text/html": [
       "<div>\n",
       "<style scoped>\n",
       "    .dataframe tbody tr th:only-of-type {\n",
       "        vertical-align: middle;\n",
       "    }\n",
       "\n",
       "    .dataframe tbody tr th {\n",
       "        vertical-align: top;\n",
       "    }\n",
       "\n",
       "    .dataframe thead th {\n",
       "        text-align: right;\n",
       "    }\n",
       "</style>\n",
       "<table border=\"1\" class=\"dataframe\">\n",
       "  <thead>\n",
       "    <tr style=\"text-align: right;\">\n",
       "      <th></th>\n",
       "      <th>거주인구</th>\n",
       "      <th>근무인구</th>\n",
       "      <th>방문인구</th>\n",
       "    </tr>\n",
       "  </thead>\n",
       "  <tbody>\n",
       "    <tr>\n",
       "      <th>count</th>\n",
       "      <td>4.074015e+06</td>\n",
       "      <td>4.074015e+06</td>\n",
       "      <td>4.074015e+06</td>\n",
       "    </tr>\n",
       "    <tr>\n",
       "      <th>mean</th>\n",
       "      <td>-2.863096e-14</td>\n",
       "      <td>8.248822e-14</td>\n",
       "      <td>4.737054e-15</td>\n",
       "    </tr>\n",
       "    <tr>\n",
       "      <th>std</th>\n",
       "      <td>1.000000e+00</td>\n",
       "      <td>1.000000e+00</td>\n",
       "      <td>1.000000e+00</td>\n",
       "    </tr>\n",
       "    <tr>\n",
       "      <th>min</th>\n",
       "      <td>-6.112709e-01</td>\n",
       "      <td>-4.499017e-01</td>\n",
       "      <td>-8.592317e-01</td>\n",
       "    </tr>\n",
       "    <tr>\n",
       "      <th>25%</th>\n",
       "      <td>-6.112709e-01</td>\n",
       "      <td>-4.499017e-01</td>\n",
       "      <td>-6.394776e-01</td>\n",
       "    </tr>\n",
       "    <tr>\n",
       "      <th>50%</th>\n",
       "      <td>-6.112709e-01</td>\n",
       "      <td>-3.012165e-01</td>\n",
       "      <td>-3.521571e-01</td>\n",
       "    </tr>\n",
       "    <tr>\n",
       "      <th>75%</th>\n",
       "      <td>2.767149e-01</td>\n",
       "      <td>3.007624e-03</td>\n",
       "      <td>2.578934e-01</td>\n",
       "    </tr>\n",
       "    <tr>\n",
       "      <th>max</th>\n",
       "      <td>3.549826e+00</td>\n",
       "      <td>3.426452e+01</td>\n",
       "      <td>1.727227e+01</td>\n",
       "    </tr>\n",
       "  </tbody>\n",
       "</table>\n",
       "</div>"
      ],
      "text/plain": [
       "               거주인구          근무인구          방문인구\n",
       "count  4.074015e+06  4.074015e+06  4.074015e+06\n",
       "mean  -2.863096e-14  8.248822e-14  4.737054e-15\n",
       "std    1.000000e+00  1.000000e+00  1.000000e+00\n",
       "min   -6.112709e-01 -4.499017e-01 -8.592317e-01\n",
       "25%   -6.112709e-01 -4.499017e-01 -6.394776e-01\n",
       "50%   -6.112709e-01 -3.012165e-01 -3.521571e-01\n",
       "75%    2.767149e-01  3.007624e-03  2.578934e-01\n",
       "max    3.549826e+00  3.426452e+01  1.727227e+01"
      ]
     },
     "execution_count": 86,
     "metadata": {},
     "output_type": "execute_result"
    }
   ],
   "source": [
    "new_m5_scaled_df.describe()"
   ]
  },
  {
   "cell_type": "code",
   "execution_count": null,
   "id": "9fbeede0",
   "metadata": {},
   "outputs": [],
   "source": []
  },
  {
   "cell_type": "code",
   "execution_count": 87,
   "id": "979aa5ad",
   "metadata": {},
   "outputs": [],
   "source": [
    "scaler.fit(new_m6[['거주인구', '근무인구', '방문인구']])\n",
    "new_m6_scaled = scaler.transform(new_m6[['거주인구', '근무인구', '방문인구']])\n",
    "new_m6_scaled_df = pd.DataFrame(new_m6_scaled, columns = ['거주인구', '근무인구', '방문인구'])"
   ]
  },
  {
   "cell_type": "code",
   "execution_count": 88,
   "id": "6e0ace8f",
   "metadata": {},
   "outputs": [
    {
     "data": {
      "text/html": [
       "<div>\n",
       "<style scoped>\n",
       "    .dataframe tbody tr th:only-of-type {\n",
       "        vertical-align: middle;\n",
       "    }\n",
       "\n",
       "    .dataframe tbody tr th {\n",
       "        vertical-align: top;\n",
       "    }\n",
       "\n",
       "    .dataframe thead th {\n",
       "        text-align: right;\n",
       "    }\n",
       "</style>\n",
       "<table border=\"1\" class=\"dataframe\">\n",
       "  <thead>\n",
       "    <tr style=\"text-align: right;\">\n",
       "      <th></th>\n",
       "      <th>거주인구</th>\n",
       "      <th>근무인구</th>\n",
       "      <th>방문인구</th>\n",
       "    </tr>\n",
       "  </thead>\n",
       "  <tbody>\n",
       "    <tr>\n",
       "      <th>0</th>\n",
       "      <td>2.577179</td>\n",
       "      <td>0.083603</td>\n",
       "      <td>-0.584730</td>\n",
       "    </tr>\n",
       "    <tr>\n",
       "      <th>1</th>\n",
       "      <td>-0.613424</td>\n",
       "      <td>-0.295604</td>\n",
       "      <td>3.855061</td>\n",
       "    </tr>\n",
       "    <tr>\n",
       "      <th>2</th>\n",
       "      <td>2.726613</td>\n",
       "      <td>0.137068</td>\n",
       "      <td>-0.560332</td>\n",
       "    </tr>\n",
       "    <tr>\n",
       "      <th>3</th>\n",
       "      <td>-0.613424</td>\n",
       "      <td>-0.270126</td>\n",
       "      <td>4.526475</td>\n",
       "    </tr>\n",
       "    <tr>\n",
       "      <th>4</th>\n",
       "      <td>2.033559</td>\n",
       "      <td>-0.340400</td>\n",
       "      <td>-0.565277</td>\n",
       "    </tr>\n",
       "  </tbody>\n",
       "</table>\n",
       "</div>"
      ],
      "text/plain": [
       "       거주인구      근무인구      방문인구\n",
       "0  2.577179  0.083603 -0.584730\n",
       "1 -0.613424 -0.295604  3.855061\n",
       "2  2.726613  0.137068 -0.560332\n",
       "3 -0.613424 -0.270126  4.526475\n",
       "4  2.033559 -0.340400 -0.565277"
      ]
     },
     "execution_count": 88,
     "metadata": {},
     "output_type": "execute_result"
    }
   ],
   "source": [
    "new_m6_scaled_df.head()"
   ]
  },
  {
   "cell_type": "code",
   "execution_count": 89,
   "id": "19a09e8d",
   "metadata": {},
   "outputs": [
    {
     "data": {
      "text/html": [
       "<div>\n",
       "<style scoped>\n",
       "    .dataframe tbody tr th:only-of-type {\n",
       "        vertical-align: middle;\n",
       "    }\n",
       "\n",
       "    .dataframe tbody tr th {\n",
       "        vertical-align: top;\n",
       "    }\n",
       "\n",
       "    .dataframe thead th {\n",
       "        text-align: right;\n",
       "    }\n",
       "</style>\n",
       "<table border=\"1\" class=\"dataframe\">\n",
       "  <thead>\n",
       "    <tr style=\"text-align: right;\">\n",
       "      <th></th>\n",
       "      <th>거주인구</th>\n",
       "      <th>근무인구</th>\n",
       "      <th>방문인구</th>\n",
       "    </tr>\n",
       "  </thead>\n",
       "  <tbody>\n",
       "    <tr>\n",
       "      <th>count</th>\n",
       "      <td>3.943625e+06</td>\n",
       "      <td>3.943625e+06</td>\n",
       "      <td>3.943625e+06</td>\n",
       "    </tr>\n",
       "    <tr>\n",
       "      <th>mean</th>\n",
       "      <td>1.733224e-13</td>\n",
       "      <td>-1.192620e-13</td>\n",
       "      <td>1.998292e-15</td>\n",
       "    </tr>\n",
       "    <tr>\n",
       "      <th>std</th>\n",
       "      <td>1.000000e+00</td>\n",
       "      <td>1.000000e+00</td>\n",
       "      <td>1.000000e+00</td>\n",
       "    </tr>\n",
       "    <tr>\n",
       "      <th>min</th>\n",
       "      <td>-6.134242e-01</td>\n",
       "      <td>-4.737216e-01</td>\n",
       "      <td>-8.390607e-01</td>\n",
       "    </tr>\n",
       "    <tr>\n",
       "      <th>25%</th>\n",
       "      <td>-6.134242e-01</td>\n",
       "      <td>-4.737216e-01</td>\n",
       "      <td>-6.302006e-01</td>\n",
       "    </tr>\n",
       "    <tr>\n",
       "      <th>50%</th>\n",
       "      <td>-6.134242e-01</td>\n",
       "      <td>-3.148382e-01</td>\n",
       "      <td>-3.517060e-01</td>\n",
       "    </tr>\n",
       "    <tr>\n",
       "      <th>75%</th>\n",
       "      <td>2.856073e-01</td>\n",
       "      <td>1.273260e-02</td>\n",
       "      <td>2.375940e-01</td>\n",
       "    </tr>\n",
       "    <tr>\n",
       "      <th>max</th>\n",
       "      <td>3.545340e+00</td>\n",
       "      <td>2.661691e+01</td>\n",
       "      <td>1.866913e+01</td>\n",
       "    </tr>\n",
       "  </tbody>\n",
       "</table>\n",
       "</div>"
      ],
      "text/plain": [
       "               거주인구          근무인구          방문인구\n",
       "count  3.943625e+06  3.943625e+06  3.943625e+06\n",
       "mean   1.733224e-13 -1.192620e-13  1.998292e-15\n",
       "std    1.000000e+00  1.000000e+00  1.000000e+00\n",
       "min   -6.134242e-01 -4.737216e-01 -8.390607e-01\n",
       "25%   -6.134242e-01 -4.737216e-01 -6.302006e-01\n",
       "50%   -6.134242e-01 -3.148382e-01 -3.517060e-01\n",
       "75%    2.856073e-01  1.273260e-02  2.375940e-01\n",
       "max    3.545340e+00  2.661691e+01  1.866913e+01"
      ]
     },
     "execution_count": 89,
     "metadata": {},
     "output_type": "execute_result"
    }
   ],
   "source": [
    "new_m6_scaled_df.describe()"
   ]
  },
  {
   "cell_type": "code",
   "execution_count": null,
   "id": "49dbda2d",
   "metadata": {},
   "outputs": [],
   "source": []
  },
  {
   "cell_type": "code",
   "execution_count": 90,
   "id": "33b485a6",
   "metadata": {},
   "outputs": [],
   "source": [
    "scaler.fit(new_m7[['거주인구', '근무인구', '방문인구']])\n",
    "new_m7_scaled = scaler.transform(new_m7[['거주인구', '근무인구', '방문인구']])\n",
    "new_m7_scaled_df = pd.DataFrame(new_m7_scaled, columns = ['거주인구', '근무인구', '방문인구'])"
   ]
  },
  {
   "cell_type": "code",
   "execution_count": 91,
   "id": "e7275b08",
   "metadata": {},
   "outputs": [
    {
     "data": {
      "text/html": [
       "<div>\n",
       "<style scoped>\n",
       "    .dataframe tbody tr th:only-of-type {\n",
       "        vertical-align: middle;\n",
       "    }\n",
       "\n",
       "    .dataframe tbody tr th {\n",
       "        vertical-align: top;\n",
       "    }\n",
       "\n",
       "    .dataframe thead th {\n",
       "        text-align: right;\n",
       "    }\n",
       "</style>\n",
       "<table border=\"1\" class=\"dataframe\">\n",
       "  <thead>\n",
       "    <tr style=\"text-align: right;\">\n",
       "      <th></th>\n",
       "      <th>거주인구</th>\n",
       "      <th>근무인구</th>\n",
       "      <th>방문인구</th>\n",
       "    </tr>\n",
       "  </thead>\n",
       "  <tbody>\n",
       "    <tr>\n",
       "      <th>0</th>\n",
       "      <td>2.557603</td>\n",
       "      <td>-0.300351</td>\n",
       "      <td>-0.323641</td>\n",
       "    </tr>\n",
       "    <tr>\n",
       "      <th>1</th>\n",
       "      <td>-0.616032</td>\n",
       "      <td>-0.307944</td>\n",
       "      <td>-0.102786</td>\n",
       "    </tr>\n",
       "    <tr>\n",
       "      <th>2</th>\n",
       "      <td>2.706242</td>\n",
       "      <td>-0.282677</td>\n",
       "      <td>-0.270847</td>\n",
       "    </tr>\n",
       "    <tr>\n",
       "      <th>3</th>\n",
       "      <td>-0.616032</td>\n",
       "      <td>-0.282677</td>\n",
       "      <td>0.007519</td>\n",
       "    </tr>\n",
       "    <tr>\n",
       "      <th>4</th>\n",
       "      <td>2.196634</td>\n",
       "      <td>-0.154183</td>\n",
       "      <td>-0.099600</td>\n",
       "    </tr>\n",
       "  </tbody>\n",
       "</table>\n",
       "</div>"
      ],
      "text/plain": [
       "       거주인구      근무인구      방문인구\n",
       "0  2.557603 -0.300351 -0.323641\n",
       "1 -0.616032 -0.307944 -0.102786\n",
       "2  2.706242 -0.282677 -0.270847\n",
       "3 -0.616032 -0.282677  0.007519\n",
       "4  2.196634 -0.154183 -0.099600"
      ]
     },
     "execution_count": 91,
     "metadata": {},
     "output_type": "execute_result"
    }
   ],
   "source": [
    "new_m7_scaled_df.head()"
   ]
  },
  {
   "cell_type": "code",
   "execution_count": 92,
   "id": "32867627",
   "metadata": {},
   "outputs": [
    {
     "data": {
      "text/html": [
       "<div>\n",
       "<style scoped>\n",
       "    .dataframe tbody tr th:only-of-type {\n",
       "        vertical-align: middle;\n",
       "    }\n",
       "\n",
       "    .dataframe tbody tr th {\n",
       "        vertical-align: top;\n",
       "    }\n",
       "\n",
       "    .dataframe thead th {\n",
       "        text-align: right;\n",
       "    }\n",
       "</style>\n",
       "<table border=\"1\" class=\"dataframe\">\n",
       "  <thead>\n",
       "    <tr style=\"text-align: right;\">\n",
       "      <th></th>\n",
       "      <th>거주인구</th>\n",
       "      <th>근무인구</th>\n",
       "      <th>방문인구</th>\n",
       "    </tr>\n",
       "  </thead>\n",
       "  <tbody>\n",
       "    <tr>\n",
       "      <th>count</th>\n",
       "      <td>3.060306e+06</td>\n",
       "      <td>3.060306e+06</td>\n",
       "      <td>3.060306e+06</td>\n",
       "    </tr>\n",
       "    <tr>\n",
       "      <th>mean</th>\n",
       "      <td>-1.107270e-13</td>\n",
       "      <td>1.594328e-14</td>\n",
       "      <td>3.937176e-15</td>\n",
       "    </tr>\n",
       "    <tr>\n",
       "      <th>std</th>\n",
       "      <td>1.000000e+00</td>\n",
       "      <td>1.000000e+00</td>\n",
       "      <td>1.000000e+00</td>\n",
       "    </tr>\n",
       "    <tr>\n",
       "      <th>min</th>\n",
       "      <td>-6.160318e-01</td>\n",
       "      <td>-4.845904e-01</td>\n",
       "      <td>-8.739737e-01</td>\n",
       "    </tr>\n",
       "    <tr>\n",
       "      <th>25%</th>\n",
       "      <td>-6.160318e-01</td>\n",
       "      <td>-4.845904e-01</td>\n",
       "      <td>-6.464096e-01</td>\n",
       "    </tr>\n",
       "    <tr>\n",
       "      <th>50%</th>\n",
       "      <td>-6.160318e-01</td>\n",
       "      <td>-3.125017e-01</td>\n",
       "      <td>-3.483262e-01</td>\n",
       "    </tr>\n",
       "    <tr>\n",
       "      <th>75%</th>\n",
       "      <td>2.945540e-01</td>\n",
       "      <td>2.282574e-02</td>\n",
       "      <td>2.638818e-01</td>\n",
       "    </tr>\n",
       "    <tr>\n",
       "      <th>max</th>\n",
       "      <td>3.550723e+00</td>\n",
       "      <td>2.759796e+01</td>\n",
       "      <td>1.128923e+01</td>\n",
       "    </tr>\n",
       "  </tbody>\n",
       "</table>\n",
       "</div>"
      ],
      "text/plain": [
       "               거주인구          근무인구          방문인구\n",
       "count  3.060306e+06  3.060306e+06  3.060306e+06\n",
       "mean  -1.107270e-13  1.594328e-14  3.937176e-15\n",
       "std    1.000000e+00  1.000000e+00  1.000000e+00\n",
       "min   -6.160318e-01 -4.845904e-01 -8.739737e-01\n",
       "25%   -6.160318e-01 -4.845904e-01 -6.464096e-01\n",
       "50%   -6.160318e-01 -3.125017e-01 -3.483262e-01\n",
       "75%    2.945540e-01  2.282574e-02  2.638818e-01\n",
       "max    3.550723e+00  2.759796e+01  1.128923e+01"
      ]
     },
     "execution_count": 92,
     "metadata": {},
     "output_type": "execute_result"
    }
   ],
   "source": [
    "new_m7_scaled_df.describe()"
   ]
  },
  {
   "cell_type": "code",
   "execution_count": null,
   "id": "84a8bf8a",
   "metadata": {},
   "outputs": [],
   "source": []
  },
  {
   "cell_type": "code",
   "execution_count": 93,
   "id": "0f4c97c6",
   "metadata": {},
   "outputs": [],
   "source": [
    "scaler.fit(new_m8[['거주인구', '근무인구', '방문인구']])\n",
    "new_m8_scaled = scaler.transform(new_m8[['거주인구', '근무인구', '방문인구']])\n",
    "new_m8_scaled_df = pd.DataFrame(new_m8_scaled, columns = ['거주인구', '근무인구', '방문인구'])"
   ]
  },
  {
   "cell_type": "code",
   "execution_count": 94,
   "id": "56048f02",
   "metadata": {},
   "outputs": [
    {
     "data": {
      "text/html": [
       "<div>\n",
       "<style scoped>\n",
       "    .dataframe tbody tr th:only-of-type {\n",
       "        vertical-align: middle;\n",
       "    }\n",
       "\n",
       "    .dataframe tbody tr th {\n",
       "        vertical-align: top;\n",
       "    }\n",
       "\n",
       "    .dataframe thead th {\n",
       "        text-align: right;\n",
       "    }\n",
       "</style>\n",
       "<table border=\"1\" class=\"dataframe\">\n",
       "  <thead>\n",
       "    <tr style=\"text-align: right;\">\n",
       "      <th></th>\n",
       "      <th>거주인구</th>\n",
       "      <th>근무인구</th>\n",
       "      <th>방문인구</th>\n",
       "    </tr>\n",
       "  </thead>\n",
       "  <tbody>\n",
       "    <tr>\n",
       "      <th>0</th>\n",
       "      <td>2.583214</td>\n",
       "      <td>-0.390147</td>\n",
       "      <td>-0.406681</td>\n",
       "    </tr>\n",
       "    <tr>\n",
       "      <th>1</th>\n",
       "      <td>-0.616065</td>\n",
       "      <td>-0.297554</td>\n",
       "      <td>0.816076</td>\n",
       "    </tr>\n",
       "    <tr>\n",
       "      <th>2</th>\n",
       "      <td>2.733053</td>\n",
       "      <td>-0.380467</td>\n",
       "      <td>-0.363399</td>\n",
       "    </tr>\n",
       "    <tr>\n",
       "      <th>3</th>\n",
       "      <td>-0.616065</td>\n",
       "      <td>-0.269876</td>\n",
       "      <td>1.055505</td>\n",
       "    </tr>\n",
       "    <tr>\n",
       "      <th>4</th>\n",
       "      <td>2.334232</td>\n",
       "      <td>-0.205066</td>\n",
       "      <td>-0.482591</td>\n",
       "    </tr>\n",
       "  </tbody>\n",
       "</table>\n",
       "</div>"
      ],
      "text/plain": [
       "       거주인구      근무인구      방문인구\n",
       "0  2.583214 -0.390147 -0.406681\n",
       "1 -0.616065 -0.297554  0.816076\n",
       "2  2.733053 -0.380467 -0.363399\n",
       "3 -0.616065 -0.269876  1.055505\n",
       "4  2.334232 -0.205066 -0.482591"
      ]
     },
     "execution_count": 94,
     "metadata": {},
     "output_type": "execute_result"
    }
   ],
   "source": [
    "new_m8_scaled_df.head()"
   ]
  },
  {
   "cell_type": "code",
   "execution_count": 95,
   "id": "4f11a253",
   "metadata": {},
   "outputs": [
    {
     "data": {
      "text/html": [
       "<div>\n",
       "<style scoped>\n",
       "    .dataframe tbody tr th:only-of-type {\n",
       "        vertical-align: middle;\n",
       "    }\n",
       "\n",
       "    .dataframe tbody tr th {\n",
       "        vertical-align: top;\n",
       "    }\n",
       "\n",
       "    .dataframe thead th {\n",
       "        text-align: right;\n",
       "    }\n",
       "</style>\n",
       "<table border=\"1\" class=\"dataframe\">\n",
       "  <thead>\n",
       "    <tr style=\"text-align: right;\">\n",
       "      <th></th>\n",
       "      <th>거주인구</th>\n",
       "      <th>근무인구</th>\n",
       "      <th>방문인구</th>\n",
       "    </tr>\n",
       "  </thead>\n",
       "  <tbody>\n",
       "    <tr>\n",
       "      <th>count</th>\n",
       "      <td>3.067141e+06</td>\n",
       "      <td>3.067141e+06</td>\n",
       "      <td>3.067141e+06</td>\n",
       "    </tr>\n",
       "    <tr>\n",
       "      <th>mean</th>\n",
       "      <td>8.518028e-14</td>\n",
       "      <td>1.388756e-14</td>\n",
       "      <td>1.980842e-15</td>\n",
       "    </tr>\n",
       "    <tr>\n",
       "      <th>std</th>\n",
       "      <td>1.000000e+00</td>\n",
       "      <td>1.000000e+00</td>\n",
       "      <td>1.000000e+00</td>\n",
       "    </tr>\n",
       "    <tr>\n",
       "      <th>min</th>\n",
       "      <td>-6.160654e-01</td>\n",
       "      <td>-4.910578e-01</td>\n",
       "      <td>-8.578649e-01</td>\n",
       "    </tr>\n",
       "    <tr>\n",
       "      <th>25%</th>\n",
       "      <td>-6.160654e-01</td>\n",
       "      <td>-4.910578e-01</td>\n",
       "      <td>-6.348193e-01</td>\n",
       "    </tr>\n",
       "    <tr>\n",
       "      <th>50%</th>\n",
       "      <td>-6.160654e-01</td>\n",
       "      <td>-3.213513e-01</td>\n",
       "      <td>-3.449766e-01</td>\n",
       "    </tr>\n",
       "    <tr>\n",
       "      <th>75%</th>\n",
       "      <td>2.921904e-01</td>\n",
       "      <td>2.453824e-02</td>\n",
       "      <td>2.431830e-01</td>\n",
       "    </tr>\n",
       "    <tr>\n",
       "      <th>max</th>\n",
       "      <td>3.549192e+00</td>\n",
       "      <td>2.834132e+01</td>\n",
       "      <td>1.118271e+01</td>\n",
       "    </tr>\n",
       "  </tbody>\n",
       "</table>\n",
       "</div>"
      ],
      "text/plain": [
       "               거주인구          근무인구          방문인구\n",
       "count  3.067141e+06  3.067141e+06  3.067141e+06\n",
       "mean   8.518028e-14  1.388756e-14  1.980842e-15\n",
       "std    1.000000e+00  1.000000e+00  1.000000e+00\n",
       "min   -6.160654e-01 -4.910578e-01 -8.578649e-01\n",
       "25%   -6.160654e-01 -4.910578e-01 -6.348193e-01\n",
       "50%   -6.160654e-01 -3.213513e-01 -3.449766e-01\n",
       "75%    2.921904e-01  2.453824e-02  2.431830e-01\n",
       "max    3.549192e+00  2.834132e+01  1.118271e+01"
      ]
     },
     "execution_count": 95,
     "metadata": {},
     "output_type": "execute_result"
    }
   ],
   "source": [
    "new_m8_scaled_df.describe()"
   ]
  },
  {
   "cell_type": "code",
   "execution_count": null,
   "id": "1ffd3d7b",
   "metadata": {},
   "outputs": [],
   "source": []
  },
  {
   "cell_type": "code",
   "execution_count": 96,
   "id": "3dff3709",
   "metadata": {},
   "outputs": [],
   "source": [
    "scaler.fit(new_m9[['거주인구', '근무인구', '방문인구']])\n",
    "new_m9_scaled = scaler.transform(new_m9[['거주인구', '근무인구', '방문인구']])\n",
    "new_m9_scaled_df = pd.DataFrame(new_m9_scaled, columns = ['거주인구', '근무인구', '방문인구'])"
   ]
  },
  {
   "cell_type": "code",
   "execution_count": 97,
   "id": "50327901",
   "metadata": {},
   "outputs": [
    {
     "data": {
      "text/html": [
       "<div>\n",
       "<style scoped>\n",
       "    .dataframe tbody tr th:only-of-type {\n",
       "        vertical-align: middle;\n",
       "    }\n",
       "\n",
       "    .dataframe tbody tr th {\n",
       "        vertical-align: top;\n",
       "    }\n",
       "\n",
       "    .dataframe thead th {\n",
       "        text-align: right;\n",
       "    }\n",
       "</style>\n",
       "<table border=\"1\" class=\"dataframe\">\n",
       "  <thead>\n",
       "    <tr style=\"text-align: right;\">\n",
       "      <th></th>\n",
       "      <th>거주인구</th>\n",
       "      <th>근무인구</th>\n",
       "      <th>방문인구</th>\n",
       "    </tr>\n",
       "  </thead>\n",
       "  <tbody>\n",
       "    <tr>\n",
       "      <th>0</th>\n",
       "      <td>2.650286</td>\n",
       "      <td>-0.289548</td>\n",
       "      <td>-0.516289</td>\n",
       "    </tr>\n",
       "    <tr>\n",
       "      <th>1</th>\n",
       "      <td>-0.613742</td>\n",
       "      <td>-0.496778</td>\n",
       "      <td>-0.173478</td>\n",
       "    </tr>\n",
       "    <tr>\n",
       "      <th>2</th>\n",
       "      <td>2.803158</td>\n",
       "      <td>-0.269668</td>\n",
       "      <td>-0.482783</td>\n",
       "    </tr>\n",
       "    <tr>\n",
       "      <th>3</th>\n",
       "      <td>-0.613742</td>\n",
       "      <td>-0.496778</td>\n",
       "      <td>-0.074487</td>\n",
       "    </tr>\n",
       "    <tr>\n",
       "      <th>4</th>\n",
       "      <td>2.258773</td>\n",
       "      <td>0.086843</td>\n",
       "      <td>-0.291767</td>\n",
       "    </tr>\n",
       "  </tbody>\n",
       "</table>\n",
       "</div>"
      ],
      "text/plain": [
       "       거주인구      근무인구      방문인구\n",
       "0  2.650286 -0.289548 -0.516289\n",
       "1 -0.613742 -0.496778 -0.173478\n",
       "2  2.803158 -0.269668 -0.482783\n",
       "3 -0.613742 -0.496778 -0.074487\n",
       "4  2.258773  0.086843 -0.291767"
      ]
     },
     "execution_count": 97,
     "metadata": {},
     "output_type": "execute_result"
    }
   ],
   "source": [
    "new_m9_scaled_df.head()"
   ]
  },
  {
   "cell_type": "code",
   "execution_count": 98,
   "id": "304a6d6a",
   "metadata": {},
   "outputs": [
    {
     "data": {
      "text/html": [
       "<div>\n",
       "<style scoped>\n",
       "    .dataframe tbody tr th:only-of-type {\n",
       "        vertical-align: middle;\n",
       "    }\n",
       "\n",
       "    .dataframe tbody tr th {\n",
       "        vertical-align: top;\n",
       "    }\n",
       "\n",
       "    .dataframe thead th {\n",
       "        text-align: right;\n",
       "    }\n",
       "</style>\n",
       "<table border=\"1\" class=\"dataframe\">\n",
       "  <thead>\n",
       "    <tr style=\"text-align: right;\">\n",
       "      <th></th>\n",
       "      <th>거주인구</th>\n",
       "      <th>근무인구</th>\n",
       "      <th>방문인구</th>\n",
       "    </tr>\n",
       "  </thead>\n",
       "  <tbody>\n",
       "    <tr>\n",
       "      <th>count</th>\n",
       "      <td>2.956361e+06</td>\n",
       "      <td>2.956361e+06</td>\n",
       "      <td>2.956361e+06</td>\n",
       "    </tr>\n",
       "    <tr>\n",
       "      <th>mean</th>\n",
       "      <td>2.386926e-13</td>\n",
       "      <td>-3.919840e-14</td>\n",
       "      <td>-7.390918e-15</td>\n",
       "    </tr>\n",
       "    <tr>\n",
       "      <th>std</th>\n",
       "      <td>1.000000e+00</td>\n",
       "      <td>1.000000e+00</td>\n",
       "      <td>1.000000e+00</td>\n",
       "    </tr>\n",
       "    <tr>\n",
       "      <th>min</th>\n",
       "      <td>-6.137419e-01</td>\n",
       "      <td>-4.967780e-01</td>\n",
       "      <td>-8.655606e-01</td>\n",
       "    </tr>\n",
       "    <tr>\n",
       "      <th>25%</th>\n",
       "      <td>-6.137419e-01</td>\n",
       "      <td>-4.967780e-01</td>\n",
       "      <td>-6.488256e-01</td>\n",
       "    </tr>\n",
       "    <tr>\n",
       "      <th>50%</th>\n",
       "      <td>-6.137419e-01</td>\n",
       "      <td>-3.176284e-01</td>\n",
       "      <td>-3.548310e-01</td>\n",
       "    </tr>\n",
       "    <tr>\n",
       "      <th>75%</th>\n",
       "      <td>2.833292e-01</td>\n",
       "      <td>2.185228e-02</td>\n",
       "      <td>2.614063e-01</td>\n",
       "    </tr>\n",
       "    <tr>\n",
       "      <th>max</th>\n",
       "      <td>3.546329e+00</td>\n",
       "      <td>1.969493e+01</td>\n",
       "      <td>1.363320e+01</td>\n",
       "    </tr>\n",
       "  </tbody>\n",
       "</table>\n",
       "</div>"
      ],
      "text/plain": [
       "               거주인구          근무인구          방문인구\n",
       "count  2.956361e+06  2.956361e+06  2.956361e+06\n",
       "mean   2.386926e-13 -3.919840e-14 -7.390918e-15\n",
       "std    1.000000e+00  1.000000e+00  1.000000e+00\n",
       "min   -6.137419e-01 -4.967780e-01 -8.655606e-01\n",
       "25%   -6.137419e-01 -4.967780e-01 -6.488256e-01\n",
       "50%   -6.137419e-01 -3.176284e-01 -3.548310e-01\n",
       "75%    2.833292e-01  2.185228e-02  2.614063e-01\n",
       "max    3.546329e+00  1.969493e+01  1.363320e+01"
      ]
     },
     "execution_count": 98,
     "metadata": {},
     "output_type": "execute_result"
    }
   ],
   "source": [
    "new_m9_scaled_df.describe()"
   ]
  },
  {
   "cell_type": "code",
   "execution_count": null,
   "id": "ac9895f8",
   "metadata": {},
   "outputs": [],
   "source": []
  },
  {
   "cell_type": "code",
   "execution_count": 99,
   "id": "9f896b8c",
   "metadata": {},
   "outputs": [],
   "source": [
    "scaler.fit(new_m10[['거주인구', '근무인구', '방문인구']])\n",
    "new_m10_scaled = scaler.transform(new_m10[['거주인구', '근무인구', '방문인구']])\n",
    "new_m10_scaled_df = pd.DataFrame(new_m10_scaled, columns = ['거주인구', '근무인구', '방문인구'])"
   ]
  },
  {
   "cell_type": "code",
   "execution_count": 100,
   "id": "0f076349",
   "metadata": {},
   "outputs": [
    {
     "data": {
      "text/html": [
       "<div>\n",
       "<style scoped>\n",
       "    .dataframe tbody tr th:only-of-type {\n",
       "        vertical-align: middle;\n",
       "    }\n",
       "\n",
       "    .dataframe tbody tr th {\n",
       "        vertical-align: top;\n",
       "    }\n",
       "\n",
       "    .dataframe thead th {\n",
       "        text-align: right;\n",
       "    }\n",
       "</style>\n",
       "<table border=\"1\" class=\"dataframe\">\n",
       "  <thead>\n",
       "    <tr style=\"text-align: right;\">\n",
       "      <th></th>\n",
       "      <th>거주인구</th>\n",
       "      <th>근무인구</th>\n",
       "      <th>방문인구</th>\n",
       "    </tr>\n",
       "  </thead>\n",
       "  <tbody>\n",
       "    <tr>\n",
       "      <th>0</th>\n",
       "      <td>2.922695</td>\n",
       "      <td>-0.185770</td>\n",
       "      <td>-0.741178</td>\n",
       "    </tr>\n",
       "    <tr>\n",
       "      <th>1</th>\n",
       "      <td>-0.611847</td>\n",
       "      <td>-0.378595</td>\n",
       "      <td>-0.435004</td>\n",
       "    </tr>\n",
       "    <tr>\n",
       "      <th>2</th>\n",
       "      <td>3.088237</td>\n",
       "      <td>-0.158582</td>\n",
       "      <td>-0.730818</td>\n",
       "    </tr>\n",
       "    <tr>\n",
       "      <th>3</th>\n",
       "      <td>-0.611847</td>\n",
       "      <td>-0.365641</td>\n",
       "      <td>-0.375765</td>\n",
       "    </tr>\n",
       "    <tr>\n",
       "      <th>4</th>\n",
       "      <td>2.344905</td>\n",
       "      <td>-0.337230</td>\n",
       "      <td>-0.547509</td>\n",
       "    </tr>\n",
       "  </tbody>\n",
       "</table>\n",
       "</div>"
      ],
      "text/plain": [
       "       거주인구      근무인구      방문인구\n",
       "0  2.922695 -0.185770 -0.741178\n",
       "1 -0.611847 -0.378595 -0.435004\n",
       "2  3.088237 -0.158582 -0.730818\n",
       "3 -0.611847 -0.365641 -0.375765\n",
       "4  2.344905 -0.337230 -0.547509"
      ]
     },
     "execution_count": 100,
     "metadata": {},
     "output_type": "execute_result"
    }
   ],
   "source": [
    "new_m10_scaled_df.head()"
   ]
  },
  {
   "cell_type": "code",
   "execution_count": 101,
   "id": "e2bf15e0",
   "metadata": {},
   "outputs": [
    {
     "data": {
      "text/html": [
       "<div>\n",
       "<style scoped>\n",
       "    .dataframe tbody tr th:only-of-type {\n",
       "        vertical-align: middle;\n",
       "    }\n",
       "\n",
       "    .dataframe tbody tr th {\n",
       "        vertical-align: top;\n",
       "    }\n",
       "\n",
       "    .dataframe thead th {\n",
       "        text-align: right;\n",
       "    }\n",
       "</style>\n",
       "<table border=\"1\" class=\"dataframe\">\n",
       "  <thead>\n",
       "    <tr style=\"text-align: right;\">\n",
       "      <th></th>\n",
       "      <th>거주인구</th>\n",
       "      <th>근무인구</th>\n",
       "      <th>방문인구</th>\n",
       "    </tr>\n",
       "  </thead>\n",
       "  <tbody>\n",
       "    <tr>\n",
       "      <th>count</th>\n",
       "      <td>3.054273e+06</td>\n",
       "      <td>3.054273e+06</td>\n",
       "      <td>3.054273e+06</td>\n",
       "    </tr>\n",
       "    <tr>\n",
       "      <th>mean</th>\n",
       "      <td>8.711340e-14</td>\n",
       "      <td>1.130026e-13</td>\n",
       "      <td>6.906645e-15</td>\n",
       "    </tr>\n",
       "    <tr>\n",
       "      <th>std</th>\n",
       "      <td>1.000000e+00</td>\n",
       "      <td>1.000000e+00</td>\n",
       "      <td>1.000000e+00</td>\n",
       "    </tr>\n",
       "    <tr>\n",
       "      <th>min</th>\n",
       "      <td>-6.118474e-01</td>\n",
       "      <td>-4.691715e-01</td>\n",
       "      <td>-8.491699e-01</td>\n",
       "    </tr>\n",
       "    <tr>\n",
       "      <th>25%</th>\n",
       "      <td>-6.118474e-01</td>\n",
       "      <td>-4.691715e-01</td>\n",
       "      <td>-6.381536e-01</td>\n",
       "    </tr>\n",
       "    <tr>\n",
       "      <th>50%</th>\n",
       "      <td>-6.118474e-01</td>\n",
       "      <td>-3.096877e-01</td>\n",
       "      <td>-3.541787e-01</td>\n",
       "    </tr>\n",
       "    <tr>\n",
       "      <th>75%</th>\n",
       "      <td>2.795511e-01</td>\n",
       "      <td>9.834400e-03</td>\n",
       "      <td>2.489000e-01</td>\n",
       "    </tr>\n",
       "    <tr>\n",
       "      <th>max</th>\n",
       "      <td>3.551184e+00</td>\n",
       "      <td>2.743883e+01</td>\n",
       "      <td>1.727350e+01</td>\n",
       "    </tr>\n",
       "  </tbody>\n",
       "</table>\n",
       "</div>"
      ],
      "text/plain": [
       "               거주인구          근무인구          방문인구\n",
       "count  3.054273e+06  3.054273e+06  3.054273e+06\n",
       "mean   8.711340e-14  1.130026e-13  6.906645e-15\n",
       "std    1.000000e+00  1.000000e+00  1.000000e+00\n",
       "min   -6.118474e-01 -4.691715e-01 -8.491699e-01\n",
       "25%   -6.118474e-01 -4.691715e-01 -6.381536e-01\n",
       "50%   -6.118474e-01 -3.096877e-01 -3.541787e-01\n",
       "75%    2.795511e-01  9.834400e-03  2.489000e-01\n",
       "max    3.551184e+00  2.743883e+01  1.727350e+01"
      ]
     },
     "execution_count": 101,
     "metadata": {},
     "output_type": "execute_result"
    }
   ],
   "source": [
    "new_m10_scaled_df.describe()"
   ]
  },
  {
   "cell_type": "code",
   "execution_count": null,
   "id": "993b4d4b",
   "metadata": {},
   "outputs": [],
   "source": []
  },
  {
   "cell_type": "code",
   "execution_count": 102,
   "id": "6eb1493b",
   "metadata": {},
   "outputs": [],
   "source": [
    "scaler.fit(new_m11[['거주인구', '근무인구', '방문인구']])\n",
    "new_m11_scaled = scaler.transform(new_m11[['거주인구', '근무인구', '방문인구']])\n",
    "new_m11_scaled_df = pd.DataFrame(new_m11_scaled, columns = ['거주인구', '근무인구', '방문인구'])"
   ]
  },
  {
   "cell_type": "code",
   "execution_count": 103,
   "id": "2dc1668a",
   "metadata": {},
   "outputs": [
    {
     "data": {
      "text/html": [
       "<div>\n",
       "<style scoped>\n",
       "    .dataframe tbody tr th:only-of-type {\n",
       "        vertical-align: middle;\n",
       "    }\n",
       "\n",
       "    .dataframe tbody tr th {\n",
       "        vertical-align: top;\n",
       "    }\n",
       "\n",
       "    .dataframe thead th {\n",
       "        text-align: right;\n",
       "    }\n",
       "</style>\n",
       "<table border=\"1\" class=\"dataframe\">\n",
       "  <thead>\n",
       "    <tr style=\"text-align: right;\">\n",
       "      <th></th>\n",
       "      <th>거주인구</th>\n",
       "      <th>근무인구</th>\n",
       "      <th>방문인구</th>\n",
       "    </tr>\n",
       "  </thead>\n",
       "  <tbody>\n",
       "    <tr>\n",
       "      <th>0</th>\n",
       "      <td>2.974418</td>\n",
       "      <td>-0.293084</td>\n",
       "      <td>-0.817657</td>\n",
       "    </tr>\n",
       "    <tr>\n",
       "      <th>1</th>\n",
       "      <td>-0.611044</td>\n",
       "      <td>-0.387334</td>\n",
       "      <td>3.966702</td>\n",
       "    </tr>\n",
       "    <tr>\n",
       "      <th>2</th>\n",
       "      <td>3.142345</td>\n",
       "      <td>-0.275716</td>\n",
       "      <td>-0.813401</td>\n",
       "    </tr>\n",
       "    <tr>\n",
       "      <th>3</th>\n",
       "      <td>-0.611044</td>\n",
       "      <td>-0.374919</td>\n",
       "      <td>4.657370</td>\n",
       "    </tr>\n",
       "    <tr>\n",
       "      <th>4</th>\n",
       "      <td>2.304805</td>\n",
       "      <td>-0.161245</td>\n",
       "      <td>-0.616635</td>\n",
       "    </tr>\n",
       "  </tbody>\n",
       "</table>\n",
       "</div>"
      ],
      "text/plain": [
       "       거주인구      근무인구      방문인구\n",
       "0  2.974418 -0.293084 -0.817657\n",
       "1 -0.611044 -0.387334  3.966702\n",
       "2  3.142345 -0.275716 -0.813401\n",
       "3 -0.611044 -0.374919  4.657370\n",
       "4  2.304805 -0.161245 -0.616635"
      ]
     },
     "execution_count": 103,
     "metadata": {},
     "output_type": "execute_result"
    }
   ],
   "source": [
    "new_m11_scaled_df.head()"
   ]
  },
  {
   "cell_type": "code",
   "execution_count": 104,
   "id": "825e0ced",
   "metadata": {},
   "outputs": [
    {
     "data": {
      "text/html": [
       "<div>\n",
       "<style scoped>\n",
       "    .dataframe tbody tr th:only-of-type {\n",
       "        vertical-align: middle;\n",
       "    }\n",
       "\n",
       "    .dataframe tbody tr th {\n",
       "        vertical-align: top;\n",
       "    }\n",
       "\n",
       "    .dataframe thead th {\n",
       "        text-align: right;\n",
       "    }\n",
       "</style>\n",
       "<table border=\"1\" class=\"dataframe\">\n",
       "  <thead>\n",
       "    <tr style=\"text-align: right;\">\n",
       "      <th></th>\n",
       "      <th>거주인구</th>\n",
       "      <th>근무인구</th>\n",
       "      <th>방문인구</th>\n",
       "    </tr>\n",
       "  </thead>\n",
       "  <tbody>\n",
       "    <tr>\n",
       "      <th>count</th>\n",
       "      <td>2.953526e+06</td>\n",
       "      <td>2.953526e+06</td>\n",
       "      <td>2.953526e+06</td>\n",
       "    </tr>\n",
       "    <tr>\n",
       "      <th>mean</th>\n",
       "      <td>-5.176539e-14</td>\n",
       "      <td>-4.552665e-14</td>\n",
       "      <td>-5.697536e-15</td>\n",
       "    </tr>\n",
       "    <tr>\n",
       "      <th>std</th>\n",
       "      <td>1.000000e+00</td>\n",
       "      <td>1.000000e+00</td>\n",
       "      <td>1.000000e+00</td>\n",
       "    </tr>\n",
       "    <tr>\n",
       "      <th>min</th>\n",
       "      <td>-6.110444e-01</td>\n",
       "      <td>-4.741230e-01</td>\n",
       "      <td>-8.620298e-01</td>\n",
       "    </tr>\n",
       "    <tr>\n",
       "      <th>25%</th>\n",
       "      <td>-6.110444e-01</td>\n",
       "      <td>-4.741230e-01</td>\n",
       "      <td>-6.430397e-01</td>\n",
       "    </tr>\n",
       "    <tr>\n",
       "      <th>50%</th>\n",
       "      <td>-6.110444e-01</td>\n",
       "      <td>-3.217352e-01</td>\n",
       "      <td>-3.550875e-01</td>\n",
       "    </tr>\n",
       "    <tr>\n",
       "      <th>75%</th>\n",
       "      <td>2.742580e-01</td>\n",
       "      <td>2.407284e-02</td>\n",
       "      <td>2.620938e-01</td>\n",
       "    </tr>\n",
       "    <tr>\n",
       "      <th>max</th>\n",
       "      <td>3.554987e+00</td>\n",
       "      <td>2.597582e+01</td>\n",
       "      <td>2.792206e+01</td>\n",
       "    </tr>\n",
       "  </tbody>\n",
       "</table>\n",
       "</div>"
      ],
      "text/plain": [
       "               거주인구          근무인구          방문인구\n",
       "count  2.953526e+06  2.953526e+06  2.953526e+06\n",
       "mean  -5.176539e-14 -4.552665e-14 -5.697536e-15\n",
       "std    1.000000e+00  1.000000e+00  1.000000e+00\n",
       "min   -6.110444e-01 -4.741230e-01 -8.620298e-01\n",
       "25%   -6.110444e-01 -4.741230e-01 -6.430397e-01\n",
       "50%   -6.110444e-01 -3.217352e-01 -3.550875e-01\n",
       "75%    2.742580e-01  2.407284e-02  2.620938e-01\n",
       "max    3.554987e+00  2.597582e+01  2.792206e+01"
      ]
     },
     "execution_count": 104,
     "metadata": {},
     "output_type": "execute_result"
    }
   ],
   "source": [
    "new_m11_scaled_df.describe()"
   ]
  },
  {
   "cell_type": "code",
   "execution_count": null,
   "id": "9fe55dc5",
   "metadata": {},
   "outputs": [],
   "source": []
  },
  {
   "cell_type": "code",
   "execution_count": 105,
   "id": "895fc4bc",
   "metadata": {},
   "outputs": [],
   "source": [
    "scaler.fit(new_m12[['거주인구', '근무인구', '방문인구']])\n",
    "new_m12_scaled = scaler.transform(new_m12[['거주인구', '근무인구', '방문인구']])\n",
    "new_m12_scaled_df = pd.DataFrame(new_m12_scaled, columns = ['거주인구', '근무인구', '방문인구'])"
   ]
  },
  {
   "cell_type": "code",
   "execution_count": 106,
   "id": "97bfc550",
   "metadata": {},
   "outputs": [
    {
     "data": {
      "text/html": [
       "<div>\n",
       "<style scoped>\n",
       "    .dataframe tbody tr th:only-of-type {\n",
       "        vertical-align: middle;\n",
       "    }\n",
       "\n",
       "    .dataframe tbody tr th {\n",
       "        vertical-align: top;\n",
       "    }\n",
       "\n",
       "    .dataframe thead th {\n",
       "        text-align: right;\n",
       "    }\n",
       "</style>\n",
       "<table border=\"1\" class=\"dataframe\">\n",
       "  <thead>\n",
       "    <tr style=\"text-align: right;\">\n",
       "      <th></th>\n",
       "      <th>거주인구</th>\n",
       "      <th>근무인구</th>\n",
       "      <th>방문인구</th>\n",
       "    </tr>\n",
       "  </thead>\n",
       "  <tbody>\n",
       "    <tr>\n",
       "      <th>0</th>\n",
       "      <td>2.660741</td>\n",
       "      <td>-0.409042</td>\n",
       "      <td>-0.595416</td>\n",
       "    </tr>\n",
       "    <tr>\n",
       "      <th>1</th>\n",
       "      <td>-0.614053</td>\n",
       "      <td>-0.507732</td>\n",
       "      <td>-0.560249</td>\n",
       "    </tr>\n",
       "    <tr>\n",
       "      <th>2</th>\n",
       "      <td>2.814118</td>\n",
       "      <td>-0.399573</td>\n",
       "      <td>-0.566968</td>\n",
       "    </tr>\n",
       "    <tr>\n",
       "      <th>3</th>\n",
       "      <td>-0.614053</td>\n",
       "      <td>-0.507732</td>\n",
       "      <td>-0.512804</td>\n",
       "    </tr>\n",
       "    <tr>\n",
       "      <th>4</th>\n",
       "      <td>1.691283</td>\n",
       "      <td>0.013346</td>\n",
       "      <td>-0.598389</td>\n",
       "    </tr>\n",
       "  </tbody>\n",
       "</table>\n",
       "</div>"
      ],
      "text/plain": [
       "       거주인구      근무인구      방문인구\n",
       "0  2.660741 -0.409042 -0.595416\n",
       "1 -0.614053 -0.507732 -0.560249\n",
       "2  2.814118 -0.399573 -0.566968\n",
       "3 -0.614053 -0.507732 -0.512804\n",
       "4  1.691283  0.013346 -0.598389"
      ]
     },
     "execution_count": 106,
     "metadata": {},
     "output_type": "execute_result"
    }
   ],
   "source": [
    "new_m12_scaled_df.head()"
   ]
  },
  {
   "cell_type": "code",
   "execution_count": 107,
   "id": "c87cce40",
   "metadata": {},
   "outputs": [
    {
     "data": {
      "text/html": [
       "<div>\n",
       "<style scoped>\n",
       "    .dataframe tbody tr th:only-of-type {\n",
       "        vertical-align: middle;\n",
       "    }\n",
       "\n",
       "    .dataframe tbody tr th {\n",
       "        vertical-align: top;\n",
       "    }\n",
       "\n",
       "    .dataframe thead th {\n",
       "        text-align: right;\n",
       "    }\n",
       "</style>\n",
       "<table border=\"1\" class=\"dataframe\">\n",
       "  <thead>\n",
       "    <tr style=\"text-align: right;\">\n",
       "      <th></th>\n",
       "      <th>거주인구</th>\n",
       "      <th>근무인구</th>\n",
       "      <th>방문인구</th>\n",
       "    </tr>\n",
       "  </thead>\n",
       "  <tbody>\n",
       "    <tr>\n",
       "      <th>count</th>\n",
       "      <td>3.056132e+06</td>\n",
       "      <td>3.056132e+06</td>\n",
       "      <td>3.056132e+06</td>\n",
       "    </tr>\n",
       "    <tr>\n",
       "      <th>mean</th>\n",
       "      <td>2.779327e-13</td>\n",
       "      <td>1.899504e-13</td>\n",
       "      <td>3.918299e-15</td>\n",
       "    </tr>\n",
       "    <tr>\n",
       "      <th>std</th>\n",
       "      <td>1.000000e+00</td>\n",
       "      <td>1.000000e+00</td>\n",
       "      <td>1.000000e+00</td>\n",
       "    </tr>\n",
       "    <tr>\n",
       "      <th>min</th>\n",
       "      <td>-6.140532e-01</td>\n",
       "      <td>-5.077317e-01</td>\n",
       "      <td>-8.919519e-01</td>\n",
       "    </tr>\n",
       "    <tr>\n",
       "      <th>25%</th>\n",
       "      <td>-6.140532e-01</td>\n",
       "      <td>-4.624988e-01</td>\n",
       "      <td>-6.552411e-01</td>\n",
       "    </tr>\n",
       "    <tr>\n",
       "      <th>50%</th>\n",
       "      <td>-6.140532e-01</td>\n",
       "      <td>-3.236151e-01</td>\n",
       "      <td>-3.461256e-01</td>\n",
       "    </tr>\n",
       "    <tr>\n",
       "      <th>75%</th>\n",
       "      <td>2.836662e-01</td>\n",
       "      <td>4.007328e-02</td>\n",
       "      <td>2.877271e-01</td>\n",
       "    </tr>\n",
       "    <tr>\n",
       "      <th>max</th>\n",
       "      <td>3.548784e+00</td>\n",
       "      <td>2.131184e+01</td>\n",
       "      <td>1.248583e+01</td>\n",
       "    </tr>\n",
       "  </tbody>\n",
       "</table>\n",
       "</div>"
      ],
      "text/plain": [
       "               거주인구          근무인구          방문인구\n",
       "count  3.056132e+06  3.056132e+06  3.056132e+06\n",
       "mean   2.779327e-13  1.899504e-13  3.918299e-15\n",
       "std    1.000000e+00  1.000000e+00  1.000000e+00\n",
       "min   -6.140532e-01 -5.077317e-01 -8.919519e-01\n",
       "25%   -6.140532e-01 -4.624988e-01 -6.552411e-01\n",
       "50%   -6.140532e-01 -3.236151e-01 -3.461256e-01\n",
       "75%    2.836662e-01  4.007328e-02  2.877271e-01\n",
       "max    3.548784e+00  2.131184e+01  1.248583e+01"
      ]
     },
     "execution_count": 107,
     "metadata": {},
     "output_type": "execute_result"
    }
   ],
   "source": [
    "new_m12_scaled_df.describe()"
   ]
  },
  {
   "cell_type": "code",
   "execution_count": null,
   "id": "172c0185",
   "metadata": {},
   "outputs": [],
   "source": []
  },
  {
   "cell_type": "code",
   "execution_count": 108,
   "id": "e3291e47",
   "metadata": {},
   "outputs": [],
   "source": [
    "new2_m1 = new_m1.copy()\n",
    "new2_m2 = new_m2.copy()\n",
    "new2_m3 = new_m3.copy()\n",
    "new2_m4 = new_m4.copy()\n",
    "new2_m5 = new_m5.copy()\n",
    "new2_m6 = new_m6.copy()\n",
    "new2_m7 = new_m7.copy()\n",
    "new2_m8 = new_m8.copy()\n",
    "new2_m9 = new_m9.copy()\n",
    "new2_m10 = new_m10.copy()\n",
    "new2_m11 = new_m11.copy()\n",
    "new2_m12 = new_m12.copy()"
   ]
  },
  {
   "cell_type": "code",
   "execution_count": 109,
   "id": "0fb8bdbe",
   "metadata": {},
   "outputs": [],
   "source": [
    "new2_m1[['거주인구', '근무인구', '방문인구']] = scaler.transform(new_m1[['거주인구', '근무인구', '방문인구']])\n",
    "new2_m2[['거주인구', '근무인구', '방문인구']] = scaler.transform(new_m2[['거주인구', '근무인구', '방문인구']])\n",
    "new2_m3[['거주인구', '근무인구', '방문인구']] = scaler.transform(new_m3[['거주인구', '근무인구', '방문인구']])\n",
    "new2_m4[['거주인구', '근무인구', '방문인구']] = scaler.transform(new_m4[['거주인구', '근무인구', '방문인구']])\n",
    "new2_m5[['거주인구', '근무인구', '방문인구']] = scaler.transform(new_m5[['거주인구', '근무인구', '방문인구']])\n",
    "new2_m6[['거주인구', '근무인구', '방문인구']] = scaler.transform(new_m6[['거주인구', '근무인구', '방문인구']])\n",
    "new2_m7[['거주인구', '근무인구', '방문인구']] = scaler.transform(new_m7[['거주인구', '근무인구', '방문인구']])\n",
    "new2_m8[['거주인구', '근무인구', '방문인구']] = scaler.transform(new_m8[['거주인구', '근무인구', '방문인구']])\n",
    "new2_m9[['거주인구', '근무인구', '방문인구']] = scaler.transform(new_m9[['거주인구', '근무인구', '방문인구']])\n",
    "new2_m10[['거주인구', '근무인구', '방문인구']] = scaler.transform(new_m10[['거주인구', '근무인구', '방문인구']])\n",
    "new2_m11[['거주인구', '근무인구', '방문인구']] = scaler.transform(new_m11[['거주인구', '근무인구', '방문인구']])\n",
    "new2_m12[['거주인구', '근무인구', '방문인구']] = scaler.transform(new_m12[['거주인구', '근무인구', '방문인구']])"
   ]
  },
  {
   "cell_type": "code",
   "execution_count": 110,
   "id": "e0ac6c92",
   "metadata": {},
   "outputs": [
    {
     "data": {
      "text/html": [
       "<div>\n",
       "<style scoped>\n",
       "    .dataframe tbody tr th:only-of-type {\n",
       "        vertical-align: middle;\n",
       "    }\n",
       "\n",
       "    .dataframe tbody tr th {\n",
       "        vertical-align: top;\n",
       "    }\n",
       "\n",
       "    .dataframe thead th {\n",
       "        text-align: right;\n",
       "    }\n",
       "</style>\n",
       "<table border=\"1\" class=\"dataframe\">\n",
       "  <thead>\n",
       "    <tr style=\"text-align: right;\">\n",
       "      <th></th>\n",
       "      <th>시간</th>\n",
       "      <th>행정동 코드</th>\n",
       "      <th>연령대</th>\n",
       "      <th>거주인구</th>\n",
       "      <th>근무인구</th>\n",
       "      <th>방문인구</th>\n",
       "      <th>월별</th>\n",
       "    </tr>\n",
       "  </thead>\n",
       "  <tbody>\n",
       "    <tr>\n",
       "      <th>시간</th>\n",
       "      <td>1.000000</td>\n",
       "      <td>-0.003986</td>\n",
       "      <td>-0.002159</td>\n",
       "      <td>-0.024577</td>\n",
       "      <td>0.066801</td>\n",
       "      <td>0.107038</td>\n",
       "      <td>NaN</td>\n",
       "    </tr>\n",
       "    <tr>\n",
       "      <th>행정동 코드</th>\n",
       "      <td>-0.003986</td>\n",
       "      <td>1.000000</td>\n",
       "      <td>-0.022562</td>\n",
       "      <td>0.023070</td>\n",
       "      <td>-0.038571</td>\n",
       "      <td>-0.091572</td>\n",
       "      <td>NaN</td>\n",
       "    </tr>\n",
       "    <tr>\n",
       "      <th>연령대</th>\n",
       "      <td>-0.002159</td>\n",
       "      <td>-0.022562</td>\n",
       "      <td>1.000000</td>\n",
       "      <td>-0.022434</td>\n",
       "      <td>-0.087295</td>\n",
       "      <td>-0.212919</td>\n",
       "      <td>NaN</td>\n",
       "    </tr>\n",
       "    <tr>\n",
       "      <th>거주인구</th>\n",
       "      <td>-0.024577</td>\n",
       "      <td>0.023070</td>\n",
       "      <td>-0.022434</td>\n",
       "      <td>1.000000</td>\n",
       "      <td>0.388706</td>\n",
       "      <td>0.143075</td>\n",
       "      <td>NaN</td>\n",
       "    </tr>\n",
       "    <tr>\n",
       "      <th>근무인구</th>\n",
       "      <td>0.066801</td>\n",
       "      <td>-0.038571</td>\n",
       "      <td>-0.087295</td>\n",
       "      <td>0.388706</td>\n",
       "      <td>1.000000</td>\n",
       "      <td>0.530550</td>\n",
       "      <td>NaN</td>\n",
       "    </tr>\n",
       "    <tr>\n",
       "      <th>방문인구</th>\n",
       "      <td>0.107038</td>\n",
       "      <td>-0.091572</td>\n",
       "      <td>-0.212919</td>\n",
       "      <td>0.143075</td>\n",
       "      <td>0.530550</td>\n",
       "      <td>1.000000</td>\n",
       "      <td>NaN</td>\n",
       "    </tr>\n",
       "    <tr>\n",
       "      <th>월별</th>\n",
       "      <td>NaN</td>\n",
       "      <td>NaN</td>\n",
       "      <td>NaN</td>\n",
       "      <td>NaN</td>\n",
       "      <td>NaN</td>\n",
       "      <td>NaN</td>\n",
       "      <td>NaN</td>\n",
       "    </tr>\n",
       "  </tbody>\n",
       "</table>\n",
       "</div>"
      ],
      "text/plain": [
       "              시간    행정동 코드       연령대      거주인구      근무인구      방문인구  월별\n",
       "시간      1.000000 -0.003986 -0.002159 -0.024577  0.066801  0.107038 NaN\n",
       "행정동 코드 -0.003986  1.000000 -0.022562  0.023070 -0.038571 -0.091572 NaN\n",
       "연령대    -0.002159 -0.022562  1.000000 -0.022434 -0.087295 -0.212919 NaN\n",
       "거주인구   -0.024577  0.023070 -0.022434  1.000000  0.388706  0.143075 NaN\n",
       "근무인구    0.066801 -0.038571 -0.087295  0.388706  1.000000  0.530550 NaN\n",
       "방문인구    0.107038 -0.091572 -0.212919  0.143075  0.530550  1.000000 NaN\n",
       "월별           NaN       NaN       NaN       NaN       NaN       NaN NaN"
      ]
     },
     "execution_count": 110,
     "metadata": {},
     "output_type": "execute_result"
    }
   ],
   "source": [
    "new2_m1.corr()"
   ]
  },
  {
   "cell_type": "code",
   "execution_count": 111,
   "id": "d66f4b2a",
   "metadata": {},
   "outputs": [
    {
     "data": {
      "text/html": [
       "<div>\n",
       "<style scoped>\n",
       "    .dataframe tbody tr th:only-of-type {\n",
       "        vertical-align: middle;\n",
       "    }\n",
       "\n",
       "    .dataframe tbody tr th {\n",
       "        vertical-align: top;\n",
       "    }\n",
       "\n",
       "    .dataframe thead th {\n",
       "        text-align: right;\n",
       "    }\n",
       "</style>\n",
       "<table border=\"1\" class=\"dataframe\">\n",
       "  <thead>\n",
       "    <tr style=\"text-align: right;\">\n",
       "      <th></th>\n",
       "      <th>시간</th>\n",
       "      <th>행정동 코드</th>\n",
       "      <th>연령대</th>\n",
       "      <th>거주인구</th>\n",
       "      <th>근무인구</th>\n",
       "      <th>방문인구</th>\n",
       "      <th>월별</th>\n",
       "    </tr>\n",
       "  </thead>\n",
       "  <tbody>\n",
       "    <tr>\n",
       "      <th>시간</th>\n",
       "      <td>1.000000</td>\n",
       "      <td>-0.003613</td>\n",
       "      <td>-0.002634</td>\n",
       "      <td>-0.024879</td>\n",
       "      <td>0.066107</td>\n",
       "      <td>0.116189</td>\n",
       "      <td>NaN</td>\n",
       "    </tr>\n",
       "    <tr>\n",
       "      <th>행정동 코드</th>\n",
       "      <td>-0.003613</td>\n",
       "      <td>1.000000</td>\n",
       "      <td>-0.023103</td>\n",
       "      <td>0.022381</td>\n",
       "      <td>-0.051654</td>\n",
       "      <td>-0.108899</td>\n",
       "      <td>NaN</td>\n",
       "    </tr>\n",
       "    <tr>\n",
       "      <th>연령대</th>\n",
       "      <td>-0.002634</td>\n",
       "      <td>-0.023103</td>\n",
       "      <td>1.000000</td>\n",
       "      <td>-0.023224</td>\n",
       "      <td>-0.067779</td>\n",
       "      <td>-0.188774</td>\n",
       "      <td>NaN</td>\n",
       "    </tr>\n",
       "    <tr>\n",
       "      <th>거주인구</th>\n",
       "      <td>-0.024879</td>\n",
       "      <td>0.022381</td>\n",
       "      <td>-0.023224</td>\n",
       "      <td>1.000000</td>\n",
       "      <td>0.380074</td>\n",
       "      <td>0.191711</td>\n",
       "      <td>NaN</td>\n",
       "    </tr>\n",
       "    <tr>\n",
       "      <th>근무인구</th>\n",
       "      <td>0.066107</td>\n",
       "      <td>-0.051654</td>\n",
       "      <td>-0.067779</td>\n",
       "      <td>0.380074</td>\n",
       "      <td>1.000000</td>\n",
       "      <td>0.564179</td>\n",
       "      <td>NaN</td>\n",
       "    </tr>\n",
       "    <tr>\n",
       "      <th>방문인구</th>\n",
       "      <td>0.116189</td>\n",
       "      <td>-0.108899</td>\n",
       "      <td>-0.188774</td>\n",
       "      <td>0.191711</td>\n",
       "      <td>0.564179</td>\n",
       "      <td>1.000000</td>\n",
       "      <td>NaN</td>\n",
       "    </tr>\n",
       "    <tr>\n",
       "      <th>월별</th>\n",
       "      <td>NaN</td>\n",
       "      <td>NaN</td>\n",
       "      <td>NaN</td>\n",
       "      <td>NaN</td>\n",
       "      <td>NaN</td>\n",
       "      <td>NaN</td>\n",
       "      <td>NaN</td>\n",
       "    </tr>\n",
       "  </tbody>\n",
       "</table>\n",
       "</div>"
      ],
      "text/plain": [
       "              시간    행정동 코드       연령대      거주인구      근무인구      방문인구  월별\n",
       "시간      1.000000 -0.003613 -0.002634 -0.024879  0.066107  0.116189 NaN\n",
       "행정동 코드 -0.003613  1.000000 -0.023103  0.022381 -0.051654 -0.108899 NaN\n",
       "연령대    -0.002634 -0.023103  1.000000 -0.023224 -0.067779 -0.188774 NaN\n",
       "거주인구   -0.024879  0.022381 -0.023224  1.000000  0.380074  0.191711 NaN\n",
       "근무인구    0.066107 -0.051654 -0.067779  0.380074  1.000000  0.564179 NaN\n",
       "방문인구    0.116189 -0.108899 -0.188774  0.191711  0.564179  1.000000 NaN\n",
       "월별           NaN       NaN       NaN       NaN       NaN       NaN NaN"
      ]
     },
     "execution_count": 111,
     "metadata": {},
     "output_type": "execute_result"
    }
   ],
   "source": [
    "new2_m2.corr()"
   ]
  },
  {
   "cell_type": "code",
   "execution_count": 112,
   "id": "e2a0ba8c",
   "metadata": {},
   "outputs": [
    {
     "data": {
      "text/html": [
       "<div>\n",
       "<style scoped>\n",
       "    .dataframe tbody tr th:only-of-type {\n",
       "        vertical-align: middle;\n",
       "    }\n",
       "\n",
       "    .dataframe tbody tr th {\n",
       "        vertical-align: top;\n",
       "    }\n",
       "\n",
       "    .dataframe thead th {\n",
       "        text-align: right;\n",
       "    }\n",
       "</style>\n",
       "<table border=\"1\" class=\"dataframe\">\n",
       "  <thead>\n",
       "    <tr style=\"text-align: right;\">\n",
       "      <th></th>\n",
       "      <th>시간</th>\n",
       "      <th>행정동 코드</th>\n",
       "      <th>연령대</th>\n",
       "      <th>거주인구</th>\n",
       "      <th>근무인구</th>\n",
       "      <th>방문인구</th>\n",
       "      <th>월별</th>\n",
       "    </tr>\n",
       "  </thead>\n",
       "  <tbody>\n",
       "    <tr>\n",
       "      <th>시간</th>\n",
       "      <td>1.000000</td>\n",
       "      <td>-0.004810</td>\n",
       "      <td>-0.003092</td>\n",
       "      <td>-0.026697</td>\n",
       "      <td>0.065918</td>\n",
       "      <td>0.111354</td>\n",
       "      <td>NaN</td>\n",
       "    </tr>\n",
       "    <tr>\n",
       "      <th>행정동 코드</th>\n",
       "      <td>-0.004810</td>\n",
       "      <td>1.000000</td>\n",
       "      <td>-0.021482</td>\n",
       "      <td>0.019783</td>\n",
       "      <td>-0.051684</td>\n",
       "      <td>-0.112094</td>\n",
       "      <td>NaN</td>\n",
       "    </tr>\n",
       "    <tr>\n",
       "      <th>연령대</th>\n",
       "      <td>-0.003092</td>\n",
       "      <td>-0.021482</td>\n",
       "      <td>1.000000</td>\n",
       "      <td>-0.014193</td>\n",
       "      <td>-0.064346</td>\n",
       "      <td>-0.111888</td>\n",
       "      <td>NaN</td>\n",
       "    </tr>\n",
       "    <tr>\n",
       "      <th>거주인구</th>\n",
       "      <td>-0.026697</td>\n",
       "      <td>0.019783</td>\n",
       "      <td>-0.014193</td>\n",
       "      <td>1.000000</td>\n",
       "      <td>0.387941</td>\n",
       "      <td>0.195944</td>\n",
       "      <td>NaN</td>\n",
       "    </tr>\n",
       "    <tr>\n",
       "      <th>근무인구</th>\n",
       "      <td>0.065918</td>\n",
       "      <td>-0.051684</td>\n",
       "      <td>-0.064346</td>\n",
       "      <td>0.387941</td>\n",
       "      <td>1.000000</td>\n",
       "      <td>0.579089</td>\n",
       "      <td>NaN</td>\n",
       "    </tr>\n",
       "    <tr>\n",
       "      <th>방문인구</th>\n",
       "      <td>0.111354</td>\n",
       "      <td>-0.112094</td>\n",
       "      <td>-0.111888</td>\n",
       "      <td>0.195944</td>\n",
       "      <td>0.579089</td>\n",
       "      <td>1.000000</td>\n",
       "      <td>NaN</td>\n",
       "    </tr>\n",
       "    <tr>\n",
       "      <th>월별</th>\n",
       "      <td>NaN</td>\n",
       "      <td>NaN</td>\n",
       "      <td>NaN</td>\n",
       "      <td>NaN</td>\n",
       "      <td>NaN</td>\n",
       "      <td>NaN</td>\n",
       "      <td>NaN</td>\n",
       "    </tr>\n",
       "  </tbody>\n",
       "</table>\n",
       "</div>"
      ],
      "text/plain": [
       "              시간    행정동 코드       연령대      거주인구      근무인구      방문인구  월별\n",
       "시간      1.000000 -0.004810 -0.003092 -0.026697  0.065918  0.111354 NaN\n",
       "행정동 코드 -0.004810  1.000000 -0.021482  0.019783 -0.051684 -0.112094 NaN\n",
       "연령대    -0.003092 -0.021482  1.000000 -0.014193 -0.064346 -0.111888 NaN\n",
       "거주인구   -0.026697  0.019783 -0.014193  1.000000  0.387941  0.195944 NaN\n",
       "근무인구    0.065918 -0.051684 -0.064346  0.387941  1.000000  0.579089 NaN\n",
       "방문인구    0.111354 -0.112094 -0.111888  0.195944  0.579089  1.000000 NaN\n",
       "월별           NaN       NaN       NaN       NaN       NaN       NaN NaN"
      ]
     },
     "execution_count": 112,
     "metadata": {},
     "output_type": "execute_result"
    }
   ],
   "source": [
    "new2_m3.corr()"
   ]
  },
  {
   "cell_type": "code",
   "execution_count": 113,
   "id": "b8f0b72d",
   "metadata": {},
   "outputs": [
    {
     "data": {
      "text/html": [
       "<div>\n",
       "<style scoped>\n",
       "    .dataframe tbody tr th:only-of-type {\n",
       "        vertical-align: middle;\n",
       "    }\n",
       "\n",
       "    .dataframe tbody tr th {\n",
       "        vertical-align: top;\n",
       "    }\n",
       "\n",
       "    .dataframe thead th {\n",
       "        text-align: right;\n",
       "    }\n",
       "</style>\n",
       "<table border=\"1\" class=\"dataframe\">\n",
       "  <thead>\n",
       "    <tr style=\"text-align: right;\">\n",
       "      <th></th>\n",
       "      <th>시간</th>\n",
       "      <th>행정동 코드</th>\n",
       "      <th>연령대</th>\n",
       "      <th>거주인구</th>\n",
       "      <th>근무인구</th>\n",
       "      <th>방문인구</th>\n",
       "      <th>월별</th>\n",
       "    </tr>\n",
       "  </thead>\n",
       "  <tbody>\n",
       "    <tr>\n",
       "      <th>시간</th>\n",
       "      <td>1.000000</td>\n",
       "      <td>-0.003996</td>\n",
       "      <td>-0.003676</td>\n",
       "      <td>-0.025974</td>\n",
       "      <td>0.063180</td>\n",
       "      <td>0.104562</td>\n",
       "      <td>NaN</td>\n",
       "    </tr>\n",
       "    <tr>\n",
       "      <th>행정동 코드</th>\n",
       "      <td>-0.003996</td>\n",
       "      <td>1.000000</td>\n",
       "      <td>-0.022390</td>\n",
       "      <td>0.021111</td>\n",
       "      <td>-0.038630</td>\n",
       "      <td>-0.095621</td>\n",
       "      <td>NaN</td>\n",
       "    </tr>\n",
       "    <tr>\n",
       "      <th>연령대</th>\n",
       "      <td>-0.003676</td>\n",
       "      <td>-0.022390</td>\n",
       "      <td>1.000000</td>\n",
       "      <td>-0.015101</td>\n",
       "      <td>-0.108274</td>\n",
       "      <td>-0.069675</td>\n",
       "      <td>NaN</td>\n",
       "    </tr>\n",
       "    <tr>\n",
       "      <th>거주인구</th>\n",
       "      <td>-0.025974</td>\n",
       "      <td>0.021111</td>\n",
       "      <td>-0.015101</td>\n",
       "      <td>1.000000</td>\n",
       "      <td>0.378475</td>\n",
       "      <td>0.172665</td>\n",
       "      <td>NaN</td>\n",
       "    </tr>\n",
       "    <tr>\n",
       "      <th>근무인구</th>\n",
       "      <td>0.063180</td>\n",
       "      <td>-0.038630</td>\n",
       "      <td>-0.108274</td>\n",
       "      <td>0.378475</td>\n",
       "      <td>1.000000</td>\n",
       "      <td>0.437105</td>\n",
       "      <td>NaN</td>\n",
       "    </tr>\n",
       "    <tr>\n",
       "      <th>방문인구</th>\n",
       "      <td>0.104562</td>\n",
       "      <td>-0.095621</td>\n",
       "      <td>-0.069675</td>\n",
       "      <td>0.172665</td>\n",
       "      <td>0.437105</td>\n",
       "      <td>1.000000</td>\n",
       "      <td>NaN</td>\n",
       "    </tr>\n",
       "    <tr>\n",
       "      <th>월별</th>\n",
       "      <td>NaN</td>\n",
       "      <td>NaN</td>\n",
       "      <td>NaN</td>\n",
       "      <td>NaN</td>\n",
       "      <td>NaN</td>\n",
       "      <td>NaN</td>\n",
       "      <td>NaN</td>\n",
       "    </tr>\n",
       "  </tbody>\n",
       "</table>\n",
       "</div>"
      ],
      "text/plain": [
       "              시간    행정동 코드       연령대      거주인구      근무인구      방문인구  월별\n",
       "시간      1.000000 -0.003996 -0.003676 -0.025974  0.063180  0.104562 NaN\n",
       "행정동 코드 -0.003996  1.000000 -0.022390  0.021111 -0.038630 -0.095621 NaN\n",
       "연령대    -0.003676 -0.022390  1.000000 -0.015101 -0.108274 -0.069675 NaN\n",
       "거주인구   -0.025974  0.021111 -0.015101  1.000000  0.378475  0.172665 NaN\n",
       "근무인구    0.063180 -0.038630 -0.108274  0.378475  1.000000  0.437105 NaN\n",
       "방문인구    0.104562 -0.095621 -0.069675  0.172665  0.437105  1.000000 NaN\n",
       "월별           NaN       NaN       NaN       NaN       NaN       NaN NaN"
      ]
     },
     "execution_count": 113,
     "metadata": {},
     "output_type": "execute_result"
    }
   ],
   "source": [
    "new2_m4.corr()"
   ]
  },
  {
   "cell_type": "code",
   "execution_count": 114,
   "id": "c27e59ef",
   "metadata": {},
   "outputs": [
    {
     "data": {
      "text/html": [
       "<div>\n",
       "<style scoped>\n",
       "    .dataframe tbody tr th:only-of-type {\n",
       "        vertical-align: middle;\n",
       "    }\n",
       "\n",
       "    .dataframe tbody tr th {\n",
       "        vertical-align: top;\n",
       "    }\n",
       "\n",
       "    .dataframe thead th {\n",
       "        text-align: right;\n",
       "    }\n",
       "</style>\n",
       "<table border=\"1\" class=\"dataframe\">\n",
       "  <thead>\n",
       "    <tr style=\"text-align: right;\">\n",
       "      <th></th>\n",
       "      <th>시간</th>\n",
       "      <th>행정동 코드</th>\n",
       "      <th>연령대</th>\n",
       "      <th>거주인구</th>\n",
       "      <th>근무인구</th>\n",
       "      <th>방문인구</th>\n",
       "      <th>월별</th>\n",
       "    </tr>\n",
       "  </thead>\n",
       "  <tbody>\n",
       "    <tr>\n",
       "      <th>시간</th>\n",
       "      <td>1.000000</td>\n",
       "      <td>-0.003998</td>\n",
       "      <td>-0.003165</td>\n",
       "      <td>-0.024759</td>\n",
       "      <td>0.062106</td>\n",
       "      <td>0.102447</td>\n",
       "      <td>NaN</td>\n",
       "    </tr>\n",
       "    <tr>\n",
       "      <th>행정동 코드</th>\n",
       "      <td>-0.003998</td>\n",
       "      <td>1.000000</td>\n",
       "      <td>-0.021253</td>\n",
       "      <td>0.019480</td>\n",
       "      <td>-0.036416</td>\n",
       "      <td>-0.094320</td>\n",
       "      <td>NaN</td>\n",
       "    </tr>\n",
       "    <tr>\n",
       "      <th>연령대</th>\n",
       "      <td>-0.003165</td>\n",
       "      <td>-0.021253</td>\n",
       "      <td>1.000000</td>\n",
       "      <td>-0.014158</td>\n",
       "      <td>-0.104514</td>\n",
       "      <td>-0.131894</td>\n",
       "      <td>NaN</td>\n",
       "    </tr>\n",
       "    <tr>\n",
       "      <th>거주인구</th>\n",
       "      <td>-0.024759</td>\n",
       "      <td>0.019480</td>\n",
       "      <td>-0.014158</td>\n",
       "      <td>1.000000</td>\n",
       "      <td>0.376880</td>\n",
       "      <td>0.148991</td>\n",
       "      <td>NaN</td>\n",
       "    </tr>\n",
       "    <tr>\n",
       "      <th>근무인구</th>\n",
       "      <td>0.062106</td>\n",
       "      <td>-0.036416</td>\n",
       "      <td>-0.104514</td>\n",
       "      <td>0.376880</td>\n",
       "      <td>1.000000</td>\n",
       "      <td>0.424093</td>\n",
       "      <td>NaN</td>\n",
       "    </tr>\n",
       "    <tr>\n",
       "      <th>방문인구</th>\n",
       "      <td>0.102447</td>\n",
       "      <td>-0.094320</td>\n",
       "      <td>-0.131894</td>\n",
       "      <td>0.148991</td>\n",
       "      <td>0.424093</td>\n",
       "      <td>1.000000</td>\n",
       "      <td>NaN</td>\n",
       "    </tr>\n",
       "    <tr>\n",
       "      <th>월별</th>\n",
       "      <td>NaN</td>\n",
       "      <td>NaN</td>\n",
       "      <td>NaN</td>\n",
       "      <td>NaN</td>\n",
       "      <td>NaN</td>\n",
       "      <td>NaN</td>\n",
       "      <td>NaN</td>\n",
       "    </tr>\n",
       "  </tbody>\n",
       "</table>\n",
       "</div>"
      ],
      "text/plain": [
       "              시간    행정동 코드       연령대      거주인구      근무인구      방문인구  월별\n",
       "시간      1.000000 -0.003998 -0.003165 -0.024759  0.062106  0.102447 NaN\n",
       "행정동 코드 -0.003998  1.000000 -0.021253  0.019480 -0.036416 -0.094320 NaN\n",
       "연령대    -0.003165 -0.021253  1.000000 -0.014158 -0.104514 -0.131894 NaN\n",
       "거주인구   -0.024759  0.019480 -0.014158  1.000000  0.376880  0.148991 NaN\n",
       "근무인구    0.062106 -0.036416 -0.104514  0.376880  1.000000  0.424093 NaN\n",
       "방문인구    0.102447 -0.094320 -0.131894  0.148991  0.424093  1.000000 NaN\n",
       "월별           NaN       NaN       NaN       NaN       NaN       NaN NaN"
      ]
     },
     "execution_count": 114,
     "metadata": {},
     "output_type": "execute_result"
    }
   ],
   "source": [
    "new2_m5.corr()"
   ]
  },
  {
   "cell_type": "code",
   "execution_count": 115,
   "id": "2e826035",
   "metadata": {},
   "outputs": [
    {
     "data": {
      "text/html": [
       "<div>\n",
       "<style scoped>\n",
       "    .dataframe tbody tr th:only-of-type {\n",
       "        vertical-align: middle;\n",
       "    }\n",
       "\n",
       "    .dataframe tbody tr th {\n",
       "        vertical-align: top;\n",
       "    }\n",
       "\n",
       "    .dataframe thead th {\n",
       "        text-align: right;\n",
       "    }\n",
       "</style>\n",
       "<table border=\"1\" class=\"dataframe\">\n",
       "  <thead>\n",
       "    <tr style=\"text-align: right;\">\n",
       "      <th></th>\n",
       "      <th>시간</th>\n",
       "      <th>행정동 코드</th>\n",
       "      <th>연령대</th>\n",
       "      <th>거주인구</th>\n",
       "      <th>근무인구</th>\n",
       "      <th>방문인구</th>\n",
       "      <th>월별</th>\n",
       "    </tr>\n",
       "  </thead>\n",
       "  <tbody>\n",
       "    <tr>\n",
       "      <th>시간</th>\n",
       "      <td>1.000000</td>\n",
       "      <td>-0.004481</td>\n",
       "      <td>-0.003178</td>\n",
       "      <td>-0.024604</td>\n",
       "      <td>0.066120</td>\n",
       "      <td>0.100459</td>\n",
       "      <td>NaN</td>\n",
       "    </tr>\n",
       "    <tr>\n",
       "      <th>행정동 코드</th>\n",
       "      <td>-0.004481</td>\n",
       "      <td>1.000000</td>\n",
       "      <td>-0.022148</td>\n",
       "      <td>0.021998</td>\n",
       "      <td>-0.038013</td>\n",
       "      <td>-0.104148</td>\n",
       "      <td>NaN</td>\n",
       "    </tr>\n",
       "    <tr>\n",
       "      <th>연령대</th>\n",
       "      <td>-0.003178</td>\n",
       "      <td>-0.022148</td>\n",
       "      <td>1.000000</td>\n",
       "      <td>-0.011904</td>\n",
       "      <td>-0.107838</td>\n",
       "      <td>-0.122998</td>\n",
       "      <td>NaN</td>\n",
       "    </tr>\n",
       "    <tr>\n",
       "      <th>거주인구</th>\n",
       "      <td>-0.024604</td>\n",
       "      <td>0.021998</td>\n",
       "      <td>-0.011904</td>\n",
       "      <td>1.000000</td>\n",
       "      <td>0.399956</td>\n",
       "      <td>0.154060</td>\n",
       "      <td>NaN</td>\n",
       "    </tr>\n",
       "    <tr>\n",
       "      <th>근무인구</th>\n",
       "      <td>0.066120</td>\n",
       "      <td>-0.038013</td>\n",
       "      <td>-0.107838</td>\n",
       "      <td>0.399956</td>\n",
       "      <td>1.000000</td>\n",
       "      <td>0.442666</td>\n",
       "      <td>NaN</td>\n",
       "    </tr>\n",
       "    <tr>\n",
       "      <th>방문인구</th>\n",
       "      <td>0.100459</td>\n",
       "      <td>-0.104148</td>\n",
       "      <td>-0.122998</td>\n",
       "      <td>0.154060</td>\n",
       "      <td>0.442666</td>\n",
       "      <td>1.000000</td>\n",
       "      <td>NaN</td>\n",
       "    </tr>\n",
       "    <tr>\n",
       "      <th>월별</th>\n",
       "      <td>NaN</td>\n",
       "      <td>NaN</td>\n",
       "      <td>NaN</td>\n",
       "      <td>NaN</td>\n",
       "      <td>NaN</td>\n",
       "      <td>NaN</td>\n",
       "      <td>NaN</td>\n",
       "    </tr>\n",
       "  </tbody>\n",
       "</table>\n",
       "</div>"
      ],
      "text/plain": [
       "              시간    행정동 코드       연령대      거주인구      근무인구      방문인구  월별\n",
       "시간      1.000000 -0.004481 -0.003178 -0.024604  0.066120  0.100459 NaN\n",
       "행정동 코드 -0.004481  1.000000 -0.022148  0.021998 -0.038013 -0.104148 NaN\n",
       "연령대    -0.003178 -0.022148  1.000000 -0.011904 -0.107838 -0.122998 NaN\n",
       "거주인구   -0.024604  0.021998 -0.011904  1.000000  0.399956  0.154060 NaN\n",
       "근무인구    0.066120 -0.038013 -0.107838  0.399956  1.000000  0.442666 NaN\n",
       "방문인구    0.100459 -0.104148 -0.122998  0.154060  0.442666  1.000000 NaN\n",
       "월별           NaN       NaN       NaN       NaN       NaN       NaN NaN"
      ]
     },
     "execution_count": 115,
     "metadata": {},
     "output_type": "execute_result"
    }
   ],
   "source": [
    "new2_m6.corr()"
   ]
  },
  {
   "cell_type": "code",
   "execution_count": 116,
   "id": "b757f58b",
   "metadata": {},
   "outputs": [
    {
     "data": {
      "text/html": [
       "<div>\n",
       "<style scoped>\n",
       "    .dataframe tbody tr th:only-of-type {\n",
       "        vertical-align: middle;\n",
       "    }\n",
       "\n",
       "    .dataframe tbody tr th {\n",
       "        vertical-align: top;\n",
       "    }\n",
       "\n",
       "    .dataframe thead th {\n",
       "        text-align: right;\n",
       "    }\n",
       "</style>\n",
       "<table border=\"1\" class=\"dataframe\">\n",
       "  <thead>\n",
       "    <tr style=\"text-align: right;\">\n",
       "      <th></th>\n",
       "      <th>시간</th>\n",
       "      <th>행정동 코드</th>\n",
       "      <th>연령대</th>\n",
       "      <th>거주인구</th>\n",
       "      <th>근무인구</th>\n",
       "      <th>방문인구</th>\n",
       "      <th>월별</th>\n",
       "    </tr>\n",
       "  </thead>\n",
       "  <tbody>\n",
       "    <tr>\n",
       "      <th>시간</th>\n",
       "      <td>1.000000</td>\n",
       "      <td>-0.004870</td>\n",
       "      <td>-0.001659</td>\n",
       "      <td>-0.025141</td>\n",
       "      <td>0.064339</td>\n",
       "      <td>0.099690</td>\n",
       "      <td>NaN</td>\n",
       "    </tr>\n",
       "    <tr>\n",
       "      <th>행정동 코드</th>\n",
       "      <td>-0.004870</td>\n",
       "      <td>1.000000</td>\n",
       "      <td>-0.024470</td>\n",
       "      <td>0.022509</td>\n",
       "      <td>-0.043519</td>\n",
       "      <td>-0.121243</td>\n",
       "      <td>NaN</td>\n",
       "    </tr>\n",
       "    <tr>\n",
       "      <th>연령대</th>\n",
       "      <td>-0.001659</td>\n",
       "      <td>-0.024470</td>\n",
       "      <td>1.000000</td>\n",
       "      <td>-0.007084</td>\n",
       "      <td>-0.127795</td>\n",
       "      <td>-0.195343</td>\n",
       "      <td>NaN</td>\n",
       "    </tr>\n",
       "    <tr>\n",
       "      <th>거주인구</th>\n",
       "      <td>-0.025141</td>\n",
       "      <td>0.022509</td>\n",
       "      <td>-0.007084</td>\n",
       "      <td>1.000000</td>\n",
       "      <td>0.399213</td>\n",
       "      <td>0.110575</td>\n",
       "      <td>NaN</td>\n",
       "    </tr>\n",
       "    <tr>\n",
       "      <th>근무인구</th>\n",
       "      <td>0.064339</td>\n",
       "      <td>-0.043519</td>\n",
       "      <td>-0.127795</td>\n",
       "      <td>0.399213</td>\n",
       "      <td>1.000000</td>\n",
       "      <td>0.432443</td>\n",
       "      <td>NaN</td>\n",
       "    </tr>\n",
       "    <tr>\n",
       "      <th>방문인구</th>\n",
       "      <td>0.099690</td>\n",
       "      <td>-0.121243</td>\n",
       "      <td>-0.195343</td>\n",
       "      <td>0.110575</td>\n",
       "      <td>0.432443</td>\n",
       "      <td>1.000000</td>\n",
       "      <td>NaN</td>\n",
       "    </tr>\n",
       "    <tr>\n",
       "      <th>월별</th>\n",
       "      <td>NaN</td>\n",
       "      <td>NaN</td>\n",
       "      <td>NaN</td>\n",
       "      <td>NaN</td>\n",
       "      <td>NaN</td>\n",
       "      <td>NaN</td>\n",
       "      <td>NaN</td>\n",
       "    </tr>\n",
       "  </tbody>\n",
       "</table>\n",
       "</div>"
      ],
      "text/plain": [
       "              시간    행정동 코드       연령대      거주인구      근무인구      방문인구  월별\n",
       "시간      1.000000 -0.004870 -0.001659 -0.025141  0.064339  0.099690 NaN\n",
       "행정동 코드 -0.004870  1.000000 -0.024470  0.022509 -0.043519 -0.121243 NaN\n",
       "연령대    -0.001659 -0.024470  1.000000 -0.007084 -0.127795 -0.195343 NaN\n",
       "거주인구   -0.025141  0.022509 -0.007084  1.000000  0.399213  0.110575 NaN\n",
       "근무인구    0.064339 -0.043519 -0.127795  0.399213  1.000000  0.432443 NaN\n",
       "방문인구    0.099690 -0.121243 -0.195343  0.110575  0.432443  1.000000 NaN\n",
       "월별           NaN       NaN       NaN       NaN       NaN       NaN NaN"
      ]
     },
     "execution_count": 116,
     "metadata": {},
     "output_type": "execute_result"
    }
   ],
   "source": [
    "new2_m7.corr()"
   ]
  },
  {
   "cell_type": "code",
   "execution_count": 117,
   "id": "43d0bb1e",
   "metadata": {},
   "outputs": [
    {
     "data": {
      "text/html": [
       "<div>\n",
       "<style scoped>\n",
       "    .dataframe tbody tr th:only-of-type {\n",
       "        vertical-align: middle;\n",
       "    }\n",
       "\n",
       "    .dataframe tbody tr th {\n",
       "        vertical-align: top;\n",
       "    }\n",
       "\n",
       "    .dataframe thead th {\n",
       "        text-align: right;\n",
       "    }\n",
       "</style>\n",
       "<table border=\"1\" class=\"dataframe\">\n",
       "  <thead>\n",
       "    <tr style=\"text-align: right;\">\n",
       "      <th></th>\n",
       "      <th>시간</th>\n",
       "      <th>행정동 코드</th>\n",
       "      <th>연령대</th>\n",
       "      <th>거주인구</th>\n",
       "      <th>근무인구</th>\n",
       "      <th>방문인구</th>\n",
       "      <th>월별</th>\n",
       "    </tr>\n",
       "  </thead>\n",
       "  <tbody>\n",
       "    <tr>\n",
       "      <th>시간</th>\n",
       "      <td>1.000000</td>\n",
       "      <td>-0.005069</td>\n",
       "      <td>-0.002380</td>\n",
       "      <td>-0.023932</td>\n",
       "      <td>0.066555</td>\n",
       "      <td>0.087430</td>\n",
       "      <td>NaN</td>\n",
       "    </tr>\n",
       "    <tr>\n",
       "      <th>행정동 코드</th>\n",
       "      <td>-0.005069</td>\n",
       "      <td>1.000000</td>\n",
       "      <td>-0.023835</td>\n",
       "      <td>0.024110</td>\n",
       "      <td>-0.042526</td>\n",
       "      <td>-0.094968</td>\n",
       "      <td>NaN</td>\n",
       "    </tr>\n",
       "    <tr>\n",
       "      <th>연령대</th>\n",
       "      <td>-0.002380</td>\n",
       "      <td>-0.023835</td>\n",
       "      <td>1.000000</td>\n",
       "      <td>-0.015092</td>\n",
       "      <td>-0.106977</td>\n",
       "      <td>-0.196043</td>\n",
       "      <td>NaN</td>\n",
       "    </tr>\n",
       "    <tr>\n",
       "      <th>거주인구</th>\n",
       "      <td>-0.023932</td>\n",
       "      <td>0.024110</td>\n",
       "      <td>-0.015092</td>\n",
       "      <td>1.000000</td>\n",
       "      <td>0.406792</td>\n",
       "      <td>0.082321</td>\n",
       "      <td>NaN</td>\n",
       "    </tr>\n",
       "    <tr>\n",
       "      <th>근무인구</th>\n",
       "      <td>0.066555</td>\n",
       "      <td>-0.042526</td>\n",
       "      <td>-0.106977</td>\n",
       "      <td>0.406792</td>\n",
       "      <td>1.000000</td>\n",
       "      <td>0.420967</td>\n",
       "      <td>NaN</td>\n",
       "    </tr>\n",
       "    <tr>\n",
       "      <th>방문인구</th>\n",
       "      <td>0.087430</td>\n",
       "      <td>-0.094968</td>\n",
       "      <td>-0.196043</td>\n",
       "      <td>0.082321</td>\n",
       "      <td>0.420967</td>\n",
       "      <td>1.000000</td>\n",
       "      <td>NaN</td>\n",
       "    </tr>\n",
       "    <tr>\n",
       "      <th>월별</th>\n",
       "      <td>NaN</td>\n",
       "      <td>NaN</td>\n",
       "      <td>NaN</td>\n",
       "      <td>NaN</td>\n",
       "      <td>NaN</td>\n",
       "      <td>NaN</td>\n",
       "      <td>NaN</td>\n",
       "    </tr>\n",
       "  </tbody>\n",
       "</table>\n",
       "</div>"
      ],
      "text/plain": [
       "              시간    행정동 코드       연령대      거주인구      근무인구      방문인구  월별\n",
       "시간      1.000000 -0.005069 -0.002380 -0.023932  0.066555  0.087430 NaN\n",
       "행정동 코드 -0.005069  1.000000 -0.023835  0.024110 -0.042526 -0.094968 NaN\n",
       "연령대    -0.002380 -0.023835  1.000000 -0.015092 -0.106977 -0.196043 NaN\n",
       "거주인구   -0.023932  0.024110 -0.015092  1.000000  0.406792  0.082321 NaN\n",
       "근무인구    0.066555 -0.042526 -0.106977  0.406792  1.000000  0.420967 NaN\n",
       "방문인구    0.087430 -0.094968 -0.196043  0.082321  0.420967  1.000000 NaN\n",
       "월별           NaN       NaN       NaN       NaN       NaN       NaN NaN"
      ]
     },
     "execution_count": 117,
     "metadata": {},
     "output_type": "execute_result"
    }
   ],
   "source": [
    "new2_m8.corr()"
   ]
  },
  {
   "cell_type": "code",
   "execution_count": 118,
   "id": "e5e2d1da",
   "metadata": {},
   "outputs": [
    {
     "data": {
      "text/html": [
       "<div>\n",
       "<style scoped>\n",
       "    .dataframe tbody tr th:only-of-type {\n",
       "        vertical-align: middle;\n",
       "    }\n",
       "\n",
       "    .dataframe tbody tr th {\n",
       "        vertical-align: top;\n",
       "    }\n",
       "\n",
       "    .dataframe thead th {\n",
       "        text-align: right;\n",
       "    }\n",
       "</style>\n",
       "<table border=\"1\" class=\"dataframe\">\n",
       "  <thead>\n",
       "    <tr style=\"text-align: right;\">\n",
       "      <th></th>\n",
       "      <th>시간</th>\n",
       "      <th>행정동 코드</th>\n",
       "      <th>연령대</th>\n",
       "      <th>거주인구</th>\n",
       "      <th>근무인구</th>\n",
       "      <th>방문인구</th>\n",
       "      <th>월별</th>\n",
       "    </tr>\n",
       "  </thead>\n",
       "  <tbody>\n",
       "    <tr>\n",
       "      <th>시간</th>\n",
       "      <td>1.000000</td>\n",
       "      <td>-0.004185</td>\n",
       "      <td>-0.003624</td>\n",
       "      <td>-0.020308</td>\n",
       "      <td>0.064812</td>\n",
       "      <td>0.105474</td>\n",
       "      <td>NaN</td>\n",
       "    </tr>\n",
       "    <tr>\n",
       "      <th>행정동 코드</th>\n",
       "      <td>-0.004185</td>\n",
       "      <td>1.000000</td>\n",
       "      <td>-0.021922</td>\n",
       "      <td>0.020727</td>\n",
       "      <td>-0.044795</td>\n",
       "      <td>-0.116395</td>\n",
       "      <td>NaN</td>\n",
       "    </tr>\n",
       "    <tr>\n",
       "      <th>연령대</th>\n",
       "      <td>-0.003624</td>\n",
       "      <td>-0.021922</td>\n",
       "      <td>1.000000</td>\n",
       "      <td>-0.009657</td>\n",
       "      <td>-0.115030</td>\n",
       "      <td>-0.138231</td>\n",
       "      <td>NaN</td>\n",
       "    </tr>\n",
       "    <tr>\n",
       "      <th>거주인구</th>\n",
       "      <td>-0.020308</td>\n",
       "      <td>0.020727</td>\n",
       "      <td>-0.009657</td>\n",
       "      <td>1.000000</td>\n",
       "      <td>0.391288</td>\n",
       "      <td>0.194997</td>\n",
       "      <td>NaN</td>\n",
       "    </tr>\n",
       "    <tr>\n",
       "      <th>근무인구</th>\n",
       "      <td>0.064812</td>\n",
       "      <td>-0.044795</td>\n",
       "      <td>-0.115030</td>\n",
       "      <td>0.391288</td>\n",
       "      <td>1.000000</td>\n",
       "      <td>0.513578</td>\n",
       "      <td>NaN</td>\n",
       "    </tr>\n",
       "    <tr>\n",
       "      <th>방문인구</th>\n",
       "      <td>0.105474</td>\n",
       "      <td>-0.116395</td>\n",
       "      <td>-0.138231</td>\n",
       "      <td>0.194997</td>\n",
       "      <td>0.513578</td>\n",
       "      <td>1.000000</td>\n",
       "      <td>NaN</td>\n",
       "    </tr>\n",
       "    <tr>\n",
       "      <th>월별</th>\n",
       "      <td>NaN</td>\n",
       "      <td>NaN</td>\n",
       "      <td>NaN</td>\n",
       "      <td>NaN</td>\n",
       "      <td>NaN</td>\n",
       "      <td>NaN</td>\n",
       "      <td>NaN</td>\n",
       "    </tr>\n",
       "  </tbody>\n",
       "</table>\n",
       "</div>"
      ],
      "text/plain": [
       "              시간    행정동 코드       연령대      거주인구      근무인구      방문인구  월별\n",
       "시간      1.000000 -0.004185 -0.003624 -0.020308  0.064812  0.105474 NaN\n",
       "행정동 코드 -0.004185  1.000000 -0.021922  0.020727 -0.044795 -0.116395 NaN\n",
       "연령대    -0.003624 -0.021922  1.000000 -0.009657 -0.115030 -0.138231 NaN\n",
       "거주인구   -0.020308  0.020727 -0.009657  1.000000  0.391288  0.194997 NaN\n",
       "근무인구    0.064812 -0.044795 -0.115030  0.391288  1.000000  0.513578 NaN\n",
       "방문인구    0.105474 -0.116395 -0.138231  0.194997  0.513578  1.000000 NaN\n",
       "월별           NaN       NaN       NaN       NaN       NaN       NaN NaN"
      ]
     },
     "execution_count": 118,
     "metadata": {},
     "output_type": "execute_result"
    }
   ],
   "source": [
    "new2_m9.corr()"
   ]
  },
  {
   "cell_type": "code",
   "execution_count": 119,
   "id": "18965c17",
   "metadata": {},
   "outputs": [
    {
     "data": {
      "text/html": [
       "<div>\n",
       "<style scoped>\n",
       "    .dataframe tbody tr th:only-of-type {\n",
       "        vertical-align: middle;\n",
       "    }\n",
       "\n",
       "    .dataframe tbody tr th {\n",
       "        vertical-align: top;\n",
       "    }\n",
       "\n",
       "    .dataframe thead th {\n",
       "        text-align: right;\n",
       "    }\n",
       "</style>\n",
       "<table border=\"1\" class=\"dataframe\">\n",
       "  <thead>\n",
       "    <tr style=\"text-align: right;\">\n",
       "      <th></th>\n",
       "      <th>시간</th>\n",
       "      <th>행정동 코드</th>\n",
       "      <th>연령대</th>\n",
       "      <th>거주인구</th>\n",
       "      <th>근무인구</th>\n",
       "      <th>방문인구</th>\n",
       "      <th>월별</th>\n",
       "    </tr>\n",
       "  </thead>\n",
       "  <tbody>\n",
       "    <tr>\n",
       "      <th>시간</th>\n",
       "      <td>1.000000</td>\n",
       "      <td>-0.004111</td>\n",
       "      <td>-0.004006</td>\n",
       "      <td>-0.022293</td>\n",
       "      <td>0.063308</td>\n",
       "      <td>0.101705</td>\n",
       "      <td>NaN</td>\n",
       "    </tr>\n",
       "    <tr>\n",
       "      <th>행정동 코드</th>\n",
       "      <td>-0.004111</td>\n",
       "      <td>1.000000</td>\n",
       "      <td>-0.020892</td>\n",
       "      <td>0.017258</td>\n",
       "      <td>-0.048565</td>\n",
       "      <td>-0.092431</td>\n",
       "      <td>NaN</td>\n",
       "    </tr>\n",
       "    <tr>\n",
       "      <th>연령대</th>\n",
       "      <td>-0.004006</td>\n",
       "      <td>-0.020892</td>\n",
       "      <td>1.000000</td>\n",
       "      <td>-0.007319</td>\n",
       "      <td>-0.118905</td>\n",
       "      <td>-0.106163</td>\n",
       "      <td>NaN</td>\n",
       "    </tr>\n",
       "    <tr>\n",
       "      <th>거주인구</th>\n",
       "      <td>-0.022293</td>\n",
       "      <td>0.017258</td>\n",
       "      <td>-0.007319</td>\n",
       "      <td>1.000000</td>\n",
       "      <td>0.379744</td>\n",
       "      <td>0.149832</td>\n",
       "      <td>NaN</td>\n",
       "    </tr>\n",
       "    <tr>\n",
       "      <th>근무인구</th>\n",
       "      <td>0.063308</td>\n",
       "      <td>-0.048565</td>\n",
       "      <td>-0.118905</td>\n",
       "      <td>0.379744</td>\n",
       "      <td>1.000000</td>\n",
       "      <td>0.443744</td>\n",
       "      <td>NaN</td>\n",
       "    </tr>\n",
       "    <tr>\n",
       "      <th>방문인구</th>\n",
       "      <td>0.101705</td>\n",
       "      <td>-0.092431</td>\n",
       "      <td>-0.106163</td>\n",
       "      <td>0.149832</td>\n",
       "      <td>0.443744</td>\n",
       "      <td>1.000000</td>\n",
       "      <td>NaN</td>\n",
       "    </tr>\n",
       "    <tr>\n",
       "      <th>월별</th>\n",
       "      <td>NaN</td>\n",
       "      <td>NaN</td>\n",
       "      <td>NaN</td>\n",
       "      <td>NaN</td>\n",
       "      <td>NaN</td>\n",
       "      <td>NaN</td>\n",
       "      <td>NaN</td>\n",
       "    </tr>\n",
       "  </tbody>\n",
       "</table>\n",
       "</div>"
      ],
      "text/plain": [
       "              시간    행정동 코드       연령대      거주인구      근무인구      방문인구  월별\n",
       "시간      1.000000 -0.004111 -0.004006 -0.022293  0.063308  0.101705 NaN\n",
       "행정동 코드 -0.004111  1.000000 -0.020892  0.017258 -0.048565 -0.092431 NaN\n",
       "연령대    -0.004006 -0.020892  1.000000 -0.007319 -0.118905 -0.106163 NaN\n",
       "거주인구   -0.022293  0.017258 -0.007319  1.000000  0.379744  0.149832 NaN\n",
       "근무인구    0.063308 -0.048565 -0.118905  0.379744  1.000000  0.443744 NaN\n",
       "방문인구    0.101705 -0.092431 -0.106163  0.149832  0.443744  1.000000 NaN\n",
       "월별           NaN       NaN       NaN       NaN       NaN       NaN NaN"
      ]
     },
     "execution_count": 119,
     "metadata": {},
     "output_type": "execute_result"
    }
   ],
   "source": [
    "new2_m10.corr()"
   ]
  },
  {
   "cell_type": "code",
   "execution_count": 120,
   "id": "d648c654",
   "metadata": {},
   "outputs": [
    {
     "data": {
      "text/html": [
       "<div>\n",
       "<style scoped>\n",
       "    .dataframe tbody tr th:only-of-type {\n",
       "        vertical-align: middle;\n",
       "    }\n",
       "\n",
       "    .dataframe tbody tr th {\n",
       "        vertical-align: top;\n",
       "    }\n",
       "\n",
       "    .dataframe thead th {\n",
       "        text-align: right;\n",
       "    }\n",
       "</style>\n",
       "<table border=\"1\" class=\"dataframe\">\n",
       "  <thead>\n",
       "    <tr style=\"text-align: right;\">\n",
       "      <th></th>\n",
       "      <th>시간</th>\n",
       "      <th>행정동 코드</th>\n",
       "      <th>연령대</th>\n",
       "      <th>거주인구</th>\n",
       "      <th>근무인구</th>\n",
       "      <th>방문인구</th>\n",
       "      <th>월별</th>\n",
       "    </tr>\n",
       "  </thead>\n",
       "  <tbody>\n",
       "    <tr>\n",
       "      <th>시간</th>\n",
       "      <td>1.000000</td>\n",
       "      <td>-0.003840</td>\n",
       "      <td>-0.004818</td>\n",
       "      <td>-0.023980</td>\n",
       "      <td>0.064858</td>\n",
       "      <td>0.104987</td>\n",
       "      <td>NaN</td>\n",
       "    </tr>\n",
       "    <tr>\n",
       "      <th>행정동 코드</th>\n",
       "      <td>-0.003840</td>\n",
       "      <td>1.000000</td>\n",
       "      <td>-0.020748</td>\n",
       "      <td>0.019892</td>\n",
       "      <td>-0.039365</td>\n",
       "      <td>-0.098662</td>\n",
       "      <td>NaN</td>\n",
       "    </tr>\n",
       "    <tr>\n",
       "      <th>연령대</th>\n",
       "      <td>-0.004818</td>\n",
       "      <td>-0.020748</td>\n",
       "      <td>1.000000</td>\n",
       "      <td>-0.014985</td>\n",
       "      <td>-0.124965</td>\n",
       "      <td>-0.087182</td>\n",
       "      <td>NaN</td>\n",
       "    </tr>\n",
       "    <tr>\n",
       "      <th>거주인구</th>\n",
       "      <td>-0.023980</td>\n",
       "      <td>0.019892</td>\n",
       "      <td>-0.014985</td>\n",
       "      <td>1.000000</td>\n",
       "      <td>0.397597</td>\n",
       "      <td>0.165110</td>\n",
       "      <td>NaN</td>\n",
       "    </tr>\n",
       "    <tr>\n",
       "      <th>근무인구</th>\n",
       "      <td>0.064858</td>\n",
       "      <td>-0.039365</td>\n",
       "      <td>-0.124965</td>\n",
       "      <td>0.397597</td>\n",
       "      <td>1.000000</td>\n",
       "      <td>0.470217</td>\n",
       "      <td>NaN</td>\n",
       "    </tr>\n",
       "    <tr>\n",
       "      <th>방문인구</th>\n",
       "      <td>0.104987</td>\n",
       "      <td>-0.098662</td>\n",
       "      <td>-0.087182</td>\n",
       "      <td>0.165110</td>\n",
       "      <td>0.470217</td>\n",
       "      <td>1.000000</td>\n",
       "      <td>NaN</td>\n",
       "    </tr>\n",
       "    <tr>\n",
       "      <th>월별</th>\n",
       "      <td>NaN</td>\n",
       "      <td>NaN</td>\n",
       "      <td>NaN</td>\n",
       "      <td>NaN</td>\n",
       "      <td>NaN</td>\n",
       "      <td>NaN</td>\n",
       "      <td>NaN</td>\n",
       "    </tr>\n",
       "  </tbody>\n",
       "</table>\n",
       "</div>"
      ],
      "text/plain": [
       "              시간    행정동 코드       연령대      거주인구      근무인구      방문인구  월별\n",
       "시간      1.000000 -0.003840 -0.004818 -0.023980  0.064858  0.104987 NaN\n",
       "행정동 코드 -0.003840  1.000000 -0.020748  0.019892 -0.039365 -0.098662 NaN\n",
       "연령대    -0.004818 -0.020748  1.000000 -0.014985 -0.124965 -0.087182 NaN\n",
       "거주인구   -0.023980  0.019892 -0.014985  1.000000  0.397597  0.165110 NaN\n",
       "근무인구    0.064858 -0.039365 -0.124965  0.397597  1.000000  0.470217 NaN\n",
       "방문인구    0.104987 -0.098662 -0.087182  0.165110  0.470217  1.000000 NaN\n",
       "월별           NaN       NaN       NaN       NaN       NaN       NaN NaN"
      ]
     },
     "execution_count": 120,
     "metadata": {},
     "output_type": "execute_result"
    }
   ],
   "source": [
    "new2_m11.corr()"
   ]
  },
  {
   "cell_type": "code",
   "execution_count": 121,
   "id": "d7366534",
   "metadata": {},
   "outputs": [
    {
     "data": {
      "text/html": [
       "<div>\n",
       "<style scoped>\n",
       "    .dataframe tbody tr th:only-of-type {\n",
       "        vertical-align: middle;\n",
       "    }\n",
       "\n",
       "    .dataframe tbody tr th {\n",
       "        vertical-align: top;\n",
       "    }\n",
       "\n",
       "    .dataframe thead th {\n",
       "        text-align: right;\n",
       "    }\n",
       "</style>\n",
       "<table border=\"1\" class=\"dataframe\">\n",
       "  <thead>\n",
       "    <tr style=\"text-align: right;\">\n",
       "      <th></th>\n",
       "      <th>시간</th>\n",
       "      <th>행정동 코드</th>\n",
       "      <th>연령대</th>\n",
       "      <th>거주인구</th>\n",
       "      <th>근무인구</th>\n",
       "      <th>방문인구</th>\n",
       "      <th>월별</th>\n",
       "    </tr>\n",
       "  </thead>\n",
       "  <tbody>\n",
       "    <tr>\n",
       "      <th>시간</th>\n",
       "      <td>1.000000</td>\n",
       "      <td>-0.003959</td>\n",
       "      <td>-0.003535</td>\n",
       "      <td>-0.022681</td>\n",
       "      <td>0.066766</td>\n",
       "      <td>0.116368</td>\n",
       "      <td>NaN</td>\n",
       "    </tr>\n",
       "    <tr>\n",
       "      <th>행정동 코드</th>\n",
       "      <td>-0.003959</td>\n",
       "      <td>1.000000</td>\n",
       "      <td>-0.023149</td>\n",
       "      <td>0.023141</td>\n",
       "      <td>-0.046278</td>\n",
       "      <td>-0.100237</td>\n",
       "      <td>NaN</td>\n",
       "    </tr>\n",
       "    <tr>\n",
       "      <th>연령대</th>\n",
       "      <td>-0.003535</td>\n",
       "      <td>-0.023149</td>\n",
       "      <td>1.000000</td>\n",
       "      <td>-0.019341</td>\n",
       "      <td>-0.115032</td>\n",
       "      <td>-0.137693</td>\n",
       "      <td>NaN</td>\n",
       "    </tr>\n",
       "    <tr>\n",
       "      <th>거주인구</th>\n",
       "      <td>-0.022681</td>\n",
       "      <td>0.023141</td>\n",
       "      <td>-0.019341</td>\n",
       "      <td>1.000000</td>\n",
       "      <td>0.400406</td>\n",
       "      <td>0.198505</td>\n",
       "      <td>NaN</td>\n",
       "    </tr>\n",
       "    <tr>\n",
       "      <th>근무인구</th>\n",
       "      <td>0.066766</td>\n",
       "      <td>-0.046278</td>\n",
       "      <td>-0.115032</td>\n",
       "      <td>0.400406</td>\n",
       "      <td>1.000000</td>\n",
       "      <td>0.517378</td>\n",
       "      <td>NaN</td>\n",
       "    </tr>\n",
       "    <tr>\n",
       "      <th>방문인구</th>\n",
       "      <td>0.116368</td>\n",
       "      <td>-0.100237</td>\n",
       "      <td>-0.137693</td>\n",
       "      <td>0.198505</td>\n",
       "      <td>0.517378</td>\n",
       "      <td>1.000000</td>\n",
       "      <td>NaN</td>\n",
       "    </tr>\n",
       "    <tr>\n",
       "      <th>월별</th>\n",
       "      <td>NaN</td>\n",
       "      <td>NaN</td>\n",
       "      <td>NaN</td>\n",
       "      <td>NaN</td>\n",
       "      <td>NaN</td>\n",
       "      <td>NaN</td>\n",
       "      <td>NaN</td>\n",
       "    </tr>\n",
       "  </tbody>\n",
       "</table>\n",
       "</div>"
      ],
      "text/plain": [
       "              시간    행정동 코드       연령대      거주인구      근무인구      방문인구  월별\n",
       "시간      1.000000 -0.003959 -0.003535 -0.022681  0.066766  0.116368 NaN\n",
       "행정동 코드 -0.003959  1.000000 -0.023149  0.023141 -0.046278 -0.100237 NaN\n",
       "연령대    -0.003535 -0.023149  1.000000 -0.019341 -0.115032 -0.137693 NaN\n",
       "거주인구   -0.022681  0.023141 -0.019341  1.000000  0.400406  0.198505 NaN\n",
       "근무인구    0.066766 -0.046278 -0.115032  0.400406  1.000000  0.517378 NaN\n",
       "방문인구    0.116368 -0.100237 -0.137693  0.198505  0.517378  1.000000 NaN\n",
       "월별           NaN       NaN       NaN       NaN       NaN       NaN NaN"
      ]
     },
     "execution_count": 121,
     "metadata": {},
     "output_type": "execute_result"
    }
   ],
   "source": [
    "new2_m12.corr()"
   ]
  }
 ],
 "metadata": {
  "kernelspec": {
   "display_name": "Python 3",
   "language": "python",
   "name": "python3"
  },
  "language_info": {
   "codemirror_mode": {
    "name": "ipython",
    "version": 3
   },
   "file_extension": ".py",
   "mimetype": "text/x-python",
   "name": "python",
   "nbconvert_exporter": "python",
   "pygments_lexer": "ipython3",
   "version": "3.8.8"
  }
 },
 "nbformat": 4,
 "nbformat_minor": 5
}
