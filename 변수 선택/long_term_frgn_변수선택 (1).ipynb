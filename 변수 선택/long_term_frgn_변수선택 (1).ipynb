{
  "nbformat": 4,
  "nbformat_minor": 0,
  "metadata": {
    "colab": {
      "name": "long_term_frgn 변수선택 ",
      "provenance": [],
      "collapsed_sections": [],
      "toc_visible": true
    },
    "kernelspec": {
      "name": "python3",
      "display_name": "Python 3"
    },
    "language_info": {
      "name": "python"
    }
  },
  "cells": [
    {
      "cell_type": "code",
      "metadata": {
        "id": "qEkLOxWqwaqD",
        "colab": {
          "base_uri": "https://localhost:8080/"
        },
        "outputId": "e0a03cea-9dbf-4180-c27c-3bda550b23a8"
      },
      "source": [
        "import numpy as np\n",
        "import pandas as pd\n",
        "import re\n",
        "import seaborn as sns\n",
        "import matplotlib.pyplot as plt\n",
        "import matplotlib\n",
        "import statsmodels.api as sm\n",
        "import statsmodels.formula.api as smf\n",
        "\n",
        "%matplotlib inline"
      ],
      "execution_count": 1,
      "outputs": [
        {
          "output_type": "stream",
          "text": [
            "/usr/local/lib/python3.7/dist-packages/statsmodels/tools/_testing.py:19: FutureWarning: pandas.util.testing is deprecated. Use the functions in the public API at pandas.testing instead.\n",
            "  import pandas.util.testing as tm\n"
          ],
          "name": "stderr"
        }
      ]
    },
    {
      "cell_type": "markdown",
      "metadata": {
        "id": "LB2m860rv6wd"
      },
      "source": [
        "장기체류 외국인 유동인구 데이터 전처리 "
      ]
    },
    {
      "cell_type": "code",
      "metadata": {
        "colab": {
          "base_uri": "https://localhost:8080/",
          "height": 204
        },
        "id": "98dTR-uEw2Os",
        "outputId": "8c35692e-7200-491d-e1dc-d27134847502"
      },
      "source": [
        "long_term_frgn = pd.read_csv('/content/02-2_장기체류 외국인 유동인구_LONG_TERM_FRGN.CSV', encoding = 'cp949')\n",
        "long_term_frgn.head()"
      ],
      "execution_count": 3,
      "outputs": [
        {
          "output_type": "execute_result",
          "data": {
            "text/html": [
              "<div>\n",
              "<style scoped>\n",
              "    .dataframe tbody tr th:only-of-type {\n",
              "        vertical-align: middle;\n",
              "    }\n",
              "\n",
              "    .dataframe tbody tr th {\n",
              "        vertical-align: top;\n",
              "    }\n",
              "\n",
              "    .dataframe thead th {\n",
              "        text-align: right;\n",
              "    }\n",
              "</style>\n",
              "<table border=\"1\" class=\"dataframe\">\n",
              "  <thead>\n",
              "    <tr style=\"text-align: right;\">\n",
              "      <th></th>\n",
              "      <th>base_date</th>\n",
              "      <th>time</th>\n",
              "      <th>nationality</th>\n",
              "      <th>city</th>\n",
              "      <th>emd_cd</th>\n",
              "      <th>emd_nm</th>\n",
              "      <th>resd_pop_cnt</th>\n",
              "      <th>work_pop_cnt</th>\n",
              "      <th>visit_pop_cnt</th>\n",
              "      <th>resd</th>\n",
              "    </tr>\n",
              "  </thead>\n",
              "  <tbody>\n",
              "    <tr>\n",
              "      <th>0</th>\n",
              "      <td>2018-01-01</td>\n",
              "      <td>1</td>\n",
              "      <td>CAN</td>\n",
              "      <td>제주시</td>\n",
              "      <td>50110250</td>\n",
              "      <td>한림읍</td>\n",
              "      <td>6.3381</td>\n",
              "      <td>0.0000</td>\n",
              "      <td>4.5802</td>\n",
              "      <td>제주</td>\n",
              "    </tr>\n",
              "    <tr>\n",
              "      <th>1</th>\n",
              "      <td>2018-01-01</td>\n",
              "      <td>1</td>\n",
              "      <td>CHN</td>\n",
              "      <td>제주시</td>\n",
              "      <td>50110250</td>\n",
              "      <td>한림읍</td>\n",
              "      <td>442.1091</td>\n",
              "      <td>0.0000</td>\n",
              "      <td>5.7051</td>\n",
              "      <td>제주</td>\n",
              "    </tr>\n",
              "    <tr>\n",
              "      <th>2</th>\n",
              "      <td>2018-01-01</td>\n",
              "      <td>1</td>\n",
              "      <td>CHN</td>\n",
              "      <td>제주시</td>\n",
              "      <td>50110250</td>\n",
              "      <td>한림읍</td>\n",
              "      <td>0.0000</td>\n",
              "      <td>7.8695</td>\n",
              "      <td>51.3461</td>\n",
              "      <td>그외</td>\n",
              "    </tr>\n",
              "    <tr>\n",
              "      <th>3</th>\n",
              "      <td>2018-01-01</td>\n",
              "      <td>1</td>\n",
              "      <td>DEU</td>\n",
              "      <td>제주시</td>\n",
              "      <td>50110250</td>\n",
              "      <td>한림읍</td>\n",
              "      <td>0.0000</td>\n",
              "      <td>0.0000</td>\n",
              "      <td>8.2099</td>\n",
              "      <td>그외</td>\n",
              "    </tr>\n",
              "    <tr>\n",
              "      <th>4</th>\n",
              "      <td>2018-01-01</td>\n",
              "      <td>1</td>\n",
              "      <td>ETC</td>\n",
              "      <td>제주시</td>\n",
              "      <td>50110250</td>\n",
              "      <td>한림읍</td>\n",
              "      <td>15.9184</td>\n",
              "      <td>0.0000</td>\n",
              "      <td>2.8758</td>\n",
              "      <td>제주</td>\n",
              "    </tr>\n",
              "  </tbody>\n",
              "</table>\n",
              "</div>"
            ],
            "text/plain": [
              "    base_date  time nationality city    emd_cd emd_nm  resd_pop_cnt  \\\n",
              "0  2018-01-01     1         CAN  제주시  50110250    한림읍        6.3381   \n",
              "1  2018-01-01     1         CHN  제주시  50110250    한림읍      442.1091   \n",
              "2  2018-01-01     1         CHN  제주시  50110250    한림읍        0.0000   \n",
              "3  2018-01-01     1         DEU  제주시  50110250    한림읍        0.0000   \n",
              "4  2018-01-01     1         ETC  제주시  50110250    한림읍       15.9184   \n",
              "\n",
              "   work_pop_cnt  visit_pop_cnt resd  \n",
              "0        0.0000         4.5802   제주  \n",
              "1        0.0000         5.7051   제주  \n",
              "2        7.8695        51.3461   그외  \n",
              "3        0.0000         8.2099   그외  \n",
              "4        0.0000         2.8758   제주  "
            ]
          },
          "metadata": {},
          "execution_count": 3
        }
      ]
    },
    {
      "cell_type": "code",
      "metadata": {
        "colab": {
          "base_uri": "https://localhost:8080/",
          "height": 204
        },
        "id": "cgS3M9c0xX-x",
        "outputId": "0c32f5ce-79a4-490b-c52e-788535bce80e"
      },
      "source": [
        "long_term_frgn = long_term_frgn.loc[:, ['base_date', 'time', 'nationality', 'emd_nm', 'resd_pop_cnt', 'work_pop_cnt', 'visit_pop_cnt']]\n",
        "long_term_frgn.head()"
      ],
      "execution_count": 4,
      "outputs": [
        {
          "output_type": "execute_result",
          "data": {
            "text/html": [
              "<div>\n",
              "<style scoped>\n",
              "    .dataframe tbody tr th:only-of-type {\n",
              "        vertical-align: middle;\n",
              "    }\n",
              "\n",
              "    .dataframe tbody tr th {\n",
              "        vertical-align: top;\n",
              "    }\n",
              "\n",
              "    .dataframe thead th {\n",
              "        text-align: right;\n",
              "    }\n",
              "</style>\n",
              "<table border=\"1\" class=\"dataframe\">\n",
              "  <thead>\n",
              "    <tr style=\"text-align: right;\">\n",
              "      <th></th>\n",
              "      <th>base_date</th>\n",
              "      <th>time</th>\n",
              "      <th>nationality</th>\n",
              "      <th>emd_nm</th>\n",
              "      <th>resd_pop_cnt</th>\n",
              "      <th>work_pop_cnt</th>\n",
              "      <th>visit_pop_cnt</th>\n",
              "    </tr>\n",
              "  </thead>\n",
              "  <tbody>\n",
              "    <tr>\n",
              "      <th>0</th>\n",
              "      <td>2018-01-01</td>\n",
              "      <td>1</td>\n",
              "      <td>CAN</td>\n",
              "      <td>한림읍</td>\n",
              "      <td>6.3381</td>\n",
              "      <td>0.0000</td>\n",
              "      <td>4.5802</td>\n",
              "    </tr>\n",
              "    <tr>\n",
              "      <th>1</th>\n",
              "      <td>2018-01-01</td>\n",
              "      <td>1</td>\n",
              "      <td>CHN</td>\n",
              "      <td>한림읍</td>\n",
              "      <td>442.1091</td>\n",
              "      <td>0.0000</td>\n",
              "      <td>5.7051</td>\n",
              "    </tr>\n",
              "    <tr>\n",
              "      <th>2</th>\n",
              "      <td>2018-01-01</td>\n",
              "      <td>1</td>\n",
              "      <td>CHN</td>\n",
              "      <td>한림읍</td>\n",
              "      <td>0.0000</td>\n",
              "      <td>7.8695</td>\n",
              "      <td>51.3461</td>\n",
              "    </tr>\n",
              "    <tr>\n",
              "      <th>3</th>\n",
              "      <td>2018-01-01</td>\n",
              "      <td>1</td>\n",
              "      <td>DEU</td>\n",
              "      <td>한림읍</td>\n",
              "      <td>0.0000</td>\n",
              "      <td>0.0000</td>\n",
              "      <td>8.2099</td>\n",
              "    </tr>\n",
              "    <tr>\n",
              "      <th>4</th>\n",
              "      <td>2018-01-01</td>\n",
              "      <td>1</td>\n",
              "      <td>ETC</td>\n",
              "      <td>한림읍</td>\n",
              "      <td>15.9184</td>\n",
              "      <td>0.0000</td>\n",
              "      <td>2.8758</td>\n",
              "    </tr>\n",
              "  </tbody>\n",
              "</table>\n",
              "</div>"
            ],
            "text/plain": [
              "    base_date  time nationality emd_nm  resd_pop_cnt  work_pop_cnt  \\\n",
              "0  2018-01-01     1         CAN    한림읍        6.3381        0.0000   \n",
              "1  2018-01-01     1         CHN    한림읍      442.1091        0.0000   \n",
              "2  2018-01-01     1         CHN    한림읍        0.0000        7.8695   \n",
              "3  2018-01-01     1         DEU    한림읍        0.0000        0.0000   \n",
              "4  2018-01-01     1         ETC    한림읍       15.9184        0.0000   \n",
              "\n",
              "   visit_pop_cnt  \n",
              "0         4.5802  \n",
              "1         5.7051  \n",
              "2        51.3461  \n",
              "3         8.2099  \n",
              "4         2.8758  "
            ]
          },
          "metadata": {},
          "execution_count": 4
        }
      ]
    },
    {
      "cell_type": "code",
      "metadata": {
        "id": "7Q_BkmZUxrwl"
      },
      "source": [
        "long_term_frgn['base_date'] = pd.to_datetime(long_term_frgn['base_date'])\n",
        "long_term_frgn['year'] = long_term_frgn['base_date'].dt.year\n",
        "long_term_frgn['month'] = long_term_frgn['base_date'].dt.month"
      ],
      "execution_count": 5,
      "outputs": []
    },
    {
      "cell_type": "code",
      "metadata": {
        "id": "HrpwT8GsyEvu",
        "colab": {
          "base_uri": "https://localhost:8080/",
          "height": 204
        },
        "outputId": "a1694d11-a20c-43db-f139-4dd1bafd4dcd"
      },
      "source": [
        "long_term_frgn = long_term_frgn[['year', 'month', 'emd_nm', 'nationality', 'time', 'resd_pop_cnt', 'work_pop_cnt', 'visit_pop_cnt']]\n",
        "long_term_frgn.head()"
      ],
      "execution_count": 6,
      "outputs": [
        {
          "output_type": "execute_result",
          "data": {
            "text/html": [
              "<div>\n",
              "<style scoped>\n",
              "    .dataframe tbody tr th:only-of-type {\n",
              "        vertical-align: middle;\n",
              "    }\n",
              "\n",
              "    .dataframe tbody tr th {\n",
              "        vertical-align: top;\n",
              "    }\n",
              "\n",
              "    .dataframe thead th {\n",
              "        text-align: right;\n",
              "    }\n",
              "</style>\n",
              "<table border=\"1\" class=\"dataframe\">\n",
              "  <thead>\n",
              "    <tr style=\"text-align: right;\">\n",
              "      <th></th>\n",
              "      <th>year</th>\n",
              "      <th>month</th>\n",
              "      <th>emd_nm</th>\n",
              "      <th>nationality</th>\n",
              "      <th>time</th>\n",
              "      <th>resd_pop_cnt</th>\n",
              "      <th>work_pop_cnt</th>\n",
              "      <th>visit_pop_cnt</th>\n",
              "    </tr>\n",
              "  </thead>\n",
              "  <tbody>\n",
              "    <tr>\n",
              "      <th>0</th>\n",
              "      <td>2018</td>\n",
              "      <td>1</td>\n",
              "      <td>한림읍</td>\n",
              "      <td>CAN</td>\n",
              "      <td>1</td>\n",
              "      <td>6.3381</td>\n",
              "      <td>0.0000</td>\n",
              "      <td>4.5802</td>\n",
              "    </tr>\n",
              "    <tr>\n",
              "      <th>1</th>\n",
              "      <td>2018</td>\n",
              "      <td>1</td>\n",
              "      <td>한림읍</td>\n",
              "      <td>CHN</td>\n",
              "      <td>1</td>\n",
              "      <td>442.1091</td>\n",
              "      <td>0.0000</td>\n",
              "      <td>5.7051</td>\n",
              "    </tr>\n",
              "    <tr>\n",
              "      <th>2</th>\n",
              "      <td>2018</td>\n",
              "      <td>1</td>\n",
              "      <td>한림읍</td>\n",
              "      <td>CHN</td>\n",
              "      <td>1</td>\n",
              "      <td>0.0000</td>\n",
              "      <td>7.8695</td>\n",
              "      <td>51.3461</td>\n",
              "    </tr>\n",
              "    <tr>\n",
              "      <th>3</th>\n",
              "      <td>2018</td>\n",
              "      <td>1</td>\n",
              "      <td>한림읍</td>\n",
              "      <td>DEU</td>\n",
              "      <td>1</td>\n",
              "      <td>0.0000</td>\n",
              "      <td>0.0000</td>\n",
              "      <td>8.2099</td>\n",
              "    </tr>\n",
              "    <tr>\n",
              "      <th>4</th>\n",
              "      <td>2018</td>\n",
              "      <td>1</td>\n",
              "      <td>한림읍</td>\n",
              "      <td>ETC</td>\n",
              "      <td>1</td>\n",
              "      <td>15.9184</td>\n",
              "      <td>0.0000</td>\n",
              "      <td>2.8758</td>\n",
              "    </tr>\n",
              "  </tbody>\n",
              "</table>\n",
              "</div>"
            ],
            "text/plain": [
              "   year  month emd_nm nationality  time  resd_pop_cnt  work_pop_cnt  \\\n",
              "0  2018      1    한림읍         CAN     1        6.3381        0.0000   \n",
              "1  2018      1    한림읍         CHN     1      442.1091        0.0000   \n",
              "2  2018      1    한림읍         CHN     1        0.0000        7.8695   \n",
              "3  2018      1    한림읍         DEU     1        0.0000        0.0000   \n",
              "4  2018      1    한림읍         ETC     1       15.9184        0.0000   \n",
              "\n",
              "   visit_pop_cnt  \n",
              "0         4.5802  \n",
              "1         5.7051  \n",
              "2        51.3461  \n",
              "3         8.2099  \n",
              "4         2.8758  "
            ]
          },
          "metadata": {},
          "execution_count": 6
        }
      ]
    },
    {
      "cell_type": "code",
      "metadata": {
        "colab": {
          "base_uri": "https://localhost:8080/",
          "height": 142
        },
        "id": "VRvIxCLmbzS9",
        "outputId": "fcdf2dfd-145a-49af-c89a-390a63159cf8"
      },
      "source": [
        "long_term_frgn.loc[:,['resd_pop_cnt', 'work_pop_cnt','visit_pop_cnt']].corr()"
      ],
      "execution_count": 7,
      "outputs": [
        {
          "output_type": "execute_result",
          "data": {
            "text/html": [
              "<div>\n",
              "<style scoped>\n",
              "    .dataframe tbody tr th:only-of-type {\n",
              "        vertical-align: middle;\n",
              "    }\n",
              "\n",
              "    .dataframe tbody tr th {\n",
              "        vertical-align: top;\n",
              "    }\n",
              "\n",
              "    .dataframe thead th {\n",
              "        text-align: right;\n",
              "    }\n",
              "</style>\n",
              "<table border=\"1\" class=\"dataframe\">\n",
              "  <thead>\n",
              "    <tr style=\"text-align: right;\">\n",
              "      <th></th>\n",
              "      <th>resd_pop_cnt</th>\n",
              "      <th>work_pop_cnt</th>\n",
              "      <th>visit_pop_cnt</th>\n",
              "    </tr>\n",
              "  </thead>\n",
              "  <tbody>\n",
              "    <tr>\n",
              "      <th>resd_pop_cnt</th>\n",
              "      <td>1.000000</td>\n",
              "      <td>0.699343</td>\n",
              "      <td>0.552945</td>\n",
              "    </tr>\n",
              "    <tr>\n",
              "      <th>work_pop_cnt</th>\n",
              "      <td>0.699343</td>\n",
              "      <td>1.000000</td>\n",
              "      <td>0.617122</td>\n",
              "    </tr>\n",
              "    <tr>\n",
              "      <th>visit_pop_cnt</th>\n",
              "      <td>0.552945</td>\n",
              "      <td>0.617122</td>\n",
              "      <td>1.000000</td>\n",
              "    </tr>\n",
              "  </tbody>\n",
              "</table>\n",
              "</div>"
            ],
            "text/plain": [
              "               resd_pop_cnt  work_pop_cnt  visit_pop_cnt\n",
              "resd_pop_cnt       1.000000      0.699343       0.552945\n",
              "work_pop_cnt       0.699343      1.000000       0.617122\n",
              "visit_pop_cnt      0.552945      0.617122       1.000000"
            ]
          },
          "metadata": {},
          "execution_count": 7
        }
      ]
    },
    {
      "cell_type": "code",
      "metadata": {
        "id": "no9z996XlHrx"
      },
      "source": [
        "long_term_frgn = long_term_frgn.drop(['work_pop_cnt'], axis=1)"
      ],
      "execution_count": 8,
      "outputs": []
    },
    {
      "cell_type": "code",
      "metadata": {
        "colab": {
          "base_uri": "https://localhost:8080/",
          "height": 283
        },
        "id": "0u5pIeDRygfE",
        "outputId": "e29e5d65-2f2d-42ae-9b91-a06cbb8ff09e"
      },
      "source": [
        "long_term_frgn['resd_pop_cnt'].plot.hist()"
      ],
      "execution_count": 9,
      "outputs": [
        {
          "output_type": "execute_result",
          "data": {
            "text/plain": [
              "<matplotlib.axes._subplots.AxesSubplot at 0x7f2700d8ea90>"
            ]
          },
          "metadata": {},
          "execution_count": 9
        },
        {
          "output_type": "display_data",
          "data": {
            "image/png": "[encoded data removed]",
            "text/plain": [
              "<Figure size 432x288 with 1 Axes>"
            ]
          },
          "metadata": {
            "needs_background": "light"
          }
        }
      ]
    },
    {
      "cell_type": "code",
      "metadata": {
        "colab": {
          "base_uri": "https://localhost:8080/",
          "height": 283
        },
        "id": "yWaOqsrqzIfj",
        "outputId": "19b4ab73-5f62-43b4-c9fb-334ccec38e4c"
      },
      "source": [
        "long_term_frgn['visit_pop_cnt'].plot.hist()"
      ],
      "execution_count": 10,
      "outputs": [
        {
          "output_type": "execute_result",
          "data": {
            "text/plain": [
              "<matplotlib.axes._subplots.AxesSubplot at 0x7f2700c751d0>"
            ]
          },
          "metadata": {},
          "execution_count": 10
        },
        {
          "output_type": "display_data",
          "data": {
            "image/png": "[encoded data removed]",
            "text/plain": [
              "<Figure size 432x288 with 1 Axes>"
            ]
          },
          "metadata": {
            "needs_background": "light"
          }
        }
      ]
    },
    {
      "cell_type": "code",
      "metadata": {
        "colab": {
          "base_uri": "https://localhost:8080/"
        },
        "id": "syzYLypHzmXK",
        "outputId": "428c8a3b-5c6e-47f5-b702-86917711cfe4"
      },
      "source": [
        "long_term_frgn['resd_pop_cnt'] = np.log(long_term_frgn[['resd_pop_cnt']])\n",
        "long_term_frgn['visit_pop_cnt'] = np.log(long_term_frgn[['visit_pop_cnt']])"
      ],
      "execution_count": 11,
      "outputs": [
        {
          "output_type": "stream",
          "text": [
            "/usr/local/lib/python3.7/dist-packages/ipykernel_launcher.py:1: RuntimeWarning: divide by zero encountered in log\n",
            "  \"\"\"Entry point for launching an IPython kernel.\n",
            "/usr/local/lib/python3.7/dist-packages/ipykernel_launcher.py:2: RuntimeWarning: divide by zero encountered in log\n",
            "  \n"
          ],
          "name": "stderr"
        }
      ]
    },
    {
      "cell_type": "code",
      "metadata": {
        "id": "ZrbRdtScEcOt"
      },
      "source": [
        "long_term_frgn = long_term_frgn.replace([np.inf, -np.inf], np.nan)"
      ],
      "execution_count": 12,
      "outputs": []
    },
    {
      "cell_type": "code",
      "metadata": {
        "colab": {
          "base_uri": "https://localhost:8080/"
        },
        "id": "ktHiKPHXEfPo",
        "outputId": "7093296c-343f-4433-9c13-7b7f946f32f8"
      },
      "source": [
        "long_term_frgn.isnull().sum()"
      ],
      "execution_count": 13,
      "outputs": [
        {
          "output_type": "execute_result",
          "data": {
            "text/plain": [
              "year                  0\n",
              "month                 0\n",
              "emd_nm                0\n",
              "nationality           0\n",
              "time                  0\n",
              "resd_pop_cnt     208544\n",
              "visit_pop_cnt    150719\n",
              "dtype: int64"
            ]
          },
          "metadata": {},
          "execution_count": 13
        }
      ]
    },
    {
      "cell_type": "code",
      "metadata": {
        "id": "ys-N6WL5EisN"
      },
      "source": [
        "long_term_frgn.dropna(inplace = True)"
      ],
      "execution_count": 14,
      "outputs": []
    },
    {
      "cell_type": "code",
      "metadata": {
        "id": "hVDug0bv503F"
      },
      "source": [
        "def outlier_iqr(data, column):   \n",
        "    global lower, upper    \n",
        "    q25, q75 = np.quantile(data[column], 0.25), np.quantile(data[column], 0.75)             \n",
        "    iqr = q75 - q25    \n",
        "    cut_off = iqr * 1.5              \n",
        "    lower, upper = q25 - cut_off, q75 + cut_off     \n",
        "    \n",
        "    print('IQR은',iqr, '이다.')     \n",
        "    print('lower bound 값은', lower, '이다.')     \n",
        "    print('upper bound 값은', upper, '이다.')    \n",
        "       \n",
        "    data1 = data[data[column] > upper]     \n",
        "    data2 = data[data[column] < lower]    \n",
        "     \n",
        "    return print('총 이상치 개수는', data1.shape[0] + data2.shape[0], '이다.')"
      ],
      "execution_count": 15,
      "outputs": []
    },
    {
      "cell_type": "code",
      "metadata": {
        "colab": {
          "base_uri": "https://localhost:8080/"
        },
        "id": "0A188IGh55FL",
        "outputId": "54b468aa-25be-48af-974e-71ea295110d6"
      },
      "source": [
        "outlier_iqr(long_term_frgn, 'resd_pop_cnt')"
      ],
      "execution_count": 16,
      "outputs": [
        {
          "output_type": "stream",
          "text": [
            "IQR은 1.7620214007816086 이다.\n",
            "lower bound 값은 -0.23818829814962816 이다.\n",
            "upper bound 값은 6.809897304976806 이다.\n",
            "총 이상치 개수는 1347 이다.\n"
          ],
          "name": "stdout"
        }
      ]
    },
    {
      "cell_type": "code",
      "metadata": {
        "colab": {
          "base_uri": "https://localhost:8080/"
        },
        "id": "sSWcUf9ejrc1",
        "outputId": "195e64b6-7481-4428-87fa-65b3cf570e93"
      },
      "source": [
        "outlier_iqr(long_term_frgn, 'visit_pop_cnt')"
      ],
      "execution_count": 17,
      "outputs": [
        {
          "output_type": "stream",
          "text": [
            "IQR은 1.4597106839346539 이다.\n",
            "lower bound 값은 -0.4528613024230699 이다.\n",
            "upper bound 값은 5.385981433315545 이다.\n",
            "총 이상치 개수는 806 이다.\n"
          ],
          "name": "stdout"
        }
      ]
    },
    {
      "cell_type": "code",
      "metadata": {
        "id": "txx2S4Vbaqth"
      },
      "source": [
        "long_term_frgn = long_term_frgn[(long_term_frgn['resd_pop_cnt'] < upper) & (long_term_frgn['resd_pop_cnt'] > lower)]"
      ],
      "execution_count": 18,
      "outputs": []
    },
    {
      "cell_type": "code",
      "metadata": {
        "id": "cCzFWAU1jvdF"
      },
      "source": [
        "long_term_frgn = long_term_frgn[(long_term_frgn['visit_pop_cnt'] < upper) & (long_term_frgn['visit_pop_cnt'] > lower)]"
      ],
      "execution_count": 19,
      "outputs": []
    },
    {
      "cell_type": "code",
      "metadata": {
        "colab": {
          "base_uri": "https://localhost:8080/",
          "height": 283
        },
        "id": "1fhNcA_T9W_P",
        "outputId": "7bcb3686-ddcb-4ed2-c5d6-a2d1efc982dd"
      },
      "source": [
        "long_term_frgn['resd_pop_cnt'].plot.hist()"
      ],
      "execution_count": 20,
      "outputs": [
        {
          "output_type": "execute_result",
          "data": {
            "text/plain": [
              "<matplotlib.axes._subplots.AxesSubplot at 0x7f27004e90d0>"
            ]
          },
          "metadata": {},
          "execution_count": 20
        },
        {
          "output_type": "display_data",
          "data": {
            "image/png": "[encoded data removed]",
            "text/plain": [
              "<Figure size 432x288 with 1 Axes>"
            ]
          },
          "metadata": {
            "needs_background": "light"
          }
        }
      ]
    },
    {
      "cell_type": "code",
      "metadata": {
        "colab": {
          "base_uri": "https://localhost:8080/",
          "height": 283
        },
        "id": "x-Mss7-N9dA_",
        "outputId": "ca06497f-2e21-40f6-88bc-c6f3a10ece5d"
      },
      "source": [
        "long_term_frgn['visit_pop_cnt'].plot.hist()"
      ],
      "execution_count": 21,
      "outputs": [
        {
          "output_type": "execute_result",
          "data": {
            "text/plain": [
              "<matplotlib.axes._subplots.AxesSubplot at 0x7f26ff479b10>"
            ]
          },
          "metadata": {},
          "execution_count": 21
        },
        {
          "output_type": "display_data",
          "data": {
            "image/png": "[encoded data removed]",
            "text/plain": [
              "<Figure size 432x288 with 1 Axes>"
            ]
          },
          "metadata": {
            "needs_background": "light"
          }
        }
      ]
    },
    {
      "cell_type": "code",
      "metadata": {
        "id": "LoHquz7Z6BKL"
      },
      "source": [
        "from sklearn.preprocessing import StandardScaler\n",
        "scaler = StandardScaler()"
      ],
      "execution_count": 22,
      "outputs": []
    },
    {
      "cell_type": "code",
      "metadata": {
        "id": "PF1xwfPz5E3T"
      },
      "source": [
        "pd.options.display.float_format = '{:.1f}'.format"
      ],
      "execution_count": 23,
      "outputs": []
    },
    {
      "cell_type": "code",
      "metadata": {
        "id": "wmzgkJ_TBL--",
        "colab": {
          "base_uri": "https://localhost:8080/",
          "height": 204
        },
        "outputId": "5af0adc9-92b3-4837-ca75-7c3f685a3fe1"
      },
      "source": [
        "long_term_frgn[['resd_pop_cnt', 'visit_pop_cnt']] = scaler.fit_transform(long_term_frgn[['resd_pop_cnt', 'visit_pop_cnt']])\n",
        "long_term_frgn.head()"
      ],
      "execution_count": 24,
      "outputs": [
        {
          "output_type": "execute_result",
          "data": {
            "text/html": [
              "<div>\n",
              "<style scoped>\n",
              "    .dataframe tbody tr th:only-of-type {\n",
              "        vertical-align: middle;\n",
              "    }\n",
              "\n",
              "    .dataframe tbody tr th {\n",
              "        vertical-align: top;\n",
              "    }\n",
              "\n",
              "    .dataframe thead th {\n",
              "        text-align: right;\n",
              "    }\n",
              "</style>\n",
              "<table border=\"1\" class=\"dataframe\">\n",
              "  <thead>\n",
              "    <tr style=\"text-align: right;\">\n",
              "      <th></th>\n",
              "      <th>year</th>\n",
              "      <th>month</th>\n",
              "      <th>emd_nm</th>\n",
              "      <th>nationality</th>\n",
              "      <th>time</th>\n",
              "      <th>resd_pop_cnt</th>\n",
              "      <th>visit_pop_cnt</th>\n",
              "    </tr>\n",
              "  </thead>\n",
              "  <tbody>\n",
              "    <tr>\n",
              "      <th>0</th>\n",
              "      <td>2018</td>\n",
              "      <td>1</td>\n",
              "      <td>한림읍</td>\n",
              "      <td>CAN</td>\n",
              "      <td>1</td>\n",
              "      <td>-1.4</td>\n",
              "      <td>-1.0</td>\n",
              "    </tr>\n",
              "    <tr>\n",
              "      <th>4</th>\n",
              "      <td>2018</td>\n",
              "      <td>1</td>\n",
              "      <td>한림읍</td>\n",
              "      <td>ETC</td>\n",
              "      <td>1</td>\n",
              "      <td>-0.4</td>\n",
              "      <td>-1.6</td>\n",
              "    </tr>\n",
              "    <tr>\n",
              "      <th>12</th>\n",
              "      <td>2018</td>\n",
              "      <td>1</td>\n",
              "      <td>한림읍</td>\n",
              "      <td>LKA</td>\n",
              "      <td>1</td>\n",
              "      <td>1.5</td>\n",
              "      <td>0.0</td>\n",
              "    </tr>\n",
              "    <tr>\n",
              "      <th>14</th>\n",
              "      <td>2018</td>\n",
              "      <td>1</td>\n",
              "      <td>한림읍</td>\n",
              "      <td>MGL</td>\n",
              "      <td>1</td>\n",
              "      <td>0.6</td>\n",
              "      <td>-0.2</td>\n",
              "    </tr>\n",
              "    <tr>\n",
              "      <th>16</th>\n",
              "      <td>2018</td>\n",
              "      <td>1</td>\n",
              "      <td>한림읍</td>\n",
              "      <td>NPL</td>\n",
              "      <td>1</td>\n",
              "      <td>1.2</td>\n",
              "      <td>-0.5</td>\n",
              "    </tr>\n",
              "  </tbody>\n",
              "</table>\n",
              "</div>"
            ],
            "text/plain": [
              "    year  month emd_nm nationality  time  resd_pop_cnt  visit_pop_cnt\n",
              "0   2018      1    한림읍         CAN     1          -1.4           -1.0\n",
              "4   2018      1    한림읍         ETC     1          -0.4           -1.6\n",
              "12  2018      1    한림읍         LKA     1           1.5            0.0\n",
              "14  2018      1    한림읍         MGL     1           0.6           -0.2\n",
              "16  2018      1    한림읍         NPL     1           1.2           -0.5"
            ]
          },
          "metadata": {},
          "execution_count": 24
        }
      ]
    },
    {
      "cell_type": "markdown",
      "metadata": {
        "id": "O5ZdvO_n6iza"
      },
      "source": [
        "d = 1 - 6, m = 7 - 12, a = 13 - 18, n = 19 - 24"
      ]
    },
    {
      "cell_type": "code",
      "metadata": {
        "id": "Dm6Qmh4U7-0Z"
      },
      "source": [
        "long_term = long_term_frgn.copy()"
      ],
      "execution_count": 25,
      "outputs": []
    },
    {
      "cell_type": "code",
      "metadata": {
        "id": "lgA6bh496CTI"
      },
      "source": [
        "long_term['time'].replace({1: 'd', 2 : 'd', 3 : 'd', 4 : 'd', 5 : 'd', 6 : 'd'}, inplace=True)\n",
        "long_term['time'].replace({7: 'm', 8 : 'm', 9 : 'm', 10 : 'm', 11 : 'm', 12 : 'm'}, inplace=True)\n",
        "long_term['time'].replace({13: 'a', 14 : 'a', 15 : 'a', 16 : 'a', 17 : 'a', 18 : 'a'}, inplace=True)\n",
        "long_term['time'].replace({19: 'n', 20 : 'n', 21 : 'n', 22 : 'n', 23 : 'n', 24 : 'n'}, inplace=True)"
      ],
      "execution_count": 26,
      "outputs": []
    },
    {
      "cell_type": "markdown",
      "metadata": {
        "id": "T3fVAO7EBlmT"
      },
      "source": [
        "asia = as, europe = eur, oceania = oce, north america = na, 기타 = etc"
      ]
    },
    {
      "cell_type": "code",
      "metadata": {
        "id": "DeykC0oo95D0"
      },
      "source": [
        "long_term['nationality'].replace({'CHN': 'As', 'VNM' : 'As', 'IDN' : 'As', 'LKA' : 'As', 'PHL' : 'As', 'NPL' : 'As', 'MGL' : 'As', 'KHM' : 'As', 'THA' : 'As', 'JPN' : 'As', 'TWN' : 'As', 'MMR' : 'As', 'UZB' : 'As', 'PAK' : 'As', 'KAZ' : 'As', 'MYS' : 'As', 'KGZ' : 'As', 'IND' : 'As'}, inplace=True)\n",
        "long_term['nationality'].replace({'USA' : 'Na', 'CAN' : 'Na'}, inplace=True)\n",
        "long_term['nationality'].replace({'GBR' : 'Eur', 'RUS' : 'Eur', 'FRA' : 'Eur'}, inplace=True)\n",
        "long_term['nationality'].replace({'AUS' : 'Oce', 'NZL' : 'Oce'}, inplace=True)"
      ],
      "execution_count": 27,
      "outputs": []
    },
    {
      "cell_type": "code",
      "metadata": {
        "id": "oJwIL6ZBDrf-"
      },
      "source": [
        "long_term = pd.get_dummies(long_term, columns = ['time', 'nationality'])"
      ],
      "execution_count": 28,
      "outputs": []
    },
    {
      "cell_type": "code",
      "metadata": {
        "colab": {
          "base_uri": "https://localhost:8080/",
          "height": 224
        },
        "id": "p4jXoJI5DiwK",
        "outputId": "197dd467-9795-4eb7-a820-545ccfa9e8a2"
      },
      "source": [
        "long_term.head()"
      ],
      "execution_count": 29,
      "outputs": [
        {
          "output_type": "execute_result",
          "data": {
            "text/html": [
              "<div>\n",
              "<style scoped>\n",
              "    .dataframe tbody tr th:only-of-type {\n",
              "        vertical-align: middle;\n",
              "    }\n",
              "\n",
              "    .dataframe tbody tr th {\n",
              "        vertical-align: top;\n",
              "    }\n",
              "\n",
              "    .dataframe thead th {\n",
              "        text-align: right;\n",
              "    }\n",
              "</style>\n",
              "<table border=\"1\" class=\"dataframe\">\n",
              "  <thead>\n",
              "    <tr style=\"text-align: right;\">\n",
              "      <th></th>\n",
              "      <th>year</th>\n",
              "      <th>month</th>\n",
              "      <th>emd_nm</th>\n",
              "      <th>resd_pop_cnt</th>\n",
              "      <th>visit_pop_cnt</th>\n",
              "      <th>time_a</th>\n",
              "      <th>time_d</th>\n",
              "      <th>time_m</th>\n",
              "      <th>time_n</th>\n",
              "      <th>nationality_As</th>\n",
              "      <th>nationality_ETC</th>\n",
              "      <th>nationality_Eur</th>\n",
              "      <th>nationality_Na</th>\n",
              "      <th>nationality_Oce</th>\n",
              "    </tr>\n",
              "  </thead>\n",
              "  <tbody>\n",
              "    <tr>\n",
              "      <th>0</th>\n",
              "      <td>2018</td>\n",
              "      <td>1</td>\n",
              "      <td>한림읍</td>\n",
              "      <td>-1.4</td>\n",
              "      <td>-1.0</td>\n",
              "      <td>0</td>\n",
              "      <td>1</td>\n",
              "      <td>0</td>\n",
              "      <td>0</td>\n",
              "      <td>0</td>\n",
              "      <td>0</td>\n",
              "      <td>0</td>\n",
              "      <td>1</td>\n",
              "      <td>0</td>\n",
              "    </tr>\n",
              "    <tr>\n",
              "      <th>4</th>\n",
              "      <td>2018</td>\n",
              "      <td>1</td>\n",
              "      <td>한림읍</td>\n",
              "      <td>-0.4</td>\n",
              "      <td>-1.6</td>\n",
              "      <td>0</td>\n",
              "      <td>1</td>\n",
              "      <td>0</td>\n",
              "      <td>0</td>\n",
              "      <td>0</td>\n",
              "      <td>1</td>\n",
              "      <td>0</td>\n",
              "      <td>0</td>\n",
              "      <td>0</td>\n",
              "    </tr>\n",
              "    <tr>\n",
              "      <th>12</th>\n",
              "      <td>2018</td>\n",
              "      <td>1</td>\n",
              "      <td>한림읍</td>\n",
              "      <td>1.5</td>\n",
              "      <td>0.0</td>\n",
              "      <td>0</td>\n",
              "      <td>1</td>\n",
              "      <td>0</td>\n",
              "      <td>0</td>\n",
              "      <td>1</td>\n",
              "      <td>0</td>\n",
              "      <td>0</td>\n",
              "      <td>0</td>\n",
              "      <td>0</td>\n",
              "    </tr>\n",
              "    <tr>\n",
              "      <th>14</th>\n",
              "      <td>2018</td>\n",
              "      <td>1</td>\n",
              "      <td>한림읍</td>\n",
              "      <td>0.6</td>\n",
              "      <td>-0.2</td>\n",
              "      <td>0</td>\n",
              "      <td>1</td>\n",
              "      <td>0</td>\n",
              "      <td>0</td>\n",
              "      <td>1</td>\n",
              "      <td>0</td>\n",
              "      <td>0</td>\n",
              "      <td>0</td>\n",
              "      <td>0</td>\n",
              "    </tr>\n",
              "    <tr>\n",
              "      <th>16</th>\n",
              "      <td>2018</td>\n",
              "      <td>1</td>\n",
              "      <td>한림읍</td>\n",
              "      <td>1.2</td>\n",
              "      <td>-0.5</td>\n",
              "      <td>0</td>\n",
              "      <td>1</td>\n",
              "      <td>0</td>\n",
              "      <td>0</td>\n",
              "      <td>1</td>\n",
              "      <td>0</td>\n",
              "      <td>0</td>\n",
              "      <td>0</td>\n",
              "      <td>0</td>\n",
              "    </tr>\n",
              "  </tbody>\n",
              "</table>\n",
              "</div>"
            ],
            "text/plain": [
              "    year  month emd_nm  resd_pop_cnt  visit_pop_cnt  time_a  time_d  time_m  \\\n",
              "0   2018      1    한림읍          -1.4           -1.0       0       1       0   \n",
              "4   2018      1    한림읍          -0.4           -1.6       0       1       0   \n",
              "12  2018      1    한림읍           1.5            0.0       0       1       0   \n",
              "14  2018      1    한림읍           0.6           -0.2       0       1       0   \n",
              "16  2018      1    한림읍           1.2           -0.5       0       1       0   \n",
              "\n",
              "    time_n  nationality_As  nationality_ETC  nationality_Eur  nationality_Na  \\\n",
              "0        0               0                0                0               1   \n",
              "4        0               0                1                0               0   \n",
              "12       0               1                0                0               0   \n",
              "14       0               1                0                0               0   \n",
              "16       0               1                0                0               0   \n",
              "\n",
              "    nationality_Oce  \n",
              "0                 0  \n",
              "4                 0  \n",
              "12                0  \n",
              "14                0  \n",
              "16                0  "
            ]
          },
          "metadata": {},
          "execution_count": 29
        }
      ]
    },
    {
      "cell_type": "markdown",
      "metadata": {
        "id": "c73gkGRhwFl4"
      },
      "source": [
        "음식물 쓰레기 데이터 전처리"
      ]
    },
    {
      "cell_type": "code",
      "metadata": {
        "id": "Lu1yQ9CUBMyJ",
        "colab": {
          "base_uri": "https://localhost:8080/",
          "height": 204
        },
        "outputId": "2b6da27c-a3e0-481e-90d7-75e5905ce86b"
      },
      "source": [
        "food_waste_month = pd.read_csv('food_waste_month.csv', encoding = 'cp949')\n",
        "food_waste_month.head()"
      ],
      "execution_count": 30,
      "outputs": [
        {
          "output_type": "execute_result",
          "data": {
            "text/html": [
              "<div>\n",
              "<style scoped>\n",
              "    .dataframe tbody tr th:only-of-type {\n",
              "        vertical-align: middle;\n",
              "    }\n",
              "\n",
              "    .dataframe tbody tr th {\n",
              "        vertical-align: top;\n",
              "    }\n",
              "\n",
              "    .dataframe thead th {\n",
              "        text-align: right;\n",
              "    }\n",
              "</style>\n",
              "<table border=\"1\" class=\"dataframe\">\n",
              "  <thead>\n",
              "    <tr style=\"text-align: right;\">\n",
              "      <th></th>\n",
              "      <th>base_date</th>\n",
              "      <th>emd_nm</th>\n",
              "      <th>sum(em_cnt)</th>\n",
              "      <th>sum(em_g)</th>\n",
              "      <th>sum(pay_amt)</th>\n",
              "    </tr>\n",
              "  </thead>\n",
              "  <tbody>\n",
              "    <tr>\n",
              "      <th>0</th>\n",
              "      <td>2018-01</td>\n",
              "      <td>건입동</td>\n",
              "      <td>18416</td>\n",
              "      <td>45646550</td>\n",
              "      <td>1364804</td>\n",
              "    </tr>\n",
              "    <tr>\n",
              "      <th>1</th>\n",
              "      <td>2018-01</td>\n",
              "      <td>남원읍</td>\n",
              "      <td>9570</td>\n",
              "      <td>42437700</td>\n",
              "      <td>1270773</td>\n",
              "    </tr>\n",
              "    <tr>\n",
              "      <th>2</th>\n",
              "      <td>2018-01</td>\n",
              "      <td>노형동</td>\n",
              "      <td>113990</td>\n",
              "      <td>265018400</td>\n",
              "      <td>7883340</td>\n",
              "    </tr>\n",
              "    <tr>\n",
              "      <th>3</th>\n",
              "      <td>2018-01</td>\n",
              "      <td>대륜동</td>\n",
              "      <td>21666</td>\n",
              "      <td>57612600</td>\n",
              "      <td>1676850</td>\n",
              "    </tr>\n",
              "    <tr>\n",
              "      <th>4</th>\n",
              "      <td>2018-01</td>\n",
              "      <td>대정읍</td>\n",
              "      <td>10185</td>\n",
              "      <td>38885550</td>\n",
              "      <td>1164122</td>\n",
              "    </tr>\n",
              "  </tbody>\n",
              "</table>\n",
              "</div>"
            ],
            "text/plain": [
              "  base_date emd_nm  sum(em_cnt)  sum(em_g)  sum(pay_amt)\n",
              "0   2018-01    건입동        18416   45646550       1364804\n",
              "1   2018-01    남원읍         9570   42437700       1270773\n",
              "2   2018-01    노형동       113990  265018400       7883340\n",
              "3   2018-01    대륜동        21666   57612600       1676850\n",
              "4   2018-01    대정읍        10185   38885550       1164122"
            ]
          },
          "metadata": {},
          "execution_count": 30
        }
      ]
    },
    {
      "cell_type": "code",
      "metadata": {
        "id": "JSGlkHuxw-0Z"
      },
      "source": [
        "food_waste_month['base_date'] = pd.to_datetime(food_waste_month['base_date'])\n",
        "food_waste_month['year'] = food_waste_month['base_date'].dt.year \n",
        "food_waste_month['month'] = food_waste_month['base_date'].dt.month"
      ],
      "execution_count": 31,
      "outputs": []
    },
    {
      "cell_type": "code",
      "metadata": {
        "id": "8jDZchLZyySz",
        "colab": {
          "base_uri": "https://localhost:8080/",
          "height": 204
        },
        "outputId": "af51819d-dd07-4061-c8d0-fe360fc8a156"
      },
      "source": [
        "food_waste_month = food_waste_month[['year', 'month', 'emd_nm', 'sum(em_g)']]\n",
        "food_waste_month.head()"
      ],
      "execution_count": 32,
      "outputs": [
        {
          "output_type": "execute_result",
          "data": {
            "text/html": [
              "<div>\n",
              "<style scoped>\n",
              "    .dataframe tbody tr th:only-of-type {\n",
              "        vertical-align: middle;\n",
              "    }\n",
              "\n",
              "    .dataframe tbody tr th {\n",
              "        vertical-align: top;\n",
              "    }\n",
              "\n",
              "    .dataframe thead th {\n",
              "        text-align: right;\n",
              "    }\n",
              "</style>\n",
              "<table border=\"1\" class=\"dataframe\">\n",
              "  <thead>\n",
              "    <tr style=\"text-align: right;\">\n",
              "      <th></th>\n",
              "      <th>year</th>\n",
              "      <th>month</th>\n",
              "      <th>emd_nm</th>\n",
              "      <th>sum(em_g)</th>\n",
              "    </tr>\n",
              "  </thead>\n",
              "  <tbody>\n",
              "    <tr>\n",
              "      <th>0</th>\n",
              "      <td>2018</td>\n",
              "      <td>1</td>\n",
              "      <td>건입동</td>\n",
              "      <td>45646550</td>\n",
              "    </tr>\n",
              "    <tr>\n",
              "      <th>1</th>\n",
              "      <td>2018</td>\n",
              "      <td>1</td>\n",
              "      <td>남원읍</td>\n",
              "      <td>42437700</td>\n",
              "    </tr>\n",
              "    <tr>\n",
              "      <th>2</th>\n",
              "      <td>2018</td>\n",
              "      <td>1</td>\n",
              "      <td>노형동</td>\n",
              "      <td>265018400</td>\n",
              "    </tr>\n",
              "    <tr>\n",
              "      <th>3</th>\n",
              "      <td>2018</td>\n",
              "      <td>1</td>\n",
              "      <td>대륜동</td>\n",
              "      <td>57612600</td>\n",
              "    </tr>\n",
              "    <tr>\n",
              "      <th>4</th>\n",
              "      <td>2018</td>\n",
              "      <td>1</td>\n",
              "      <td>대정읍</td>\n",
              "      <td>38885550</td>\n",
              "    </tr>\n",
              "  </tbody>\n",
              "</table>\n",
              "</div>"
            ],
            "text/plain": [
              "   year  month emd_nm  sum(em_g)\n",
              "0  2018      1    건입동   45646550\n",
              "1  2018      1    남원읍   42437700\n",
              "2  2018      1    노형동  265018400\n",
              "3  2018      1    대륜동   57612600\n",
              "4  2018      1    대정읍   38885550"
            ]
          },
          "metadata": {},
          "execution_count": 32
        }
      ]
    },
    {
      "cell_type": "code",
      "metadata": {
        "colab": {
          "base_uri": "https://localhost:8080/",
          "height": 295
        },
        "id": "rtBqASJIYx0e",
        "outputId": "0ee9b1b7-12e8-45f9-e8f4-19250b5b241b"
      },
      "source": [
        "food_waste_month['sum(em_g)'].plot.hist()"
      ],
      "execution_count": 33,
      "outputs": [
        {
          "output_type": "execute_result",
          "data": {
            "text/plain": [
              "<matplotlib.axes._subplots.AxesSubplot at 0x7f2701263ad0>"
            ]
          },
          "metadata": {},
          "execution_count": 33
        },
        {
          "output_type": "display_data",
          "data": {
            "image/png": "[encoded data removed]",
            "text/plain": [
              "<Figure size 432x288 with 1 Axes>"
            ]
          },
          "metadata": {
            "needs_background": "light"
          }
        }
      ]
    },
    {
      "cell_type": "code",
      "metadata": {
        "id": "fW7h2k6gY-vh"
      },
      "source": [
        "food_waste_month['sum(em_g)'] = np.log(food_waste_month[['sum(em_g)']])"
      ],
      "execution_count": 34,
      "outputs": []
    },
    {
      "cell_type": "code",
      "metadata": {
        "colab": {
          "base_uri": "https://localhost:8080/",
          "height": 283
        },
        "id": "PWIrL-GtZI5x",
        "outputId": "52c03690-48d0-4738-ac31-8482e3e78cff"
      },
      "source": [
        "food_waste_month['sum(em_g)'].plot.hist()"
      ],
      "execution_count": 35,
      "outputs": [
        {
          "output_type": "execute_result",
          "data": {
            "text/plain": [
              "<matplotlib.axes._subplots.AxesSubplot at 0x7f26fe37da50>"
            ]
          },
          "metadata": {},
          "execution_count": 35
        },
        {
          "output_type": "display_data",
          "data": {
            "image/png": "[encoded data removed]",
            "text/plain": [
              "<Figure size 432x288 with 1 Axes>"
            ]
          },
          "metadata": {
            "needs_background": "light"
          }
        }
      ]
    },
    {
      "cell_type": "code",
      "metadata": {
        "colab": {
          "base_uri": "https://localhost:8080/"
        },
        "id": "hBeJcNifaBhA",
        "outputId": "d07df35b-81ed-423d-9e8b-1c455d4c1a6e"
      },
      "source": [
        "outlier_iqr(food_waste_month, 'sum(em_g)')"
      ],
      "execution_count": 36,
      "outputs": [
        {
          "output_type": "stream",
          "text": [
            "IQR은 1.255197116730578 이다.\n",
            "lower bound 값은 15.073569121533883 이다.\n",
            "upper bound 값은 20.094357588456194 이다.\n",
            "총 이상치 개수는 25 이다.\n"
          ],
          "name": "stdout"
        }
      ]
    },
    {
      "cell_type": "code",
      "metadata": {
        "id": "Pog2m8PKab4j"
      },
      "source": [
        "food_waste_month = food_waste_month[(food_waste_month['sum(em_g)'] < upper) & (food_waste_month['sum(em_g)'] > lower)]"
      ],
      "execution_count": 37,
      "outputs": []
    },
    {
      "cell_type": "code",
      "metadata": {
        "id": "2gHyxGeXZMMA"
      },
      "source": [
        "food_waste_month['sum(em_g)'] = scaler.fit_transform(food_waste_month[['sum(em_g)']])"
      ],
      "execution_count": 38,
      "outputs": []
    },
    {
      "cell_type": "markdown",
      "metadata": {
        "id": "SGJb8Xu-wgNC"
      },
      "source": [
        "y와의 상관계수\n"
      ]
    },
    {
      "cell_type": "code",
      "metadata": {
        "colab": {
          "base_uri": "https://localhost:8080/",
          "height": 224
        },
        "id": "D9xObohrEEc5",
        "outputId": "9540f67c-7f35-40b5-fb98-94d701aae750"
      },
      "source": [
        "longterm_food_merge = pd.merge(long_term, food_waste_month, on = ['year', 'month', 'emd_nm'],  how = 'inner')\n",
        "longterm_food_merge.head()"
      ],
      "execution_count": 39,
      "outputs": [
        {
          "output_type": "execute_result",
          "data": {
            "text/html": [
              "<div>\n",
              "<style scoped>\n",
              "    .dataframe tbody tr th:only-of-type {\n",
              "        vertical-align: middle;\n",
              "    }\n",
              "\n",
              "    .dataframe tbody tr th {\n",
              "        vertical-align: top;\n",
              "    }\n",
              "\n",
              "    .dataframe thead th {\n",
              "        text-align: right;\n",
              "    }\n",
              "</style>\n",
              "<table border=\"1\" class=\"dataframe\">\n",
              "  <thead>\n",
              "    <tr style=\"text-align: right;\">\n",
              "      <th></th>\n",
              "      <th>year</th>\n",
              "      <th>month</th>\n",
              "      <th>emd_nm</th>\n",
              "      <th>resd_pop_cnt</th>\n",
              "      <th>visit_pop_cnt</th>\n",
              "      <th>time_a</th>\n",
              "      <th>time_d</th>\n",
              "      <th>time_m</th>\n",
              "      <th>time_n</th>\n",
              "      <th>nationality_As</th>\n",
              "      <th>nationality_ETC</th>\n",
              "      <th>nationality_Eur</th>\n",
              "      <th>nationality_Na</th>\n",
              "      <th>nationality_Oce</th>\n",
              "      <th>sum(em_g)</th>\n",
              "    </tr>\n",
              "  </thead>\n",
              "  <tbody>\n",
              "    <tr>\n",
              "      <th>0</th>\n",
              "      <td>2018</td>\n",
              "      <td>1</td>\n",
              "      <td>애월읍</td>\n",
              "      <td>0.2</td>\n",
              "      <td>-0.2</td>\n",
              "      <td>0</td>\n",
              "      <td>1</td>\n",
              "      <td>0</td>\n",
              "      <td>0</td>\n",
              "      <td>0</td>\n",
              "      <td>0</td>\n",
              "      <td>0</td>\n",
              "      <td>1</td>\n",
              "      <td>0</td>\n",
              "      <td>-2.0</td>\n",
              "    </tr>\n",
              "    <tr>\n",
              "      <th>1</th>\n",
              "      <td>2018</td>\n",
              "      <td>1</td>\n",
              "      <td>애월읍</td>\n",
              "      <td>0.9</td>\n",
              "      <td>1.6</td>\n",
              "      <td>0</td>\n",
              "      <td>1</td>\n",
              "      <td>0</td>\n",
              "      <td>0</td>\n",
              "      <td>1</td>\n",
              "      <td>0</td>\n",
              "      <td>0</td>\n",
              "      <td>0</td>\n",
              "      <td>0</td>\n",
              "      <td>-2.0</td>\n",
              "    </tr>\n",
              "    <tr>\n",
              "      <th>2</th>\n",
              "      <td>2018</td>\n",
              "      <td>1</td>\n",
              "      <td>애월읍</td>\n",
              "      <td>1.1</td>\n",
              "      <td>-0.5</td>\n",
              "      <td>0</td>\n",
              "      <td>1</td>\n",
              "      <td>0</td>\n",
              "      <td>0</td>\n",
              "      <td>1</td>\n",
              "      <td>0</td>\n",
              "      <td>0</td>\n",
              "      <td>0</td>\n",
              "      <td>0</td>\n",
              "      <td>-2.0</td>\n",
              "    </tr>\n",
              "    <tr>\n",
              "      <th>3</th>\n",
              "      <td>2018</td>\n",
              "      <td>1</td>\n",
              "      <td>애월읍</td>\n",
              "      <td>-1.1</td>\n",
              "      <td>-0.8</td>\n",
              "      <td>0</td>\n",
              "      <td>1</td>\n",
              "      <td>0</td>\n",
              "      <td>0</td>\n",
              "      <td>1</td>\n",
              "      <td>0</td>\n",
              "      <td>0</td>\n",
              "      <td>0</td>\n",
              "      <td>0</td>\n",
              "      <td>-2.0</td>\n",
              "    </tr>\n",
              "    <tr>\n",
              "      <th>4</th>\n",
              "      <td>2018</td>\n",
              "      <td>1</td>\n",
              "      <td>애월읍</td>\n",
              "      <td>0.8</td>\n",
              "      <td>-0.5</td>\n",
              "      <td>0</td>\n",
              "      <td>1</td>\n",
              "      <td>0</td>\n",
              "      <td>0</td>\n",
              "      <td>1</td>\n",
              "      <td>0</td>\n",
              "      <td>0</td>\n",
              "      <td>0</td>\n",
              "      <td>0</td>\n",
              "      <td>-2.0</td>\n",
              "    </tr>\n",
              "  </tbody>\n",
              "</table>\n",
              "</div>"
            ],
            "text/plain": [
              "   year  month emd_nm  resd_pop_cnt  visit_pop_cnt  time_a  time_d  time_m  \\\n",
              "0  2018      1    애월읍           0.2           -0.2       0       1       0   \n",
              "1  2018      1    애월읍           0.9            1.6       0       1       0   \n",
              "2  2018      1    애월읍           1.1           -0.5       0       1       0   \n",
              "3  2018      1    애월읍          -1.1           -0.8       0       1       0   \n",
              "4  2018      1    애월읍           0.8           -0.5       0       1       0   \n",
              "\n",
              "   time_n  nationality_As  nationality_ETC  nationality_Eur  nationality_Na  \\\n",
              "0       0               0                0                0               1   \n",
              "1       0               1                0                0               0   \n",
              "2       0               1                0                0               0   \n",
              "3       0               1                0                0               0   \n",
              "4       0               1                0                0               0   \n",
              "\n",
              "   nationality_Oce  sum(em_g)  \n",
              "0                0       -2.0  \n",
              "1                0       -2.0  \n",
              "2                0       -2.0  \n",
              "3                0       -2.0  \n",
              "4                0       -2.0  "
            ]
          },
          "metadata": {},
          "execution_count": 39
        }
      ]
    },
    {
      "cell_type": "code",
      "metadata": {
        "id": "2x73b1ZTE8j_",
        "colab": {
          "base_uri": "https://localhost:8080/"
        },
        "outputId": "7a66d9cb-4f6c-4ad7-9ae3-a4bbf079f7c4"
      },
      "source": [
        "longterm_food_merge.shape"
      ],
      "execution_count": 40,
      "outputs": [
        {
          "output_type": "execute_result",
          "data": {
            "text/plain": [
              "(76804, 15)"
            ]
          },
          "metadata": {},
          "execution_count": 40
        }
      ]
    },
    {
      "cell_type": "code",
      "metadata": {
        "colab": {
          "base_uri": "https://localhost:8080/",
          "height": 439
        },
        "id": "-iJSkg25GdFL",
        "outputId": "3a37b780-9850-4727-bcb3-41eb12f9b6bd"
      },
      "source": [
        "longterm_food_merge.drop_duplicates()"
      ],
      "execution_count": 41,
      "outputs": [
        {
          "output_type": "execute_result",
          "data": {
            "text/html": [
              "<div>\n",
              "<style scoped>\n",
              "    .dataframe tbody tr th:only-of-type {\n",
              "        vertical-align: middle;\n",
              "    }\n",
              "\n",
              "    .dataframe tbody tr th {\n",
              "        vertical-align: top;\n",
              "    }\n",
              "\n",
              "    .dataframe thead th {\n",
              "        text-align: right;\n",
              "    }\n",
              "</style>\n",
              "<table border=\"1\" class=\"dataframe\">\n",
              "  <thead>\n",
              "    <tr style=\"text-align: right;\">\n",
              "      <th></th>\n",
              "      <th>year</th>\n",
              "      <th>month</th>\n",
              "      <th>emd_nm</th>\n",
              "      <th>resd_pop_cnt</th>\n",
              "      <th>visit_pop_cnt</th>\n",
              "      <th>time_a</th>\n",
              "      <th>time_d</th>\n",
              "      <th>time_m</th>\n",
              "      <th>time_n</th>\n",
              "      <th>nationality_As</th>\n",
              "      <th>nationality_ETC</th>\n",
              "      <th>nationality_Eur</th>\n",
              "      <th>nationality_Na</th>\n",
              "      <th>nationality_Oce</th>\n",
              "      <th>sum(em_g)</th>\n",
              "    </tr>\n",
              "  </thead>\n",
              "  <tbody>\n",
              "    <tr>\n",
              "      <th>0</th>\n",
              "      <td>2018</td>\n",
              "      <td>1</td>\n",
              "      <td>애월읍</td>\n",
              "      <td>0.2</td>\n",
              "      <td>-0.2</td>\n",
              "      <td>0</td>\n",
              "      <td>1</td>\n",
              "      <td>0</td>\n",
              "      <td>0</td>\n",
              "      <td>0</td>\n",
              "      <td>0</td>\n",
              "      <td>0</td>\n",
              "      <td>1</td>\n",
              "      <td>0</td>\n",
              "      <td>-2.0</td>\n",
              "    </tr>\n",
              "    <tr>\n",
              "      <th>1</th>\n",
              "      <td>2018</td>\n",
              "      <td>1</td>\n",
              "      <td>애월읍</td>\n",
              "      <td>0.9</td>\n",
              "      <td>1.6</td>\n",
              "      <td>0</td>\n",
              "      <td>1</td>\n",
              "      <td>0</td>\n",
              "      <td>0</td>\n",
              "      <td>1</td>\n",
              "      <td>0</td>\n",
              "      <td>0</td>\n",
              "      <td>0</td>\n",
              "      <td>0</td>\n",
              "      <td>-2.0</td>\n",
              "    </tr>\n",
              "    <tr>\n",
              "      <th>2</th>\n",
              "      <td>2018</td>\n",
              "      <td>1</td>\n",
              "      <td>애월읍</td>\n",
              "      <td>1.1</td>\n",
              "      <td>-0.5</td>\n",
              "      <td>0</td>\n",
              "      <td>1</td>\n",
              "      <td>0</td>\n",
              "      <td>0</td>\n",
              "      <td>1</td>\n",
              "      <td>0</td>\n",
              "      <td>0</td>\n",
              "      <td>0</td>\n",
              "      <td>0</td>\n",
              "      <td>-2.0</td>\n",
              "    </tr>\n",
              "    <tr>\n",
              "      <th>3</th>\n",
              "      <td>2018</td>\n",
              "      <td>1</td>\n",
              "      <td>애월읍</td>\n",
              "      <td>-1.1</td>\n",
              "      <td>-0.8</td>\n",
              "      <td>0</td>\n",
              "      <td>1</td>\n",
              "      <td>0</td>\n",
              "      <td>0</td>\n",
              "      <td>1</td>\n",
              "      <td>0</td>\n",
              "      <td>0</td>\n",
              "      <td>0</td>\n",
              "      <td>0</td>\n",
              "      <td>-2.0</td>\n",
              "    </tr>\n",
              "    <tr>\n",
              "      <th>4</th>\n",
              "      <td>2018</td>\n",
              "      <td>1</td>\n",
              "      <td>애월읍</td>\n",
              "      <td>0.8</td>\n",
              "      <td>-0.5</td>\n",
              "      <td>0</td>\n",
              "      <td>1</td>\n",
              "      <td>0</td>\n",
              "      <td>0</td>\n",
              "      <td>1</td>\n",
              "      <td>0</td>\n",
              "      <td>0</td>\n",
              "      <td>0</td>\n",
              "      <td>0</td>\n",
              "      <td>-2.0</td>\n",
              "    </tr>\n",
              "    <tr>\n",
              "      <th>...</th>\n",
              "      <td>...</td>\n",
              "      <td>...</td>\n",
              "      <td>...</td>\n",
              "      <td>...</td>\n",
              "      <td>...</td>\n",
              "      <td>...</td>\n",
              "      <td>...</td>\n",
              "      <td>...</td>\n",
              "      <td>...</td>\n",
              "      <td>...</td>\n",
              "      <td>...</td>\n",
              "      <td>...</td>\n",
              "      <td>...</td>\n",
              "      <td>...</td>\n",
              "      <td>...</td>\n",
              "    </tr>\n",
              "    <tr>\n",
              "      <th>76799</th>\n",
              "      <td>2018</td>\n",
              "      <td>1</td>\n",
              "      <td>효돈동</td>\n",
              "      <td>-0.4</td>\n",
              "      <td>-0.7</td>\n",
              "      <td>0</td>\n",
              "      <td>0</td>\n",
              "      <td>0</td>\n",
              "      <td>1</td>\n",
              "      <td>1</td>\n",
              "      <td>0</td>\n",
              "      <td>0</td>\n",
              "      <td>0</td>\n",
              "      <td>0</td>\n",
              "      <td>-1.0</td>\n",
              "    </tr>\n",
              "    <tr>\n",
              "      <th>76800</th>\n",
              "      <td>2018</td>\n",
              "      <td>1</td>\n",
              "      <td>효돈동</td>\n",
              "      <td>-0.4</td>\n",
              "      <td>-0.7</td>\n",
              "      <td>0</td>\n",
              "      <td>1</td>\n",
              "      <td>0</td>\n",
              "      <td>0</td>\n",
              "      <td>1</td>\n",
              "      <td>0</td>\n",
              "      <td>0</td>\n",
              "      <td>0</td>\n",
              "      <td>0</td>\n",
              "      <td>-1.0</td>\n",
              "    </tr>\n",
              "    <tr>\n",
              "      <th>76801</th>\n",
              "      <td>2018</td>\n",
              "      <td>1</td>\n",
              "      <td>효돈동</td>\n",
              "      <td>-0.4</td>\n",
              "      <td>-0.7</td>\n",
              "      <td>0</td>\n",
              "      <td>1</td>\n",
              "      <td>0</td>\n",
              "      <td>0</td>\n",
              "      <td>1</td>\n",
              "      <td>0</td>\n",
              "      <td>0</td>\n",
              "      <td>0</td>\n",
              "      <td>0</td>\n",
              "      <td>-1.0</td>\n",
              "    </tr>\n",
              "    <tr>\n",
              "      <th>76802</th>\n",
              "      <td>2018</td>\n",
              "      <td>1</td>\n",
              "      <td>효돈동</td>\n",
              "      <td>-0.4</td>\n",
              "      <td>-0.7</td>\n",
              "      <td>0</td>\n",
              "      <td>0</td>\n",
              "      <td>1</td>\n",
              "      <td>0</td>\n",
              "      <td>1</td>\n",
              "      <td>0</td>\n",
              "      <td>0</td>\n",
              "      <td>0</td>\n",
              "      <td>0</td>\n",
              "      <td>-1.0</td>\n",
              "    </tr>\n",
              "    <tr>\n",
              "      <th>76803</th>\n",
              "      <td>2018</td>\n",
              "      <td>1</td>\n",
              "      <td>효돈동</td>\n",
              "      <td>-0.4</td>\n",
              "      <td>-0.7</td>\n",
              "      <td>0</td>\n",
              "      <td>0</td>\n",
              "      <td>1</td>\n",
              "      <td>0</td>\n",
              "      <td>1</td>\n",
              "      <td>0</td>\n",
              "      <td>0</td>\n",
              "      <td>0</td>\n",
              "      <td>0</td>\n",
              "      <td>-1.0</td>\n",
              "    </tr>\n",
              "  </tbody>\n",
              "</table>\n",
              "<p>72400 rows × 15 columns</p>\n",
              "</div>"
            ],
            "text/plain": [
              "       year  month emd_nm  resd_pop_cnt  visit_pop_cnt  time_a  time_d  \\\n",
              "0      2018      1    애월읍           0.2           -0.2       0       1   \n",
              "1      2018      1    애월읍           0.9            1.6       0       1   \n",
              "2      2018      1    애월읍           1.1           -0.5       0       1   \n",
              "3      2018      1    애월읍          -1.1           -0.8       0       1   \n",
              "4      2018      1    애월읍           0.8           -0.5       0       1   \n",
              "...     ...    ...    ...           ...            ...     ...     ...   \n",
              "76799  2018      1    효돈동          -0.4           -0.7       0       0   \n",
              "76800  2018      1    효돈동          -0.4           -0.7       0       1   \n",
              "76801  2018      1    효돈동          -0.4           -0.7       0       1   \n",
              "76802  2018      1    효돈동          -0.4           -0.7       0       0   \n",
              "76803  2018      1    효돈동          -0.4           -0.7       0       0   \n",
              "\n",
              "       time_m  time_n  nationality_As  nationality_ETC  nationality_Eur  \\\n",
              "0           0       0               0                0                0   \n",
              "1           0       0               1                0                0   \n",
              "2           0       0               1                0                0   \n",
              "3           0       0               1                0                0   \n",
              "4           0       0               1                0                0   \n",
              "...       ...     ...             ...              ...              ...   \n",
              "76799       0       1               1                0                0   \n",
              "76800       0       0               1                0                0   \n",
              "76801       0       0               1                0                0   \n",
              "76802       1       0               1                0                0   \n",
              "76803       1       0               1                0                0   \n",
              "\n",
              "       nationality_Na  nationality_Oce  sum(em_g)  \n",
              "0                   1                0       -2.0  \n",
              "1                   0                0       -2.0  \n",
              "2                   0                0       -2.0  \n",
              "3                   0                0       -2.0  \n",
              "4                   0                0       -2.0  \n",
              "...               ...              ...        ...  \n",
              "76799               0                0       -1.0  \n",
              "76800               0                0       -1.0  \n",
              "76801               0                0       -1.0  \n",
              "76802               0                0       -1.0  \n",
              "76803               0                0       -1.0  \n",
              "\n",
              "[72400 rows x 15 columns]"
            ]
          },
          "metadata": {},
          "execution_count": 41
        }
      ]
    },
    {
      "cell_type": "code",
      "metadata": {
        "colab": {
          "base_uri": "https://localhost:8080/"
        },
        "id": "tU1X4kIPHK9I",
        "outputId": "14d76fda-3f0e-4eca-9582-b43513c19290"
      },
      "source": [
        "np.corrcoef(longterm_food_merge['resd_pop_cnt'], longterm_food_merge['sum(em_g)'])[0, 1]"
      ],
      "execution_count": 42,
      "outputs": [
        {
          "output_type": "execute_result",
          "data": {
            "text/plain": [
              "-0.11442305958000512"
            ]
          },
          "metadata": {},
          "execution_count": 42
        }
      ]
    },
    {
      "cell_type": "code",
      "metadata": {
        "colab": {
          "base_uri": "https://localhost:8080/"
        },
        "id": "klfUI93-Gl70",
        "outputId": "f5bcb664-4f0e-43bf-b098-e02e49c8a328"
      },
      "source": [
        "np.corrcoef(longterm_food_merge['visit_pop_cnt'], longterm_food_merge['sum(em_g)'])[0, 1]"
      ],
      "execution_count": 43,
      "outputs": [
        {
          "output_type": "execute_result",
          "data": {
            "text/plain": [
              "-0.13260878867800674"
            ]
          },
          "metadata": {},
          "execution_count": 43
        }
      ]
    },
    {
      "cell_type": "markdown",
      "metadata": {
        "id": "NFpLe-5zyd4t"
      },
      "source": [
        "회귀분석"
      ]
    },
    {
      "cell_type": "code",
      "metadata": {
        "id": "GYnPkSZjWTVT"
      },
      "source": [
        "longterm_food_merge.rename(columns = {'sum(em_g)' : 'em_g'}, inplace = True)"
      ],
      "execution_count": 44,
      "outputs": []
    },
    {
      "cell_type": "code",
      "metadata": {
        "id": "YhGgf3Pdwleo",
        "colab": {
          "base_uri": "https://localhost:8080/",
          "height": 224
        },
        "outputId": "35de3ee4-9b48-42d0-99c2-d098108e3d9d"
      },
      "source": [
        "longterm_food_merge.head()"
      ],
      "execution_count": 45,
      "outputs": [
        {
          "output_type": "execute_result",
          "data": {
            "text/html": [
              "<div>\n",
              "<style scoped>\n",
              "    .dataframe tbody tr th:only-of-type {\n",
              "        vertical-align: middle;\n",
              "    }\n",
              "\n",
              "    .dataframe tbody tr th {\n",
              "        vertical-align: top;\n",
              "    }\n",
              "\n",
              "    .dataframe thead th {\n",
              "        text-align: right;\n",
              "    }\n",
              "</style>\n",
              "<table border=\"1\" class=\"dataframe\">\n",
              "  <thead>\n",
              "    <tr style=\"text-align: right;\">\n",
              "      <th></th>\n",
              "      <th>year</th>\n",
              "      <th>month</th>\n",
              "      <th>emd_nm</th>\n",
              "      <th>resd_pop_cnt</th>\n",
              "      <th>visit_pop_cnt</th>\n",
              "      <th>time_a</th>\n",
              "      <th>time_d</th>\n",
              "      <th>time_m</th>\n",
              "      <th>time_n</th>\n",
              "      <th>nationality_As</th>\n",
              "      <th>nationality_ETC</th>\n",
              "      <th>nationality_Eur</th>\n",
              "      <th>nationality_Na</th>\n",
              "      <th>nationality_Oce</th>\n",
              "      <th>em_g</th>\n",
              "    </tr>\n",
              "  </thead>\n",
              "  <tbody>\n",
              "    <tr>\n",
              "      <th>0</th>\n",
              "      <td>2018</td>\n",
              "      <td>1</td>\n",
              "      <td>애월읍</td>\n",
              "      <td>0.2</td>\n",
              "      <td>-0.2</td>\n",
              "      <td>0</td>\n",
              "      <td>1</td>\n",
              "      <td>0</td>\n",
              "      <td>0</td>\n",
              "      <td>0</td>\n",
              "      <td>0</td>\n",
              "      <td>0</td>\n",
              "      <td>1</td>\n",
              "      <td>0</td>\n",
              "      <td>-2.0</td>\n",
              "    </tr>\n",
              "    <tr>\n",
              "      <th>1</th>\n",
              "      <td>2018</td>\n",
              "      <td>1</td>\n",
              "      <td>애월읍</td>\n",
              "      <td>0.9</td>\n",
              "      <td>1.6</td>\n",
              "      <td>0</td>\n",
              "      <td>1</td>\n",
              "      <td>0</td>\n",
              "      <td>0</td>\n",
              "      <td>1</td>\n",
              "      <td>0</td>\n",
              "      <td>0</td>\n",
              "      <td>0</td>\n",
              "      <td>0</td>\n",
              "      <td>-2.0</td>\n",
              "    </tr>\n",
              "    <tr>\n",
              "      <th>2</th>\n",
              "      <td>2018</td>\n",
              "      <td>1</td>\n",
              "      <td>애월읍</td>\n",
              "      <td>1.1</td>\n",
              "      <td>-0.5</td>\n",
              "      <td>0</td>\n",
              "      <td>1</td>\n",
              "      <td>0</td>\n",
              "      <td>0</td>\n",
              "      <td>1</td>\n",
              "      <td>0</td>\n",
              "      <td>0</td>\n",
              "      <td>0</td>\n",
              "      <td>0</td>\n",
              "      <td>-2.0</td>\n",
              "    </tr>\n",
              "    <tr>\n",
              "      <th>3</th>\n",
              "      <td>2018</td>\n",
              "      <td>1</td>\n",
              "      <td>애월읍</td>\n",
              "      <td>-1.1</td>\n",
              "      <td>-0.8</td>\n",
              "      <td>0</td>\n",
              "      <td>1</td>\n",
              "      <td>0</td>\n",
              "      <td>0</td>\n",
              "      <td>1</td>\n",
              "      <td>0</td>\n",
              "      <td>0</td>\n",
              "      <td>0</td>\n",
              "      <td>0</td>\n",
              "      <td>-2.0</td>\n",
              "    </tr>\n",
              "    <tr>\n",
              "      <th>4</th>\n",
              "      <td>2018</td>\n",
              "      <td>1</td>\n",
              "      <td>애월읍</td>\n",
              "      <td>0.8</td>\n",
              "      <td>-0.5</td>\n",
              "      <td>0</td>\n",
              "      <td>1</td>\n",
              "      <td>0</td>\n",
              "      <td>0</td>\n",
              "      <td>1</td>\n",
              "      <td>0</td>\n",
              "      <td>0</td>\n",
              "      <td>0</td>\n",
              "      <td>0</td>\n",
              "      <td>-2.0</td>\n",
              "    </tr>\n",
              "  </tbody>\n",
              "</table>\n",
              "</div>"
            ],
            "text/plain": [
              "   year  month emd_nm  resd_pop_cnt  visit_pop_cnt  time_a  time_d  time_m  \\\n",
              "0  2018      1    애월읍           0.2           -0.2       0       1       0   \n",
              "1  2018      1    애월읍           0.9            1.6       0       1       0   \n",
              "2  2018      1    애월읍           1.1           -0.5       0       1       0   \n",
              "3  2018      1    애월읍          -1.1           -0.8       0       1       0   \n",
              "4  2018      1    애월읍           0.8           -0.5       0       1       0   \n",
              "\n",
              "   time_n  nationality_As  nationality_ETC  nationality_Eur  nationality_Na  \\\n",
              "0       0               0                0                0               1   \n",
              "1       0               1                0                0               0   \n",
              "2       0               1                0                0               0   \n",
              "3       0               1                0                0               0   \n",
              "4       0               1                0                0               0   \n",
              "\n",
              "   nationality_Oce  em_g  \n",
              "0                0  -2.0  \n",
              "1                0  -2.0  \n",
              "2                0  -2.0  \n",
              "3                0  -2.0  \n",
              "4                0  -2.0  "
            ]
          },
          "metadata": {},
          "execution_count": 45
        }
      ]
    },
    {
      "cell_type": "code",
      "metadata": {
        "id": "Ox6PDqMfUotH"
      },
      "source": [
        "result = smf.ols(formula = 'em_g ~ resd_pop_cnt + visit_pop_cnt + time_a + time_d + time_m + time_n + nationality_As + nationality_ETC + nationality_Eur + nationality_Na + nationality_Oce', data = longterm_food_merge).fit()"
      ],
      "execution_count": 55,
      "outputs": []
    },
    {
      "cell_type": "code",
      "metadata": {
        "colab": {
          "base_uri": "https://localhost:8080/",
          "height": 674
        },
        "id": "l3fNsL4kW704",
        "outputId": "4a3c38ea-a849-4e3c-bc2a-ca991339705e"
      },
      "source": [
        "result.summary()"
      ],
      "execution_count": 56,
      "outputs": [
        {
          "output_type": "execute_result",
          "data": {
            "text/html": [
              "<table class=\"simpletable\">\n",
              "<caption>OLS Regression Results</caption>\n",
              "<tr>\n",
              "  <th>Dep. Variable:</th>          <td>em_g</td>       <th>  R-squared:         </th>  <td>   0.036</td>  \n",
              "</tr>\n",
              "<tr>\n",
              "  <th>Model:</th>                   <td>OLS</td>       <th>  Adj. R-squared:    </th>  <td>   0.036</td>  \n",
              "</tr>\n",
              "<tr>\n",
              "  <th>Method:</th>             <td>Least Squares</td>  <th>  F-statistic:       </th>  <td>   322.1</td>  \n",
              "</tr>\n",
              "<tr>\n",
              "  <th>Date:</th>             <td>Tue, 24 Aug 2021</td> <th>  Prob (F-statistic):</th>   <td>  0.00</td>   \n",
              "</tr>\n",
              "<tr>\n",
              "  <th>Time:</th>                 <td>18:18:17</td>     <th>  Log-Likelihood:    </th> <td>-1.2636e+05</td>\n",
              "</tr>\n",
              "<tr>\n",
              "  <th>No. Observations:</th>      <td> 76804</td>      <th>  AIC:               </th>  <td>2.527e+05</td> \n",
              "</tr>\n",
              "<tr>\n",
              "  <th>Df Residuals:</th>          <td> 76794</td>      <th>  BIC:               </th>  <td>2.528e+05</td> \n",
              "</tr>\n",
              "<tr>\n",
              "  <th>Df Model:</th>              <td>     9</td>      <th>                     </th>      <td> </td>     \n",
              "</tr>\n",
              "<tr>\n",
              "  <th>Covariance Type:</th>      <td>nonrobust</td>    <th>                     </th>      <td> </td>     \n",
              "</tr>\n",
              "</table>\n",
              "<table class=\"simpletable\">\n",
              "<tr>\n",
              "         <td></td>            <th>coef</th>     <th>std err</th>      <th>t</th>      <th>P>|t|</th>  <th>[0.025</th>    <th>0.975]</th>  \n",
              "</tr>\n",
              "<tr>\n",
              "  <th>Intercept</th>       <td> -9.58e+11</td> <td>  5.5e+11</td> <td>   -1.743</td> <td> 0.081</td> <td>-2.04e+12</td> <td> 1.19e+11</td>\n",
              "</tr>\n",
              "<tr>\n",
              "  <th>resd_pop_cnt</th>    <td>   -0.0793</td> <td>    0.005</td> <td>  -15.050</td> <td> 0.000</td> <td>   -0.090</td> <td>   -0.069</td>\n",
              "</tr>\n",
              "<tr>\n",
              "  <th>visit_pop_cnt</th>   <td>   -0.0985</td> <td>    0.005</td> <td>  -18.058</td> <td> 0.000</td> <td>   -0.109</td> <td>   -0.088</td>\n",
              "</tr>\n",
              "<tr>\n",
              "  <th>time_a</th>          <td> 1.738e+12</td> <td> 9.97e+11</td> <td>    1.743</td> <td> 0.081</td> <td>-2.16e+11</td> <td> 3.69e+12</td>\n",
              "</tr>\n",
              "<tr>\n",
              "  <th>time_d</th>          <td> 1.738e+12</td> <td> 9.97e+11</td> <td>    1.743</td> <td> 0.081</td> <td>-2.16e+11</td> <td> 3.69e+12</td>\n",
              "</tr>\n",
              "<tr>\n",
              "  <th>time_m</th>          <td> 1.738e+12</td> <td> 9.97e+11</td> <td>    1.743</td> <td> 0.081</td> <td>-2.16e+11</td> <td> 3.69e+12</td>\n",
              "</tr>\n",
              "<tr>\n",
              "  <th>time_n</th>          <td> 1.738e+12</td> <td> 9.97e+11</td> <td>    1.743</td> <td> 0.081</td> <td>-2.16e+11</td> <td> 3.69e+12</td>\n",
              "</tr>\n",
              "<tr>\n",
              "  <th>nationality_As</th>  <td>-7.797e+11</td> <td> 4.47e+11</td> <td>   -1.743</td> <td> 0.081</td> <td>-1.66e+12</td> <td> 9.71e+10</td>\n",
              "</tr>\n",
              "<tr>\n",
              "  <th>nationality_ETC</th> <td>-7.797e+11</td> <td> 4.47e+11</td> <td>   -1.743</td> <td> 0.081</td> <td>-1.66e+12</td> <td> 9.71e+10</td>\n",
              "</tr>\n",
              "<tr>\n",
              "  <th>nationality_Eur</th> <td>-7.797e+11</td> <td> 4.47e+11</td> <td>   -1.743</td> <td> 0.081</td> <td>-1.66e+12</td> <td> 9.71e+10</td>\n",
              "</tr>\n",
              "<tr>\n",
              "  <th>nationality_Na</th>  <td>-7.797e+11</td> <td> 4.47e+11</td> <td>   -1.743</td> <td> 0.081</td> <td>-1.66e+12</td> <td> 9.71e+10</td>\n",
              "</tr>\n",
              "<tr>\n",
              "  <th>nationality_Oce</th> <td>-7.797e+11</td> <td> 4.47e+11</td> <td>   -1.743</td> <td> 0.081</td> <td>-1.66e+12</td> <td> 9.71e+10</td>\n",
              "</tr>\n",
              "</table>\n",
              "<table class=\"simpletable\">\n",
              "<tr>\n",
              "  <th>Omnibus:</th>       <td>15835.007</td> <th>  Durbin-Watson:     </th> <td>   0.078</td>\n",
              "</tr>\n",
              "<tr>\n",
              "  <th>Prob(Omnibus):</th>  <td> 0.000</td>   <th>  Jarque-Bera (JB):  </th> <td>3214.032</td>\n",
              "</tr>\n",
              "<tr>\n",
              "  <th>Skew:</th>           <td>-0.110</td>   <th>  Prob(JB):          </th> <td>    0.00</td>\n",
              "</tr>\n",
              "<tr>\n",
              "  <th>Kurtosis:</th>       <td> 2.022</td>   <th>  Cond. No.          </th> <td>2.43e+16</td>\n",
              "</tr>\n",
              "</table><br/><br/>Warnings:<br/>[1] Standard Errors assume that the covariance matrix of the errors is correctly specified.<br/>[2] The smallest eigenvalue is 2.45e-28. This might indicate that there are<br/>strong multicollinearity problems or that the design matrix is singular."
            ],
            "text/plain": [
              "<class 'statsmodels.iolib.summary.Summary'>\n",
              "\"\"\"\n",
              "                            OLS Regression Results                            \n",
              "==============================================================================\n",
              "Dep. Variable:                   em_g   R-squared:                       0.036\n",
              "Model:                            OLS   Adj. R-squared:                  0.036\n",
              "Method:                 Least Squares   F-statistic:                     322.1\n",
              "Date:                Tue, 24 Aug 2021   Prob (F-statistic):               0.00\n",
              "Time:                        18:18:17   Log-Likelihood:            -1.2636e+05\n",
              "No. Observations:               76804   AIC:                         2.527e+05\n",
              "Df Residuals:                   76794   BIC:                         2.528e+05\n",
              "Df Model:                           9                                         \n",
              "Covariance Type:            nonrobust                                         \n",
              "===================================================================================\n",
              "                      coef    std err          t      P>|t|      [0.025      0.975]\n",
              "-----------------------------------------------------------------------------------\n",
              "Intercept        -9.58e+11    5.5e+11     -1.743      0.081   -2.04e+12    1.19e+11\n",
              "resd_pop_cnt       -0.0793      0.005    -15.050      0.000      -0.090      -0.069\n",
              "visit_pop_cnt      -0.0985      0.005    -18.058      0.000      -0.109      -0.088\n",
              "time_a           1.738e+12   9.97e+11      1.743      0.081   -2.16e+11    3.69e+12\n",
              "time_d           1.738e+12   9.97e+11      1.743      0.081   -2.16e+11    3.69e+12\n",
              "time_m           1.738e+12   9.97e+11      1.743      0.081   -2.16e+11    3.69e+12\n",
              "time_n           1.738e+12   9.97e+11      1.743      0.081   -2.16e+11    3.69e+12\n",
              "nationality_As  -7.797e+11   4.47e+11     -1.743      0.081   -1.66e+12    9.71e+10\n",
              "nationality_ETC -7.797e+11   4.47e+11     -1.743      0.081   -1.66e+12    9.71e+10\n",
              "nationality_Eur -7.797e+11   4.47e+11     -1.743      0.081   -1.66e+12    9.71e+10\n",
              "nationality_Na  -7.797e+11   4.47e+11     -1.743      0.081   -1.66e+12    9.71e+10\n",
              "nationality_Oce -7.797e+11   4.47e+11     -1.743      0.081   -1.66e+12    9.71e+10\n",
              "==============================================================================\n",
              "Omnibus:                    15835.007   Durbin-Watson:                   0.078\n",
              "Prob(Omnibus):                  0.000   Jarque-Bera (JB):             3214.032\n",
              "Skew:                          -0.110   Prob(JB):                         0.00\n",
              "Kurtosis:                       2.022   Cond. No.                     2.43e+16\n",
              "==============================================================================\n",
              "\n",
              "Warnings:\n",
              "[1] Standard Errors assume that the covariance matrix of the errors is correctly specified.\n",
              "[2] The smallest eigenvalue is 2.45e-28. This might indicate that there are\n",
              "strong multicollinearity problems or that the design matrix is singular.\n",
              "\"\"\""
            ]
          },
          "metadata": {},
          "execution_count": 56
        }
      ]
    },
    {
      "cell_type": "code",
      "metadata": {
        "id": "yDGsTO6wYmlD"
      },
      "source": [
        ""
      ],
      "execution_count": null,
      "outputs": []
    }
  ]
}